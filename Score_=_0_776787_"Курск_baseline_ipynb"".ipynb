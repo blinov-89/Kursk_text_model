{
  "nbformat": 4,
  "nbformat_minor": 0,
  "metadata": {
    "colab": {
      "name": "Score = 0.776787 \"Курск_baseline.ipynb\"\"",
      "provenance": [],
      "collapsed_sections": [
        "WIFh_dnOhj1V",
        "60NotS9ehbO5",
        "6Y60HHS5jKeN"
      ],
      "toc_visible": true,
      "include_colab_link": true
    },
    "kernelspec": {
      "name": "python3",
      "display_name": "Python 3"
    },
    "language_info": {
      "name": "python"
    },
    "widgets": {
      "application/vnd.jupyter.widget-state+json": {
        "afc9e6f3268f4610820408f1ab5df8f7": {
          "model_module": "@jupyter-widgets/controls",
          "model_name": "HBoxModel",
          "model_module_version": "1.5.0",
          "state": {
            "_dom_classes": [],
            "_model_module": "@jupyter-widgets/controls",
            "_model_module_version": "1.5.0",
            "_model_name": "HBoxModel",
            "_view_count": null,
            "_view_module": "@jupyter-widgets/controls",
            "_view_module_version": "1.5.0",
            "_view_name": "HBoxView",
            "box_style": "",
            "children": [
              "IPY_MODEL_c317abde0113424aa3c55fcea1be3655",
              "IPY_MODEL_86623b7571da451299d7668e558dd8d4",
              "IPY_MODEL_4f8d2cdafcb94183a9719508f3a9f169"
            ],
            "layout": "IPY_MODEL_82f9d1848d63443d9f27f76462260086"
          }
        },
        "c317abde0113424aa3c55fcea1be3655": {
          "model_module": "@jupyter-widgets/controls",
          "model_name": "HTMLModel",
          "model_module_version": "1.5.0",
          "state": {
            "_dom_classes": [],
            "_model_module": "@jupyter-widgets/controls",
            "_model_module_version": "1.5.0",
            "_model_name": "HTMLModel",
            "_view_count": null,
            "_view_module": "@jupyter-widgets/controls",
            "_view_module_version": "1.5.0",
            "_view_name": "HTMLView",
            "description": "",
            "description_tooltip": null,
            "layout": "IPY_MODEL_395ed30f81ad497a9c2e43185e016691",
            "placeholder": "​",
            "style": "IPY_MODEL_8cc4259e53604056baeb84a333a965e2",
            "value": "100%"
          }
        },
        "86623b7571da451299d7668e558dd8d4": {
          "model_module": "@jupyter-widgets/controls",
          "model_name": "FloatProgressModel",
          "model_module_version": "1.5.0",
          "state": {
            "_dom_classes": [],
            "_model_module": "@jupyter-widgets/controls",
            "_model_module_version": "1.5.0",
            "_model_name": "FloatProgressModel",
            "_view_count": null,
            "_view_module": "@jupyter-widgets/controls",
            "_view_module_version": "1.5.0",
            "_view_name": "ProgressView",
            "bar_style": "success",
            "description": "",
            "description_tooltip": null,
            "layout": "IPY_MODEL_beb1b259ba6d47489aed5f6bddd811be",
            "max": 2000,
            "min": 0,
            "orientation": "horizontal",
            "style": "IPY_MODEL_1849ff09bf7f419d90580c5b02b20c4b",
            "value": 2000
          }
        },
        "4f8d2cdafcb94183a9719508f3a9f169": {
          "model_module": "@jupyter-widgets/controls",
          "model_name": "HTMLModel",
          "model_module_version": "1.5.0",
          "state": {
            "_dom_classes": [],
            "_model_module": "@jupyter-widgets/controls",
            "_model_module_version": "1.5.0",
            "_model_name": "HTMLModel",
            "_view_count": null,
            "_view_module": "@jupyter-widgets/controls",
            "_view_module_version": "1.5.0",
            "_view_name": "HTMLView",
            "description": "",
            "description_tooltip": null,
            "layout": "IPY_MODEL_0dc9fc578b334a5abe430438aef698eb",
            "placeholder": "​",
            "style": "IPY_MODEL_43426252b0b743e6957e7fe04ac2526b",
            "value": " 2000/2000 [00:06&lt;00:00, 344.90it/s]"
          }
        },
        "82f9d1848d63443d9f27f76462260086": {
          "model_module": "@jupyter-widgets/base",
          "model_name": "LayoutModel",
          "model_module_version": "1.2.0",
          "state": {
            "_model_module": "@jupyter-widgets/base",
            "_model_module_version": "1.2.0",
            "_model_name": "LayoutModel",
            "_view_count": null,
            "_view_module": "@jupyter-widgets/base",
            "_view_module_version": "1.2.0",
            "_view_name": "LayoutView",
            "align_content": null,
            "align_items": null,
            "align_self": null,
            "border": null,
            "bottom": null,
            "display": null,
            "flex": null,
            "flex_flow": null,
            "grid_area": null,
            "grid_auto_columns": null,
            "grid_auto_flow": null,
            "grid_auto_rows": null,
            "grid_column": null,
            "grid_gap": null,
            "grid_row": null,
            "grid_template_areas": null,
            "grid_template_columns": null,
            "grid_template_rows": null,
            "height": null,
            "justify_content": null,
            "justify_items": null,
            "left": null,
            "margin": null,
            "max_height": null,
            "max_width": null,
            "min_height": null,
            "min_width": null,
            "object_fit": null,
            "object_position": null,
            "order": null,
            "overflow": null,
            "overflow_x": null,
            "overflow_y": null,
            "padding": null,
            "right": null,
            "top": null,
            "visibility": null,
            "width": null
          }
        },
        "395ed30f81ad497a9c2e43185e016691": {
          "model_module": "@jupyter-widgets/base",
          "model_name": "LayoutModel",
          "model_module_version": "1.2.0",
          "state": {
            "_model_module": "@jupyter-widgets/base",
            "_model_module_version": "1.2.0",
            "_model_name": "LayoutModel",
            "_view_count": null,
            "_view_module": "@jupyter-widgets/base",
            "_view_module_version": "1.2.0",
            "_view_name": "LayoutView",
            "align_content": null,
            "align_items": null,
            "align_self": null,
            "border": null,
            "bottom": null,
            "display": null,
            "flex": null,
            "flex_flow": null,
            "grid_area": null,
            "grid_auto_columns": null,
            "grid_auto_flow": null,
            "grid_auto_rows": null,
            "grid_column": null,
            "grid_gap": null,
            "grid_row": null,
            "grid_template_areas": null,
            "grid_template_columns": null,
            "grid_template_rows": null,
            "height": null,
            "justify_content": null,
            "justify_items": null,
            "left": null,
            "margin": null,
            "max_height": null,
            "max_width": null,
            "min_height": null,
            "min_width": null,
            "object_fit": null,
            "object_position": null,
            "order": null,
            "overflow": null,
            "overflow_x": null,
            "overflow_y": null,
            "padding": null,
            "right": null,
            "top": null,
            "visibility": null,
            "width": null
          }
        },
        "8cc4259e53604056baeb84a333a965e2": {
          "model_module": "@jupyter-widgets/controls",
          "model_name": "DescriptionStyleModel",
          "model_module_version": "1.5.0",
          "state": {
            "_model_module": "@jupyter-widgets/controls",
            "_model_module_version": "1.5.0",
            "_model_name": "DescriptionStyleModel",
            "_view_count": null,
            "_view_module": "@jupyter-widgets/base",
            "_view_module_version": "1.2.0",
            "_view_name": "StyleView",
            "description_width": ""
          }
        },
        "beb1b259ba6d47489aed5f6bddd811be": {
          "model_module": "@jupyter-widgets/base",
          "model_name": "LayoutModel",
          "model_module_version": "1.2.0",
          "state": {
            "_model_module": "@jupyter-widgets/base",
            "_model_module_version": "1.2.0",
            "_model_name": "LayoutModel",
            "_view_count": null,
            "_view_module": "@jupyter-widgets/base",
            "_view_module_version": "1.2.0",
            "_view_name": "LayoutView",
            "align_content": null,
            "align_items": null,
            "align_self": null,
            "border": null,
            "bottom": null,
            "display": null,
            "flex": null,
            "flex_flow": null,
            "grid_area": null,
            "grid_auto_columns": null,
            "grid_auto_flow": null,
            "grid_auto_rows": null,
            "grid_column": null,
            "grid_gap": null,
            "grid_row": null,
            "grid_template_areas": null,
            "grid_template_columns": null,
            "grid_template_rows": null,
            "height": null,
            "justify_content": null,
            "justify_items": null,
            "left": null,
            "margin": null,
            "max_height": null,
            "max_width": null,
            "min_height": null,
            "min_width": null,
            "object_fit": null,
            "object_position": null,
            "order": null,
            "overflow": null,
            "overflow_x": null,
            "overflow_y": null,
            "padding": null,
            "right": null,
            "top": null,
            "visibility": null,
            "width": null
          }
        },
        "1849ff09bf7f419d90580c5b02b20c4b": {
          "model_module": "@jupyter-widgets/controls",
          "model_name": "ProgressStyleModel",
          "model_module_version": "1.5.0",
          "state": {
            "_model_module": "@jupyter-widgets/controls",
            "_model_module_version": "1.5.0",
            "_model_name": "ProgressStyleModel",
            "_view_count": null,
            "_view_module": "@jupyter-widgets/base",
            "_view_module_version": "1.2.0",
            "_view_name": "StyleView",
            "bar_color": null,
            "description_width": ""
          }
        },
        "0dc9fc578b334a5abe430438aef698eb": {
          "model_module": "@jupyter-widgets/base",
          "model_name": "LayoutModel",
          "model_module_version": "1.2.0",
          "state": {
            "_model_module": "@jupyter-widgets/base",
            "_model_module_version": "1.2.0",
            "_model_name": "LayoutModel",
            "_view_count": null,
            "_view_module": "@jupyter-widgets/base",
            "_view_module_version": "1.2.0",
            "_view_name": "LayoutView",
            "align_content": null,
            "align_items": null,
            "align_self": null,
            "border": null,
            "bottom": null,
            "display": null,
            "flex": null,
            "flex_flow": null,
            "grid_area": null,
            "grid_auto_columns": null,
            "grid_auto_flow": null,
            "grid_auto_rows": null,
            "grid_column": null,
            "grid_gap": null,
            "grid_row": null,
            "grid_template_areas": null,
            "grid_template_columns": null,
            "grid_template_rows": null,
            "height": null,
            "justify_content": null,
            "justify_items": null,
            "left": null,
            "margin": null,
            "max_height": null,
            "max_width": null,
            "min_height": null,
            "min_width": null,
            "object_fit": null,
            "object_position": null,
            "order": null,
            "overflow": null,
            "overflow_x": null,
            "overflow_y": null,
            "padding": null,
            "right": null,
            "top": null,
            "visibility": null,
            "width": null
          }
        },
        "43426252b0b743e6957e7fe04ac2526b": {
          "model_module": "@jupyter-widgets/controls",
          "model_name": "DescriptionStyleModel",
          "model_module_version": "1.5.0",
          "state": {
            "_model_module": "@jupyter-widgets/controls",
            "_model_module_version": "1.5.0",
            "_model_name": "DescriptionStyleModel",
            "_view_count": null,
            "_view_module": "@jupyter-widgets/base",
            "_view_module_version": "1.2.0",
            "_view_name": "StyleView",
            "description_width": ""
          }
        },
        "191a0b457df14a1eb762a17c5c639e23": {
          "model_module": "@jupyter-widgets/controls",
          "model_name": "HBoxModel",
          "model_module_version": "1.5.0",
          "state": {
            "_dom_classes": [],
            "_model_module": "@jupyter-widgets/controls",
            "_model_module_version": "1.5.0",
            "_model_name": "HBoxModel",
            "_view_count": null,
            "_view_module": "@jupyter-widgets/controls",
            "_view_module_version": "1.5.0",
            "_view_name": "HBoxView",
            "box_style": "",
            "children": [
              "IPY_MODEL_a4bce4ccc1a041628da2426ea9744dde",
              "IPY_MODEL_29c2f3b6178f4ce6bf29aa80f70b17ac",
              "IPY_MODEL_e2678ae1bdb1424ca6a01e3925c956f2"
            ],
            "layout": "IPY_MODEL_f8d5da618d02464a8bb0c8afd424da9b"
          }
        },
        "a4bce4ccc1a041628da2426ea9744dde": {
          "model_module": "@jupyter-widgets/controls",
          "model_name": "HTMLModel",
          "model_module_version": "1.5.0",
          "state": {
            "_dom_classes": [],
            "_model_module": "@jupyter-widgets/controls",
            "_model_module_version": "1.5.0",
            "_model_name": "HTMLModel",
            "_view_count": null,
            "_view_module": "@jupyter-widgets/controls",
            "_view_module_version": "1.5.0",
            "_view_name": "HTMLView",
            "description": "",
            "description_tooltip": null,
            "layout": "IPY_MODEL_05044186ea424414afe11f2b8fa2e72d",
            "placeholder": "​",
            "style": "IPY_MODEL_e364e028e4044ca3bdc7428d112c0632",
            "value": "100%"
          }
        },
        "29c2f3b6178f4ce6bf29aa80f70b17ac": {
          "model_module": "@jupyter-widgets/controls",
          "model_name": "FloatProgressModel",
          "model_module_version": "1.5.0",
          "state": {
            "_dom_classes": [],
            "_model_module": "@jupyter-widgets/controls",
            "_model_module_version": "1.5.0",
            "_model_name": "FloatProgressModel",
            "_view_count": null,
            "_view_module": "@jupyter-widgets/controls",
            "_view_module_version": "1.5.0",
            "_view_name": "ProgressView",
            "bar_style": "success",
            "description": "",
            "description_tooltip": null,
            "layout": "IPY_MODEL_2f3a2c242d2d49c9af7bf1c0f20b0b23",
            "max": 2000,
            "min": 0,
            "orientation": "horizontal",
            "style": "IPY_MODEL_3c6f7239bfce4680b1460686f13ca8e3",
            "value": 2000
          }
        },
        "e2678ae1bdb1424ca6a01e3925c956f2": {
          "model_module": "@jupyter-widgets/controls",
          "model_name": "HTMLModel",
          "model_module_version": "1.5.0",
          "state": {
            "_dom_classes": [],
            "_model_module": "@jupyter-widgets/controls",
            "_model_module_version": "1.5.0",
            "_model_name": "HTMLModel",
            "_view_count": null,
            "_view_module": "@jupyter-widgets/controls",
            "_view_module_version": "1.5.0",
            "_view_name": "HTMLView",
            "description": "",
            "description_tooltip": null,
            "layout": "IPY_MODEL_787a205eedec4d3bb420a86bf574e39b",
            "placeholder": "​",
            "style": "IPY_MODEL_f270592c8fe14508bcd6e4905d39fc2f",
            "value": " 2000/2000 [00:41&lt;00:00, 35.56it/s]"
          }
        },
        "f8d5da618d02464a8bb0c8afd424da9b": {
          "model_module": "@jupyter-widgets/base",
          "model_name": "LayoutModel",
          "model_module_version": "1.2.0",
          "state": {
            "_model_module": "@jupyter-widgets/base",
            "_model_module_version": "1.2.0",
            "_model_name": "LayoutModel",
            "_view_count": null,
            "_view_module": "@jupyter-widgets/base",
            "_view_module_version": "1.2.0",
            "_view_name": "LayoutView",
            "align_content": null,
            "align_items": null,
            "align_self": null,
            "border": null,
            "bottom": null,
            "display": null,
            "flex": null,
            "flex_flow": null,
            "grid_area": null,
            "grid_auto_columns": null,
            "grid_auto_flow": null,
            "grid_auto_rows": null,
            "grid_column": null,
            "grid_gap": null,
            "grid_row": null,
            "grid_template_areas": null,
            "grid_template_columns": null,
            "grid_template_rows": null,
            "height": null,
            "justify_content": null,
            "justify_items": null,
            "left": null,
            "margin": null,
            "max_height": null,
            "max_width": null,
            "min_height": null,
            "min_width": null,
            "object_fit": null,
            "object_position": null,
            "order": null,
            "overflow": null,
            "overflow_x": null,
            "overflow_y": null,
            "padding": null,
            "right": null,
            "top": null,
            "visibility": null,
            "width": null
          }
        },
        "05044186ea424414afe11f2b8fa2e72d": {
          "model_module": "@jupyter-widgets/base",
          "model_name": "LayoutModel",
          "model_module_version": "1.2.0",
          "state": {
            "_model_module": "@jupyter-widgets/base",
            "_model_module_version": "1.2.0",
            "_model_name": "LayoutModel",
            "_view_count": null,
            "_view_module": "@jupyter-widgets/base",
            "_view_module_version": "1.2.0",
            "_view_name": "LayoutView",
            "align_content": null,
            "align_items": null,
            "align_self": null,
            "border": null,
            "bottom": null,
            "display": null,
            "flex": null,
            "flex_flow": null,
            "grid_area": null,
            "grid_auto_columns": null,
            "grid_auto_flow": null,
            "grid_auto_rows": null,
            "grid_column": null,
            "grid_gap": null,
            "grid_row": null,
            "grid_template_areas": null,
            "grid_template_columns": null,
            "grid_template_rows": null,
            "height": null,
            "justify_content": null,
            "justify_items": null,
            "left": null,
            "margin": null,
            "max_height": null,
            "max_width": null,
            "min_height": null,
            "min_width": null,
            "object_fit": null,
            "object_position": null,
            "order": null,
            "overflow": null,
            "overflow_x": null,
            "overflow_y": null,
            "padding": null,
            "right": null,
            "top": null,
            "visibility": null,
            "width": null
          }
        },
        "e364e028e4044ca3bdc7428d112c0632": {
          "model_module": "@jupyter-widgets/controls",
          "model_name": "DescriptionStyleModel",
          "model_module_version": "1.5.0",
          "state": {
            "_model_module": "@jupyter-widgets/controls",
            "_model_module_version": "1.5.0",
            "_model_name": "DescriptionStyleModel",
            "_view_count": null,
            "_view_module": "@jupyter-widgets/base",
            "_view_module_version": "1.2.0",
            "_view_name": "StyleView",
            "description_width": ""
          }
        },
        "2f3a2c242d2d49c9af7bf1c0f20b0b23": {
          "model_module": "@jupyter-widgets/base",
          "model_name": "LayoutModel",
          "model_module_version": "1.2.0",
          "state": {
            "_model_module": "@jupyter-widgets/base",
            "_model_module_version": "1.2.0",
            "_model_name": "LayoutModel",
            "_view_count": null,
            "_view_module": "@jupyter-widgets/base",
            "_view_module_version": "1.2.0",
            "_view_name": "LayoutView",
            "align_content": null,
            "align_items": null,
            "align_self": null,
            "border": null,
            "bottom": null,
            "display": null,
            "flex": null,
            "flex_flow": null,
            "grid_area": null,
            "grid_auto_columns": null,
            "grid_auto_flow": null,
            "grid_auto_rows": null,
            "grid_column": null,
            "grid_gap": null,
            "grid_row": null,
            "grid_template_areas": null,
            "grid_template_columns": null,
            "grid_template_rows": null,
            "height": null,
            "justify_content": null,
            "justify_items": null,
            "left": null,
            "margin": null,
            "max_height": null,
            "max_width": null,
            "min_height": null,
            "min_width": null,
            "object_fit": null,
            "object_position": null,
            "order": null,
            "overflow": null,
            "overflow_x": null,
            "overflow_y": null,
            "padding": null,
            "right": null,
            "top": null,
            "visibility": null,
            "width": null
          }
        },
        "3c6f7239bfce4680b1460686f13ca8e3": {
          "model_module": "@jupyter-widgets/controls",
          "model_name": "ProgressStyleModel",
          "model_module_version": "1.5.0",
          "state": {
            "_model_module": "@jupyter-widgets/controls",
            "_model_module_version": "1.5.0",
            "_model_name": "ProgressStyleModel",
            "_view_count": null,
            "_view_module": "@jupyter-widgets/base",
            "_view_module_version": "1.2.0",
            "_view_name": "StyleView",
            "bar_color": null,
            "description_width": ""
          }
        },
        "787a205eedec4d3bb420a86bf574e39b": {
          "model_module": "@jupyter-widgets/base",
          "model_name": "LayoutModel",
          "model_module_version": "1.2.0",
          "state": {
            "_model_module": "@jupyter-widgets/base",
            "_model_module_version": "1.2.0",
            "_model_name": "LayoutModel",
            "_view_count": null,
            "_view_module": "@jupyter-widgets/base",
            "_view_module_version": "1.2.0",
            "_view_name": "LayoutView",
            "align_content": null,
            "align_items": null,
            "align_self": null,
            "border": null,
            "bottom": null,
            "display": null,
            "flex": null,
            "flex_flow": null,
            "grid_area": null,
            "grid_auto_columns": null,
            "grid_auto_flow": null,
            "grid_auto_rows": null,
            "grid_column": null,
            "grid_gap": null,
            "grid_row": null,
            "grid_template_areas": null,
            "grid_template_columns": null,
            "grid_template_rows": null,
            "height": null,
            "justify_content": null,
            "justify_items": null,
            "left": null,
            "margin": null,
            "max_height": null,
            "max_width": null,
            "min_height": null,
            "min_width": null,
            "object_fit": null,
            "object_position": null,
            "order": null,
            "overflow": null,
            "overflow_x": null,
            "overflow_y": null,
            "padding": null,
            "right": null,
            "top": null,
            "visibility": null,
            "width": null
          }
        },
        "f270592c8fe14508bcd6e4905d39fc2f": {
          "model_module": "@jupyter-widgets/controls",
          "model_name": "DescriptionStyleModel",
          "model_module_version": "1.5.0",
          "state": {
            "_model_module": "@jupyter-widgets/controls",
            "_model_module_version": "1.5.0",
            "_model_name": "DescriptionStyleModel",
            "_view_count": null,
            "_view_module": "@jupyter-widgets/base",
            "_view_module_version": "1.2.0",
            "_view_name": "StyleView",
            "description_width": ""
          }
        },
        "34f5fdd11e61412192c06313d8aa661d": {
          "model_module": "@jupyter-widgets/controls",
          "model_name": "HBoxModel",
          "model_module_version": "1.5.0",
          "state": {
            "_dom_classes": [],
            "_model_module": "@jupyter-widgets/controls",
            "_model_module_version": "1.5.0",
            "_model_name": "HBoxModel",
            "_view_count": null,
            "_view_module": "@jupyter-widgets/controls",
            "_view_module_version": "1.5.0",
            "_view_name": "HBoxView",
            "box_style": "",
            "children": [
              "IPY_MODEL_78052b0e26cd4c0aa159606591a418d1",
              "IPY_MODEL_38b560ce1df64aca9dfcad52005141d8",
              "IPY_MODEL_913e180586d742d494c01f3817fde228"
            ],
            "layout": "IPY_MODEL_3f43b717aff64133959bc2723529da75"
          }
        },
        "78052b0e26cd4c0aa159606591a418d1": {
          "model_module": "@jupyter-widgets/controls",
          "model_name": "HTMLModel",
          "model_module_version": "1.5.0",
          "state": {
            "_dom_classes": [],
            "_model_module": "@jupyter-widgets/controls",
            "_model_module_version": "1.5.0",
            "_model_name": "HTMLModel",
            "_view_count": null,
            "_view_module": "@jupyter-widgets/controls",
            "_view_module_version": "1.5.0",
            "_view_name": "HTMLView",
            "description": "",
            "description_tooltip": null,
            "layout": "IPY_MODEL_bd6ca95317314718a4309eaacc3de555",
            "placeholder": "​",
            "style": "IPY_MODEL_8ca9d977d34745d393b690e8b07d5b19",
            "value": "100%"
          }
        },
        "38b560ce1df64aca9dfcad52005141d8": {
          "model_module": "@jupyter-widgets/controls",
          "model_name": "FloatProgressModel",
          "model_module_version": "1.5.0",
          "state": {
            "_dom_classes": [],
            "_model_module": "@jupyter-widgets/controls",
            "_model_module_version": "1.5.0",
            "_model_name": "FloatProgressModel",
            "_view_count": null,
            "_view_module": "@jupyter-widgets/controls",
            "_view_module_version": "1.5.0",
            "_view_name": "ProgressView",
            "bar_style": "success",
            "description": "",
            "description_tooltip": null,
            "layout": "IPY_MODEL_4c80744642a44be1b75358c4e4b610a4",
            "max": 1000,
            "min": 0,
            "orientation": "horizontal",
            "style": "IPY_MODEL_338990e77b474bcf8c31d1d781d6165e",
            "value": 1000
          }
        },
        "913e180586d742d494c01f3817fde228": {
          "model_module": "@jupyter-widgets/controls",
          "model_name": "HTMLModel",
          "model_module_version": "1.5.0",
          "state": {
            "_dom_classes": [],
            "_model_module": "@jupyter-widgets/controls",
            "_model_module_version": "1.5.0",
            "_model_name": "HTMLModel",
            "_view_count": null,
            "_view_module": "@jupyter-widgets/controls",
            "_view_module_version": "1.5.0",
            "_view_name": "HTMLView",
            "description": "",
            "description_tooltip": null,
            "layout": "IPY_MODEL_c0481bd6ed4446a68f005b70d8d286aa",
            "placeholder": "​",
            "style": "IPY_MODEL_c76c304707ba4de0ae1c42a896a63de3",
            "value": " 1000/1000 [00:03&lt;00:00, 338.86it/s]"
          }
        },
        "3f43b717aff64133959bc2723529da75": {
          "model_module": "@jupyter-widgets/base",
          "model_name": "LayoutModel",
          "model_module_version": "1.2.0",
          "state": {
            "_model_module": "@jupyter-widgets/base",
            "_model_module_version": "1.2.0",
            "_model_name": "LayoutModel",
            "_view_count": null,
            "_view_module": "@jupyter-widgets/base",
            "_view_module_version": "1.2.0",
            "_view_name": "LayoutView",
            "align_content": null,
            "align_items": null,
            "align_self": null,
            "border": null,
            "bottom": null,
            "display": null,
            "flex": null,
            "flex_flow": null,
            "grid_area": null,
            "grid_auto_columns": null,
            "grid_auto_flow": null,
            "grid_auto_rows": null,
            "grid_column": null,
            "grid_gap": null,
            "grid_row": null,
            "grid_template_areas": null,
            "grid_template_columns": null,
            "grid_template_rows": null,
            "height": null,
            "justify_content": null,
            "justify_items": null,
            "left": null,
            "margin": null,
            "max_height": null,
            "max_width": null,
            "min_height": null,
            "min_width": null,
            "object_fit": null,
            "object_position": null,
            "order": null,
            "overflow": null,
            "overflow_x": null,
            "overflow_y": null,
            "padding": null,
            "right": null,
            "top": null,
            "visibility": null,
            "width": null
          }
        },
        "bd6ca95317314718a4309eaacc3de555": {
          "model_module": "@jupyter-widgets/base",
          "model_name": "LayoutModel",
          "model_module_version": "1.2.0",
          "state": {
            "_model_module": "@jupyter-widgets/base",
            "_model_module_version": "1.2.0",
            "_model_name": "LayoutModel",
            "_view_count": null,
            "_view_module": "@jupyter-widgets/base",
            "_view_module_version": "1.2.0",
            "_view_name": "LayoutView",
            "align_content": null,
            "align_items": null,
            "align_self": null,
            "border": null,
            "bottom": null,
            "display": null,
            "flex": null,
            "flex_flow": null,
            "grid_area": null,
            "grid_auto_columns": null,
            "grid_auto_flow": null,
            "grid_auto_rows": null,
            "grid_column": null,
            "grid_gap": null,
            "grid_row": null,
            "grid_template_areas": null,
            "grid_template_columns": null,
            "grid_template_rows": null,
            "height": null,
            "justify_content": null,
            "justify_items": null,
            "left": null,
            "margin": null,
            "max_height": null,
            "max_width": null,
            "min_height": null,
            "min_width": null,
            "object_fit": null,
            "object_position": null,
            "order": null,
            "overflow": null,
            "overflow_x": null,
            "overflow_y": null,
            "padding": null,
            "right": null,
            "top": null,
            "visibility": null,
            "width": null
          }
        },
        "8ca9d977d34745d393b690e8b07d5b19": {
          "model_module": "@jupyter-widgets/controls",
          "model_name": "DescriptionStyleModel",
          "model_module_version": "1.5.0",
          "state": {
            "_model_module": "@jupyter-widgets/controls",
            "_model_module_version": "1.5.0",
            "_model_name": "DescriptionStyleModel",
            "_view_count": null,
            "_view_module": "@jupyter-widgets/base",
            "_view_module_version": "1.2.0",
            "_view_name": "StyleView",
            "description_width": ""
          }
        },
        "4c80744642a44be1b75358c4e4b610a4": {
          "model_module": "@jupyter-widgets/base",
          "model_name": "LayoutModel",
          "model_module_version": "1.2.0",
          "state": {
            "_model_module": "@jupyter-widgets/base",
            "_model_module_version": "1.2.0",
            "_model_name": "LayoutModel",
            "_view_count": null,
            "_view_module": "@jupyter-widgets/base",
            "_view_module_version": "1.2.0",
            "_view_name": "LayoutView",
            "align_content": null,
            "align_items": null,
            "align_self": null,
            "border": null,
            "bottom": null,
            "display": null,
            "flex": null,
            "flex_flow": null,
            "grid_area": null,
            "grid_auto_columns": null,
            "grid_auto_flow": null,
            "grid_auto_rows": null,
            "grid_column": null,
            "grid_gap": null,
            "grid_row": null,
            "grid_template_areas": null,
            "grid_template_columns": null,
            "grid_template_rows": null,
            "height": null,
            "justify_content": null,
            "justify_items": null,
            "left": null,
            "margin": null,
            "max_height": null,
            "max_width": null,
            "min_height": null,
            "min_width": null,
            "object_fit": null,
            "object_position": null,
            "order": null,
            "overflow": null,
            "overflow_x": null,
            "overflow_y": null,
            "padding": null,
            "right": null,
            "top": null,
            "visibility": null,
            "width": null
          }
        },
        "338990e77b474bcf8c31d1d781d6165e": {
          "model_module": "@jupyter-widgets/controls",
          "model_name": "ProgressStyleModel",
          "model_module_version": "1.5.0",
          "state": {
            "_model_module": "@jupyter-widgets/controls",
            "_model_module_version": "1.5.0",
            "_model_name": "ProgressStyleModel",
            "_view_count": null,
            "_view_module": "@jupyter-widgets/base",
            "_view_module_version": "1.2.0",
            "_view_name": "StyleView",
            "bar_color": null,
            "description_width": ""
          }
        },
        "c0481bd6ed4446a68f005b70d8d286aa": {
          "model_module": "@jupyter-widgets/base",
          "model_name": "LayoutModel",
          "model_module_version": "1.2.0",
          "state": {
            "_model_module": "@jupyter-widgets/base",
            "_model_module_version": "1.2.0",
            "_model_name": "LayoutModel",
            "_view_count": null,
            "_view_module": "@jupyter-widgets/base",
            "_view_module_version": "1.2.0",
            "_view_name": "LayoutView",
            "align_content": null,
            "align_items": null,
            "align_self": null,
            "border": null,
            "bottom": null,
            "display": null,
            "flex": null,
            "flex_flow": null,
            "grid_area": null,
            "grid_auto_columns": null,
            "grid_auto_flow": null,
            "grid_auto_rows": null,
            "grid_column": null,
            "grid_gap": null,
            "grid_row": null,
            "grid_template_areas": null,
            "grid_template_columns": null,
            "grid_template_rows": null,
            "height": null,
            "justify_content": null,
            "justify_items": null,
            "left": null,
            "margin": null,
            "max_height": null,
            "max_width": null,
            "min_height": null,
            "min_width": null,
            "object_fit": null,
            "object_position": null,
            "order": null,
            "overflow": null,
            "overflow_x": null,
            "overflow_y": null,
            "padding": null,
            "right": null,
            "top": null,
            "visibility": null,
            "width": null
          }
        },
        "c76c304707ba4de0ae1c42a896a63de3": {
          "model_module": "@jupyter-widgets/controls",
          "model_name": "DescriptionStyleModel",
          "model_module_version": "1.5.0",
          "state": {
            "_model_module": "@jupyter-widgets/controls",
            "_model_module_version": "1.5.0",
            "_model_name": "DescriptionStyleModel",
            "_view_count": null,
            "_view_module": "@jupyter-widgets/base",
            "_view_module_version": "1.2.0",
            "_view_name": "StyleView",
            "description_width": ""
          }
        },
        "a627984e528c46d585a8348bb6212c58": {
          "model_module": "@jupyter-widgets/controls",
          "model_name": "HBoxModel",
          "model_module_version": "1.5.0",
          "state": {
            "_dom_classes": [],
            "_model_module": "@jupyter-widgets/controls",
            "_model_module_version": "1.5.0",
            "_model_name": "HBoxModel",
            "_view_count": null,
            "_view_module": "@jupyter-widgets/controls",
            "_view_module_version": "1.5.0",
            "_view_name": "HBoxView",
            "box_style": "",
            "children": [
              "IPY_MODEL_19bbb7eb395a40539546d57877e7101c",
              "IPY_MODEL_15ba5438bebd4995a8f518a2a04d2129",
              "IPY_MODEL_1d951ae0b0a4499483eafd7845869d9c"
            ],
            "layout": "IPY_MODEL_1737226f9ce8433faa55ea6124bf69fc"
          }
        },
        "19bbb7eb395a40539546d57877e7101c": {
          "model_module": "@jupyter-widgets/controls",
          "model_name": "HTMLModel",
          "model_module_version": "1.5.0",
          "state": {
            "_dom_classes": [],
            "_model_module": "@jupyter-widgets/controls",
            "_model_module_version": "1.5.0",
            "_model_name": "HTMLModel",
            "_view_count": null,
            "_view_module": "@jupyter-widgets/controls",
            "_view_module_version": "1.5.0",
            "_view_name": "HTMLView",
            "description": "",
            "description_tooltip": null,
            "layout": "IPY_MODEL_6ddcf6bf3e6041d6850456ec9aeacb08",
            "placeholder": "​",
            "style": "IPY_MODEL_bede3f30be984f12b4ff4f3970a1c369",
            "value": "100%"
          }
        },
        "15ba5438bebd4995a8f518a2a04d2129": {
          "model_module": "@jupyter-widgets/controls",
          "model_name": "FloatProgressModel",
          "model_module_version": "1.5.0",
          "state": {
            "_dom_classes": [],
            "_model_module": "@jupyter-widgets/controls",
            "_model_module_version": "1.5.0",
            "_model_name": "FloatProgressModel",
            "_view_count": null,
            "_view_module": "@jupyter-widgets/controls",
            "_view_module_version": "1.5.0",
            "_view_name": "ProgressView",
            "bar_style": "success",
            "description": "",
            "description_tooltip": null,
            "layout": "IPY_MODEL_a529da0325aa4eaf93ea6942f4772a1e",
            "max": 1000,
            "min": 0,
            "orientation": "horizontal",
            "style": "IPY_MODEL_af4f27663d8e454fb5365d61355a3ad9",
            "value": 1000
          }
        },
        "1d951ae0b0a4499483eafd7845869d9c": {
          "model_module": "@jupyter-widgets/controls",
          "model_name": "HTMLModel",
          "model_module_version": "1.5.0",
          "state": {
            "_dom_classes": [],
            "_model_module": "@jupyter-widgets/controls",
            "_model_module_version": "1.5.0",
            "_model_name": "HTMLModel",
            "_view_count": null,
            "_view_module": "@jupyter-widgets/controls",
            "_view_module_version": "1.5.0",
            "_view_name": "HTMLView",
            "description": "",
            "description_tooltip": null,
            "layout": "IPY_MODEL_d25a2a570f494c6a922af34d6ffaa188",
            "placeholder": "​",
            "style": "IPY_MODEL_4cacb13de35345e895e2f695602326b2",
            "value": " 1000/1000 [00:11&lt;00:00, 105.10it/s]"
          }
        },
        "1737226f9ce8433faa55ea6124bf69fc": {
          "model_module": "@jupyter-widgets/base",
          "model_name": "LayoutModel",
          "model_module_version": "1.2.0",
          "state": {
            "_model_module": "@jupyter-widgets/base",
            "_model_module_version": "1.2.0",
            "_model_name": "LayoutModel",
            "_view_count": null,
            "_view_module": "@jupyter-widgets/base",
            "_view_module_version": "1.2.0",
            "_view_name": "LayoutView",
            "align_content": null,
            "align_items": null,
            "align_self": null,
            "border": null,
            "bottom": null,
            "display": null,
            "flex": null,
            "flex_flow": null,
            "grid_area": null,
            "grid_auto_columns": null,
            "grid_auto_flow": null,
            "grid_auto_rows": null,
            "grid_column": null,
            "grid_gap": null,
            "grid_row": null,
            "grid_template_areas": null,
            "grid_template_columns": null,
            "grid_template_rows": null,
            "height": null,
            "justify_content": null,
            "justify_items": null,
            "left": null,
            "margin": null,
            "max_height": null,
            "max_width": null,
            "min_height": null,
            "min_width": null,
            "object_fit": null,
            "object_position": null,
            "order": null,
            "overflow": null,
            "overflow_x": null,
            "overflow_y": null,
            "padding": null,
            "right": null,
            "top": null,
            "visibility": null,
            "width": null
          }
        },
        "6ddcf6bf3e6041d6850456ec9aeacb08": {
          "model_module": "@jupyter-widgets/base",
          "model_name": "LayoutModel",
          "model_module_version": "1.2.0",
          "state": {
            "_model_module": "@jupyter-widgets/base",
            "_model_module_version": "1.2.0",
            "_model_name": "LayoutModel",
            "_view_count": null,
            "_view_module": "@jupyter-widgets/base",
            "_view_module_version": "1.2.0",
            "_view_name": "LayoutView",
            "align_content": null,
            "align_items": null,
            "align_self": null,
            "border": null,
            "bottom": null,
            "display": null,
            "flex": null,
            "flex_flow": null,
            "grid_area": null,
            "grid_auto_columns": null,
            "grid_auto_flow": null,
            "grid_auto_rows": null,
            "grid_column": null,
            "grid_gap": null,
            "grid_row": null,
            "grid_template_areas": null,
            "grid_template_columns": null,
            "grid_template_rows": null,
            "height": null,
            "justify_content": null,
            "justify_items": null,
            "left": null,
            "margin": null,
            "max_height": null,
            "max_width": null,
            "min_height": null,
            "min_width": null,
            "object_fit": null,
            "object_position": null,
            "order": null,
            "overflow": null,
            "overflow_x": null,
            "overflow_y": null,
            "padding": null,
            "right": null,
            "top": null,
            "visibility": null,
            "width": null
          }
        },
        "bede3f30be984f12b4ff4f3970a1c369": {
          "model_module": "@jupyter-widgets/controls",
          "model_name": "DescriptionStyleModel",
          "model_module_version": "1.5.0",
          "state": {
            "_model_module": "@jupyter-widgets/controls",
            "_model_module_version": "1.5.0",
            "_model_name": "DescriptionStyleModel",
            "_view_count": null,
            "_view_module": "@jupyter-widgets/base",
            "_view_module_version": "1.2.0",
            "_view_name": "StyleView",
            "description_width": ""
          }
        },
        "a529da0325aa4eaf93ea6942f4772a1e": {
          "model_module": "@jupyter-widgets/base",
          "model_name": "LayoutModel",
          "model_module_version": "1.2.0",
          "state": {
            "_model_module": "@jupyter-widgets/base",
            "_model_module_version": "1.2.0",
            "_model_name": "LayoutModel",
            "_view_count": null,
            "_view_module": "@jupyter-widgets/base",
            "_view_module_version": "1.2.0",
            "_view_name": "LayoutView",
            "align_content": null,
            "align_items": null,
            "align_self": null,
            "border": null,
            "bottom": null,
            "display": null,
            "flex": null,
            "flex_flow": null,
            "grid_area": null,
            "grid_auto_columns": null,
            "grid_auto_flow": null,
            "grid_auto_rows": null,
            "grid_column": null,
            "grid_gap": null,
            "grid_row": null,
            "grid_template_areas": null,
            "grid_template_columns": null,
            "grid_template_rows": null,
            "height": null,
            "justify_content": null,
            "justify_items": null,
            "left": null,
            "margin": null,
            "max_height": null,
            "max_width": null,
            "min_height": null,
            "min_width": null,
            "object_fit": null,
            "object_position": null,
            "order": null,
            "overflow": null,
            "overflow_x": null,
            "overflow_y": null,
            "padding": null,
            "right": null,
            "top": null,
            "visibility": null,
            "width": null
          }
        },
        "af4f27663d8e454fb5365d61355a3ad9": {
          "model_module": "@jupyter-widgets/controls",
          "model_name": "ProgressStyleModel",
          "model_module_version": "1.5.0",
          "state": {
            "_model_module": "@jupyter-widgets/controls",
            "_model_module_version": "1.5.0",
            "_model_name": "ProgressStyleModel",
            "_view_count": null,
            "_view_module": "@jupyter-widgets/base",
            "_view_module_version": "1.2.0",
            "_view_name": "StyleView",
            "bar_color": null,
            "description_width": ""
          }
        },
        "d25a2a570f494c6a922af34d6ffaa188": {
          "model_module": "@jupyter-widgets/base",
          "model_name": "LayoutModel",
          "model_module_version": "1.2.0",
          "state": {
            "_model_module": "@jupyter-widgets/base",
            "_model_module_version": "1.2.0",
            "_model_name": "LayoutModel",
            "_view_count": null,
            "_view_module": "@jupyter-widgets/base",
            "_view_module_version": "1.2.0",
            "_view_name": "LayoutView",
            "align_content": null,
            "align_items": null,
            "align_self": null,
            "border": null,
            "bottom": null,
            "display": null,
            "flex": null,
            "flex_flow": null,
            "grid_area": null,
            "grid_auto_columns": null,
            "grid_auto_flow": null,
            "grid_auto_rows": null,
            "grid_column": null,
            "grid_gap": null,
            "grid_row": null,
            "grid_template_areas": null,
            "grid_template_columns": null,
            "grid_template_rows": null,
            "height": null,
            "justify_content": null,
            "justify_items": null,
            "left": null,
            "margin": null,
            "max_height": null,
            "max_width": null,
            "min_height": null,
            "min_width": null,
            "object_fit": null,
            "object_position": null,
            "order": null,
            "overflow": null,
            "overflow_x": null,
            "overflow_y": null,
            "padding": null,
            "right": null,
            "top": null,
            "visibility": null,
            "width": null
          }
        },
        "4cacb13de35345e895e2f695602326b2": {
          "model_module": "@jupyter-widgets/controls",
          "model_name": "DescriptionStyleModel",
          "model_module_version": "1.5.0",
          "state": {
            "_model_module": "@jupyter-widgets/controls",
            "_model_module_version": "1.5.0",
            "_model_name": "DescriptionStyleModel",
            "_view_count": null,
            "_view_module": "@jupyter-widgets/base",
            "_view_module_version": "1.2.0",
            "_view_name": "StyleView",
            "description_width": ""
          }
        }
      }
    },
    "accelerator": "GPU",
    "gpuClass": "standard"
  },
  "cells": [
    {
      "cell_type": "markdown",
      "metadata": {
        "id": "view-in-github",
        "colab_type": "text"
      },
      "source": [
        "<a href=\"https://colab.research.google.com/github/blinov-89/Kursk_text_model/blob/main/Score_%3D_0_776787_%22%D0%9A%D1%83%D1%80%D1%81%D0%BA_baseline_ipynb%22%22.ipynb\" target=\"_parent\"><img src=\"https://colab.research.google.com/assets/colab-badge.svg\" alt=\"Open In Colab\"/></a>"
      ]
    },
    {
      "cell_type": "markdown",
      "source": [
        "## Загрузим нужные библиотеки"
      ],
      "metadata": {
        "id": "fnE1_J-4dhSR"
      }
    },
    {
      "cell_type": "code",
      "source": [
        "import pandas as pd\n",
        "import seaborn as sns\n",
        "import matplotlib.pyplot as plt\n",
        "from sklearn.model_selection import train_test_split\n",
        "from sklearn.ensemble import RandomForestClassifier\n",
        "\n",
        "%matplotlib inline"
      ],
      "metadata": {
        "id": "uaKzqUxsdjDa"
      },
      "execution_count": 1,
      "outputs": []
    },
    {
      "cell_type": "code",
      "source": [
        "import pandas as pd                 # Pandas — библиотека Python для обработки и анализа структурированных данных\n",
        "import seaborn as sns               # Seaborn — библиотека для создания статистических графиков\n",
        "from tqdm.auto import tqdm, trange  # Tqdm — библиотека для создания индикаторов выполнения"
      ],
      "metadata": {
        "id": "5oayZ338ICW_"
      },
      "execution_count": 2,
      "outputs": []
    },
    {
      "cell_type": "code",
      "source": [
        "from google.colab import drive\n",
        "drive.mount('/content/drive')"
      ],
      "metadata": {
        "colab": {
          "base_uri": "https://localhost:8080/"
        },
        "id": "xRRHPHVXGu9e",
        "outputId": "4878bce5-f0ae-4912-f8a4-037ae7b5ecc0"
      },
      "execution_count": 3,
      "outputs": [
        {
          "output_type": "stream",
          "name": "stdout",
          "text": [
            "Mounted at /content/drive\n"
          ]
        }
      ]
    },
    {
      "cell_type": "code",
      "execution_count": 4,
      "metadata": {
        "id": "2scLoULoXkT0"
      },
      "outputs": [],
      "source": [
        "df = pd.read_csv(\"/content/drive/MyDrive/Курск ИИ/train_dataset_train.csv\")"
      ]
    },
    {
      "cell_type": "markdown",
      "source": [
        "## Рассмотрим датасет по ближе"
      ],
      "metadata": {
        "id": "WcxAsO_Md05t"
      }
    },
    {
      "cell_type": "code",
      "source": [
        "df.head(3)"
      ],
      "metadata": {
        "colab": {
          "base_uri": "https://localhost:8080/",
          "height": 0
        },
        "id": "I16XfuOpXwIy",
        "outputId": "64c80c6f-6689-46bd-eb60-26fd8533179b"
      },
      "execution_count": 5,
      "outputs": [
        {
          "output_type": "execute_result",
          "data": {
            "text/plain": [
              "     id                                    Текст Сообщения  \\\n",
              "0  2246  Помогите начальник Льговского рэс не реагирует...   \n",
              "1   380  <p>По фасаду дома по адресу ул. Урицкого 22 пр...   \n",
              "2  2240  Агресивные собаки. На радуге там стая из подро...   \n",
              "\n",
              "                                            Тематика  \\\n",
              "0  Нарушения, связанные с содержанием электросети...   \n",
              "1                                  Аварийные деревья   \n",
              "2                              Безнадзорные животные   \n",
              "\n",
              "                Ответственное лицо  Категория  \n",
              "0  Администрация Льговского района          3  \n",
              "1      Администрация города Курска          3  \n",
              "2      Администрация города Курска          1  "
            ],
            "text/html": [
              "\n",
              "  <div id=\"df-34d8a191-dd5b-406d-b1c2-1a0f95c9b4a2\">\n",
              "    <div class=\"colab-df-container\">\n",
              "      <div>\n",
              "<style scoped>\n",
              "    .dataframe tbody tr th:only-of-type {\n",
              "        vertical-align: middle;\n",
              "    }\n",
              "\n",
              "    .dataframe tbody tr th {\n",
              "        vertical-align: top;\n",
              "    }\n",
              "\n",
              "    .dataframe thead th {\n",
              "        text-align: right;\n",
              "    }\n",
              "</style>\n",
              "<table border=\"1\" class=\"dataframe\">\n",
              "  <thead>\n",
              "    <tr style=\"text-align: right;\">\n",
              "      <th></th>\n",
              "      <th>id</th>\n",
              "      <th>Текст Сообщения</th>\n",
              "      <th>Тематика</th>\n",
              "      <th>Ответственное лицо</th>\n",
              "      <th>Категория</th>\n",
              "    </tr>\n",
              "  </thead>\n",
              "  <tbody>\n",
              "    <tr>\n",
              "      <th>0</th>\n",
              "      <td>2246</td>\n",
              "      <td>Помогите начальник Льговского рэс не реагирует...</td>\n",
              "      <td>Нарушения, связанные с содержанием электросети...</td>\n",
              "      <td>Администрация Льговского района</td>\n",
              "      <td>3</td>\n",
              "    </tr>\n",
              "    <tr>\n",
              "      <th>1</th>\n",
              "      <td>380</td>\n",
              "      <td>&lt;p&gt;По фасаду дома по адресу ул. Урицкого 22 пр...</td>\n",
              "      <td>Аварийные деревья</td>\n",
              "      <td>Администрация города Курска</td>\n",
              "      <td>3</td>\n",
              "    </tr>\n",
              "    <tr>\n",
              "      <th>2</th>\n",
              "      <td>2240</td>\n",
              "      <td>Агресивные собаки. На радуге там стая из подро...</td>\n",
              "      <td>Безнадзорные животные</td>\n",
              "      <td>Администрация города Курска</td>\n",
              "      <td>1</td>\n",
              "    </tr>\n",
              "  </tbody>\n",
              "</table>\n",
              "</div>\n",
              "      <button class=\"colab-df-convert\" onclick=\"convertToInteractive('df-34d8a191-dd5b-406d-b1c2-1a0f95c9b4a2')\"\n",
              "              title=\"Convert this dataframe to an interactive table.\"\n",
              "              style=\"display:none;\">\n",
              "        \n",
              "  <svg xmlns=\"http://www.w3.org/2000/svg\" height=\"24px\"viewBox=\"0 0 24 24\"\n",
              "       width=\"24px\">\n",
              "    <path d=\"M0 0h24v24H0V0z\" fill=\"none\"/>\n",
              "    <path d=\"M18.56 5.44l.94 2.06.94-2.06 2.06-.94-2.06-.94-.94-2.06-.94 2.06-2.06.94zm-11 1L8.5 8.5l.94-2.06 2.06-.94-2.06-.94L8.5 2.5l-.94 2.06-2.06.94zm10 10l.94 2.06.94-2.06 2.06-.94-2.06-.94-.94-2.06-.94 2.06-2.06.94z\"/><path d=\"M17.41 7.96l-1.37-1.37c-.4-.4-.92-.59-1.43-.59-.52 0-1.04.2-1.43.59L10.3 9.45l-7.72 7.72c-.78.78-.78 2.05 0 2.83L4 21.41c.39.39.9.59 1.41.59.51 0 1.02-.2 1.41-.59l7.78-7.78 2.81-2.81c.8-.78.8-2.07 0-2.86zM5.41 20L4 18.59l7.72-7.72 1.47 1.35L5.41 20z\"/>\n",
              "  </svg>\n",
              "      </button>\n",
              "      \n",
              "  <style>\n",
              "    .colab-df-container {\n",
              "      display:flex;\n",
              "      flex-wrap:wrap;\n",
              "      gap: 12px;\n",
              "    }\n",
              "\n",
              "    .colab-df-convert {\n",
              "      background-color: #E8F0FE;\n",
              "      border: none;\n",
              "      border-radius: 50%;\n",
              "      cursor: pointer;\n",
              "      display: none;\n",
              "      fill: #1967D2;\n",
              "      height: 32px;\n",
              "      padding: 0 0 0 0;\n",
              "      width: 32px;\n",
              "    }\n",
              "\n",
              "    .colab-df-convert:hover {\n",
              "      background-color: #E2EBFA;\n",
              "      box-shadow: 0px 1px 2px rgba(60, 64, 67, 0.3), 0px 1px 3px 1px rgba(60, 64, 67, 0.15);\n",
              "      fill: #174EA6;\n",
              "    }\n",
              "\n",
              "    [theme=dark] .colab-df-convert {\n",
              "      background-color: #3B4455;\n",
              "      fill: #D2E3FC;\n",
              "    }\n",
              "\n",
              "    [theme=dark] .colab-df-convert:hover {\n",
              "      background-color: #434B5C;\n",
              "      box-shadow: 0px 1px 3px 1px rgba(0, 0, 0, 0.15);\n",
              "      filter: drop-shadow(0px 1px 2px rgba(0, 0, 0, 0.3));\n",
              "      fill: #FFFFFF;\n",
              "    }\n",
              "  </style>\n",
              "\n",
              "      <script>\n",
              "        const buttonEl =\n",
              "          document.querySelector('#df-34d8a191-dd5b-406d-b1c2-1a0f95c9b4a2 button.colab-df-convert');\n",
              "        buttonEl.style.display =\n",
              "          google.colab.kernel.accessAllowed ? 'block' : 'none';\n",
              "\n",
              "        async function convertToInteractive(key) {\n",
              "          const element = document.querySelector('#df-34d8a191-dd5b-406d-b1c2-1a0f95c9b4a2');\n",
              "          const dataTable =\n",
              "            await google.colab.kernel.invokeFunction('convertToInteractive',\n",
              "                                                     [key], {});\n",
              "          if (!dataTable) return;\n",
              "\n",
              "          const docLinkHtml = 'Like what you see? Visit the ' +\n",
              "            '<a target=\"_blank\" href=https://colab.research.google.com/notebooks/data_table.ipynb>data table notebook</a>'\n",
              "            + ' to learn more about interactive tables.';\n",
              "          element.innerHTML = '';\n",
              "          dataTable['output_type'] = 'display_data';\n",
              "          await google.colab.output.renderOutput(dataTable, element);\n",
              "          const docLink = document.createElement('div');\n",
              "          docLink.innerHTML = docLinkHtml;\n",
              "          element.appendChild(docLink);\n",
              "        }\n",
              "      </script>\n",
              "    </div>\n",
              "  </div>\n",
              "  "
            ]
          },
          "metadata": {},
          "execution_count": 5
        }
      ]
    },
    {
      "cell_type": "code",
      "source": [
        "df.info()"
      ],
      "metadata": {
        "colab": {
          "base_uri": "https://localhost:8080/"
        },
        "id": "czcOBmDFduKQ",
        "outputId": "40ab1955-0203-43c8-daf6-e50debf74137"
      },
      "execution_count": 6,
      "outputs": [
        {
          "output_type": "stream",
          "name": "stdout",
          "text": [
            "<class 'pandas.core.frame.DataFrame'>\n",
            "RangeIndex: 2000 entries, 0 to 1999\n",
            "Data columns (total 5 columns):\n",
            " #   Column              Non-Null Count  Dtype \n",
            "---  ------              --------------  ----- \n",
            " 0   id                  2000 non-null   int64 \n",
            " 1   Текст Сообщения     2000 non-null   object\n",
            " 2   Тематика            2000 non-null   object\n",
            " 3   Ответственное лицо  2000 non-null   object\n",
            " 4   Категория           2000 non-null   int64 \n",
            "dtypes: int64(2), object(3)\n",
            "memory usage: 78.2+ KB\n"
          ]
        }
      ]
    },
    {
      "cell_type": "code",
      "source": [
        "print(df['Категория'].unique(), len(df['Категория'].unique())) "
      ],
      "metadata": {
        "colab": {
          "base_uri": "https://localhost:8080/"
        },
        "id": "TWnK2rg5IXZH",
        "outputId": "129dcdde-fd51-40e8-b5db-e3f0769fc4e0"
      },
      "execution_count": 7,
      "outputs": [
        {
          "output_type": "stream",
          "name": "stdout",
          "text": [
            "[ 3  1 16  0  6  8  4 13 10 11 14  7  5 15  2  9 12] 17\n"
          ]
        }
      ]
    },
    {
      "cell_type": "code",
      "source": [
        "df['Категория'].value_counts()"
      ],
      "metadata": {
        "colab": {
          "base_uri": "https://localhost:8080/"
        },
        "id": "3wGq1pF6Ihqf",
        "outputId": "8119f386-e871-4569-be5a-9c4111fcf314"
      },
      "execution_count": 8,
      "outputs": [
        {
          "output_type": "execute_result",
          "data": {
            "text/plain": [
              "3     954\n",
              "0     478\n",
              "16    149\n",
              "8     139\n",
              "4     108\n",
              "10     48\n",
              "7      27\n",
              "1      25\n",
              "11     19\n",
              "5      12\n",
              "13     11\n",
              "6      10\n",
              "15      7\n",
              "9       5\n",
              "14      4\n",
              "2       3\n",
              "12      1\n",
              "Name: Категория, dtype: int64"
            ]
          },
          "metadata": {},
          "execution_count": 8
        }
      ]
    },
    {
      "cell_type": "code",
      "source": [
        "sns.histplot(data=df.Категория)  # Построение гистограммы, проверка сбалансированности исходного набора данных"
      ],
      "metadata": {
        "colab": {
          "base_uri": "https://localhost:8080/",
          "height": 0
        },
        "id": "J55dCFa8ImeL",
        "outputId": "eb856668-c8a8-4e5e-c1ad-b4127d7d302d"
      },
      "execution_count": 9,
      "outputs": [
        {
          "output_type": "execute_result",
          "data": {
            "text/plain": [
              "<matplotlib.axes._subplots.AxesSubplot at 0x7f7c8343abd0>"
            ]
          },
          "metadata": {},
          "execution_count": 9
        },
        {
          "output_type": "display_data",
          "data": {
            "text/plain": [
              "<Figure size 432x288 with 1 Axes>"
            ],
            "image/png": "[encoded data removed]"
          },
          "metadata": {
            "needs_background": "light"
          }
        }
      ]
    },
    {
      "cell_type": "markdown",
      "source": [
        "# балансир"
      ],
      "metadata": {
        "id": "C_OAvC4Z0yrP"
      }
    },
    {
      "cell_type": "code",
      "source": [
        "print(\"Before OverSampling, counts of label '1': {}\".format(sum(y_train == 1)))\n",
        "\n",
        "print(\"Before OverSampling, counts of label '0': {} \\n\".format(sum(y_train == 0)))\n",
        "\n",
        "  \n",
        "# импорт модуля SMOTE из библиотеки imblearn\n",
        "# pip install imblearn (если у вас нет imblearn в вашей системе)\n",
        "\n",
        "from imblearn.over_sampling import SMOTE\n",
        "\n",
        "sm = SMOTE(random_state = 2)\n",
        "\n",
        "X_train_res, y_train_res = sm.fit_sample(X_train, y_train.ravel())\n",
        "\n",
        "  \n",
        "\n",
        "print('After OverSampling, the shape of train_X: {}'.format(X_train_res.shape))\n",
        "\n",
        "print('After OverSampling, the shape of train_y: {} \\n'.format(y_train_res.shape))\n",
        "\n",
        "  \n",
        "\n",
        "print(\"After OverSampling, counts of label '1': {}\".format(sum(y_train_res == 1)))\n",
        "\n",
        "print(\"After OverSampling, counts of label '0': {}\".format(sum(y_train_res == 0)))"
      ],
      "metadata": {
        "id": "p2W_a1La2ITx"
      },
      "execution_count": null,
      "outputs": []
    },
    {
      "cell_type": "code",
      "source": [
        "rat = len(df.loc[df['Категория']==3])//len(df.loc[df['Категория']==12])\n",
        "rat"
      ],
      "metadata": {
        "colab": {
          "base_uri": "https://localhost:8080/"
        },
        "id": "EDmI9hTBhPSZ",
        "outputId": "70598f0a-1e68-4827-c972-bc8fd40aabfa"
      },
      "execution_count": null,
      "outputs": [
        {
          "output_type": "execute_result",
          "data": {
            "text/plain": [
              "954"
            ]
          },
          "metadata": {},
          "execution_count": 154
        }
      ]
    },
    {
      "cell_type": "code",
      "source": [
        "df_1 = df.loc[df['Категория']==12]\n",
        "df_1 = df_1.loc[df_1.index.repeat(rat)]\n",
        "df_n = pd.concat([df.loc[df['Категория']==3], df_1]).sample(frac=1)"
      ],
      "metadata": {
        "id": "ijF3ijHNhXCD"
      },
      "execution_count": null,
      "outputs": []
    },
    {
      "cell_type": "code",
      "source": [
        "df_2 = df.loc[df['Категория']==1]\n",
        "df_2 = df_1.loc[df_1.index.repeat(rat)]\n",
        "df_n = pd.concat([df.loc[df['Категория']==3], df_1]).sample(frac=1)"
      ],
      "metadata": {
        "id": "PE0_GKpO_HVX"
      },
      "execution_count": null,
      "outputs": []
    },
    {
      "cell_type": "code",
      "source": [
        "df_2 = df.loc[df['Категория']==1]\n",
        "df_2['Категория'].value_counts()"
      ],
      "metadata": {
        "colab": {
          "base_uri": "https://localhost:8080/"
        },
        "id": "s4zzwqfr_QHO",
        "outputId": "b87841f5-4bbe-49c4-ac3b-36c0be2e7260"
      },
      "execution_count": null,
      "outputs": [
        {
          "output_type": "execute_result",
          "data": {
            "text/plain": [
              "1    25\n",
              "Name: Категория, dtype: int64"
            ]
          },
          "metadata": {},
          "execution_count": 160
        }
      ]
    },
    {
      "cell_type": "code",
      "source": [
        "rat = len(df.loc[df['Категория']==3])//len(df.loc[df['Категория']==1])\n",
        "rat"
      ],
      "metadata": {
        "colab": {
          "base_uri": "https://localhost:8080/"
        },
        "id": "t51Bf7gV_bfa",
        "outputId": "fb8ee02b-8308-4bdd-fb42-197819181468"
      },
      "execution_count": null,
      "outputs": [
        {
          "output_type": "execute_result",
          "data": {
            "text/plain": [
              "38"
            ]
          },
          "metadata": {},
          "execution_count": 161
        }
      ]
    },
    {
      "cell_type": "code",
      "source": [
        "df_2 = df_2.loc[df_2.index.repeat(rat)]"
      ],
      "metadata": {
        "id": "LImfwdMh_hTM"
      },
      "execution_count": null,
      "outputs": []
    },
    {
      "cell_type": "code",
      "source": [
        "df_2['Категория'].value_counts()"
      ],
      "metadata": {
        "colab": {
          "base_uri": "https://localhost:8080/"
        },
        "id": "qPM2NtdO_nXB",
        "outputId": "faae3ab2-3351-452c-ac24-eb3b431cf814"
      },
      "execution_count": null,
      "outputs": [
        {
          "output_type": "execute_result",
          "data": {
            "text/plain": [
              "1    950\n",
              "Name: Категория, dtype: int64"
            ]
          },
          "metadata": {},
          "execution_count": 163
        }
      ]
    },
    {
      "cell_type": "code",
      "source": [
        "df_n = pd.concat([df_n, df_2]).sample(frac=1)"
      ],
      "metadata": {
        "id": "QfGJCD-v_pbY"
      },
      "execution_count": null,
      "outputs": []
    },
    {
      "cell_type": "code",
      "source": [
        "df_n['Категория'].value_counts()"
      ],
      "metadata": {
        "colab": {
          "base_uri": "https://localhost:8080/"
        },
        "id": "3ii7JRs7_sD4",
        "outputId": "88391f95-46a7-40ea-e262-b8fa711f572d"
      },
      "execution_count": null,
      "outputs": [
        {
          "output_type": "execute_result",
          "data": {
            "text/plain": [
              "12    954\n",
              "3     954\n",
              "1     950\n",
              "Name: Категория, dtype: int64"
            ]
          },
          "metadata": {},
          "execution_count": 166
        }
      ]
    },
    {
      "cell_type": "code",
      "source": [
        "df_n['Категория'].value_counts()"
      ],
      "metadata": {
        "colab": {
          "base_uri": "https://localhost:8080/"
        },
        "id": "-7I38ObqhfZc",
        "outputId": "1fccb6b5-8d2e-4f04-9efd-1774ac20c302"
      },
      "execution_count": null,
      "outputs": [
        {
          "output_type": "execute_result",
          "data": {
            "text/plain": [
              "12    954\n",
              "3     954\n",
              "Name: Категория, dtype: int64"
            ]
          },
          "metadata": {},
          "execution_count": 156
        }
      ]
    },
    {
      "cell_type": "markdown",
      "source": [
        "# Предварительная обработка текста"
      ],
      "metadata": {
        "id": "MTft4aZ6agad"
      }
    },
    {
      "cell_type": "code",
      "source": [
        "# Создаем датасет, сливаем текстовые колонки, убираем ненужные колонки\n",
        "data = df.drop(columns=['id']) # Удаление столбца с ID\n",
        "\n",
        "# Объединение текстовых колонок в одну\n",
        "data[\"text\"] = data['Текст Сообщения'].astype(str) + \" \" + data['Ответственное лицо'].astype(str)\n",
        "\n",
        "# Удаление лишних колонок\n",
        "data = data.drop(columns=['Текст Сообщения', 'Ответственное лицо'])\n",
        "data.head()"
      ],
      "metadata": {
        "id": "9Z06iwD-Iw2T",
        "colab": {
          "base_uri": "https://localhost:8080/",
          "height": 0
        },
        "outputId": "8bb1c8d2-c9a2-41a9-8539-af18ca0132fc"
      },
      "execution_count": 10,
      "outputs": [
        {
          "output_type": "execute_result",
          "data": {
            "text/plain": [
              "                                            Тематика  Категория  \\\n",
              "0  Нарушения, связанные с содержанием электросети...          3   \n",
              "1                                  Аварийные деревья          3   \n",
              "2                              Безнадзорные животные          1   \n",
              "3  Нескошенная сорная растительность в местах общ...          3   \n",
              "4                                  Аварийные деревья          3   \n",
              "\n",
              "                                                text  \n",
              "0  Помогите начальник Льговского рэс не реагирует...  \n",
              "1  <p>По фасаду дома по адресу ул. Урицкого 22 пр...  \n",
              "2  Агресивные собаки. На радуге там стая из подро...  \n",
              "3  <p>На пересечении &nbsp;улиц Сосновская и Бере...  \n",
              "4  <p style=`text-align:justify;`><span style=`ba...  "
            ],
            "text/html": [
              "\n",
              "  <div id=\"df-fa818ba8-2644-4981-a5ed-3418948d7788\">\n",
              "    <div class=\"colab-df-container\">\n",
              "      <div>\n",
              "<style scoped>\n",
              "    .dataframe tbody tr th:only-of-type {\n",
              "        vertical-align: middle;\n",
              "    }\n",
              "\n",
              "    .dataframe tbody tr th {\n",
              "        vertical-align: top;\n",
              "    }\n",
              "\n",
              "    .dataframe thead th {\n",
              "        text-align: right;\n",
              "    }\n",
              "</style>\n",
              "<table border=\"1\" class=\"dataframe\">\n",
              "  <thead>\n",
              "    <tr style=\"text-align: right;\">\n",
              "      <th></th>\n",
              "      <th>Тематика</th>\n",
              "      <th>Категория</th>\n",
              "      <th>text</th>\n",
              "    </tr>\n",
              "  </thead>\n",
              "  <tbody>\n",
              "    <tr>\n",
              "      <th>0</th>\n",
              "      <td>Нарушения, связанные с содержанием электросети...</td>\n",
              "      <td>3</td>\n",
              "      <td>Помогите начальник Льговского рэс не реагирует...</td>\n",
              "    </tr>\n",
              "    <tr>\n",
              "      <th>1</th>\n",
              "      <td>Аварийные деревья</td>\n",
              "      <td>3</td>\n",
              "      <td>&lt;p&gt;По фасаду дома по адресу ул. Урицкого 22 пр...</td>\n",
              "    </tr>\n",
              "    <tr>\n",
              "      <th>2</th>\n",
              "      <td>Безнадзорные животные</td>\n",
              "      <td>1</td>\n",
              "      <td>Агресивные собаки. На радуге там стая из подро...</td>\n",
              "    </tr>\n",
              "    <tr>\n",
              "      <th>3</th>\n",
              "      <td>Нескошенная сорная растительность в местах общ...</td>\n",
              "      <td>3</td>\n",
              "      <td>&lt;p&gt;На пересечении &amp;nbsp;улиц Сосновская и Бере...</td>\n",
              "    </tr>\n",
              "    <tr>\n",
              "      <th>4</th>\n",
              "      <td>Аварийные деревья</td>\n",
              "      <td>3</td>\n",
              "      <td>&lt;p style=`text-align:justify;`&gt;&lt;span style=`ba...</td>\n",
              "    </tr>\n",
              "  </tbody>\n",
              "</table>\n",
              "</div>\n",
              "      <button class=\"colab-df-convert\" onclick=\"convertToInteractive('df-fa818ba8-2644-4981-a5ed-3418948d7788')\"\n",
              "              title=\"Convert this dataframe to an interactive table.\"\n",
              "              style=\"display:none;\">\n",
              "        \n",
              "  <svg xmlns=\"http://www.w3.org/2000/svg\" height=\"24px\"viewBox=\"0 0 24 24\"\n",
              "       width=\"24px\">\n",
              "    <path d=\"M0 0h24v24H0V0z\" fill=\"none\"/>\n",
              "    <path d=\"M18.56 5.44l.94 2.06.94-2.06 2.06-.94-2.06-.94-.94-2.06-.94 2.06-2.06.94zm-11 1L8.5 8.5l.94-2.06 2.06-.94-2.06-.94L8.5 2.5l-.94 2.06-2.06.94zm10 10l.94 2.06.94-2.06 2.06-.94-2.06-.94-.94-2.06-.94 2.06-2.06.94z\"/><path d=\"M17.41 7.96l-1.37-1.37c-.4-.4-.92-.59-1.43-.59-.52 0-1.04.2-1.43.59L10.3 9.45l-7.72 7.72c-.78.78-.78 2.05 0 2.83L4 21.41c.39.39.9.59 1.41.59.51 0 1.02-.2 1.41-.59l7.78-7.78 2.81-2.81c.8-.78.8-2.07 0-2.86zM5.41 20L4 18.59l7.72-7.72 1.47 1.35L5.41 20z\"/>\n",
              "  </svg>\n",
              "      </button>\n",
              "      \n",
              "  <style>\n",
              "    .colab-df-container {\n",
              "      display:flex;\n",
              "      flex-wrap:wrap;\n",
              "      gap: 12px;\n",
              "    }\n",
              "\n",
              "    .colab-df-convert {\n",
              "      background-color: #E8F0FE;\n",
              "      border: none;\n",
              "      border-radius: 50%;\n",
              "      cursor: pointer;\n",
              "      display: none;\n",
              "      fill: #1967D2;\n",
              "      height: 32px;\n",
              "      padding: 0 0 0 0;\n",
              "      width: 32px;\n",
              "    }\n",
              "\n",
              "    .colab-df-convert:hover {\n",
              "      background-color: #E2EBFA;\n",
              "      box-shadow: 0px 1px 2px rgba(60, 64, 67, 0.3), 0px 1px 3px 1px rgba(60, 64, 67, 0.15);\n",
              "      fill: #174EA6;\n",
              "    }\n",
              "\n",
              "    [theme=dark] .colab-df-convert {\n",
              "      background-color: #3B4455;\n",
              "      fill: #D2E3FC;\n",
              "    }\n",
              "\n",
              "    [theme=dark] .colab-df-convert:hover {\n",
              "      background-color: #434B5C;\n",
              "      box-shadow: 0px 1px 3px 1px rgba(0, 0, 0, 0.15);\n",
              "      filter: drop-shadow(0px 1px 2px rgba(0, 0, 0, 0.3));\n",
              "      fill: #FFFFFF;\n",
              "    }\n",
              "  </style>\n",
              "\n",
              "      <script>\n",
              "        const buttonEl =\n",
              "          document.querySelector('#df-fa818ba8-2644-4981-a5ed-3418948d7788 button.colab-df-convert');\n",
              "        buttonEl.style.display =\n",
              "          google.colab.kernel.accessAllowed ? 'block' : 'none';\n",
              "\n",
              "        async function convertToInteractive(key) {\n",
              "          const element = document.querySelector('#df-fa818ba8-2644-4981-a5ed-3418948d7788');\n",
              "          const dataTable =\n",
              "            await google.colab.kernel.invokeFunction('convertToInteractive',\n",
              "                                                     [key], {});\n",
              "          if (!dataTable) return;\n",
              "\n",
              "          const docLinkHtml = 'Like what you see? Visit the ' +\n",
              "            '<a target=\"_blank\" href=https://colab.research.google.com/notebooks/data_table.ipynb>data table notebook</a>'\n",
              "            + ' to learn more about interactive tables.';\n",
              "          element.innerHTML = '';\n",
              "          dataTable['output_type'] = 'display_data';\n",
              "          await google.colab.output.renderOutput(dataTable, element);\n",
              "          const docLink = document.createElement('div');\n",
              "          docLink.innerHTML = docLinkHtml;\n",
              "          element.appendChild(docLink);\n",
              "        }\n",
              "      </script>\n",
              "    </div>\n",
              "  </div>\n",
              "  "
            ]
          },
          "metadata": {},
          "execution_count": 10
        }
      ]
    },
    {
      "cell_type": "code",
      "source": [
        "# data = df.drop(columns=['id', 'Тематика', 'Ответственное лицо'])"
      ],
      "metadata": {
        "id": "cEPkGZowJUGV"
      },
      "execution_count": 11,
      "outputs": []
    },
    {
      "cell_type": "code",
      "source": [
        "# Подсчет соотношения часла строк к число слов в строке\n",
        "number_of_samples = len(data)\n",
        "print(\"Количество строк (объектов)\" , number_of_samples)\n",
        "\n",
        "number_of_words = 0\n",
        "for index, row in data.iterrows():\n",
        "  words = row['text'].split()\n",
        "  number_of_words += len(words)\n",
        "number_of_words_per_sample = number_of_words / len(data)\n",
        "print(\"Количество cлов в строке\" , number_of_words_per_sample)\n",
        "\n",
        "ratio = number_of_samples / number_of_words_per_sample\n",
        "print(\"Соотношение: \" , ratio)\n"
      ],
      "metadata": {
        "colab": {
          "base_uri": "https://localhost:8080/"
        },
        "id": "EtnKArubIxZp",
        "outputId": "98ce3b12-7179-4afd-ecf1-8396cab9da68"
      },
      "execution_count": 12,
      "outputs": [
        {
          "output_type": "stream",
          "name": "stdout",
          "text": [
            "Количество строк (объектов) 2000\n",
            "Количество cлов в строке 55.959\n",
            "Соотношение:  35.740452831537375\n"
          ]
        }
      ]
    },
    {
      "cell_type": "code",
      "source": [
        "from string import punctuation  # Модуль для работы со строками\n",
        "\n",
        "# Удаление символов пунктуации\n",
        "def remove_punctuation(my_string):\n",
        "    return \"\".join([ch if ch not in punctuation else ' ' for ch in my_string]) # Замена на пробелы!!!\n",
        "\n",
        "# Удаление чисел\n",
        "def remove_numbers(my_string):\n",
        "    return ''.join([i if not i.isdigit() else ' ' for i in my_string])\n",
        "\n",
        "# Замена множественных пробелов на одинарный пробел\n",
        "import re\n",
        "def remove_multiple_spaces(my_string):\n",
        "\treturn re.sub(r'\\s+', ' ', my_string, flags=re.I)\n",
        "\n",
        "# Обработка строк + дополнительно приведение к нижнему регистру\n",
        "preproccessing = lambda text: (remove_multiple_spaces(remove_numbers(remove_punctuation(text.lower())))) \n",
        "\n",
        "# Создаем колонку в датасете для обработанного текста\n",
        "data['text_processed'] = list(map(preproccessing, data['text']))\n",
        "data.head()"
      ],
      "metadata": {
        "colab": {
          "base_uri": "https://localhost:8080/",
          "height": 0
        },
        "id": "vMy98U7Qlz61",
        "outputId": "dccd12cd-4bd0-4f96-baaa-8fe4395f8996"
      },
      "execution_count": 13,
      "outputs": [
        {
          "output_type": "execute_result",
          "data": {
            "text/plain": [
              "                                            Тематика  Категория  \\\n",
              "0  Нарушения, связанные с содержанием электросети...          3   \n",
              "1                                  Аварийные деревья          3   \n",
              "2                              Безнадзорные животные          1   \n",
              "3  Нескошенная сорная растительность в местах общ...          3   \n",
              "4                                  Аварийные деревья          3   \n",
              "\n",
              "                                                text  \\\n",
              "0  Помогите начальник Льговского рэс не реагирует...   \n",
              "1  <p>По фасаду дома по адресу ул. Урицкого 22 пр...   \n",
              "2  Агресивные собаки. На радуге там стая из подро...   \n",
              "3  <p>На пересечении &nbsp;улиц Сосновская и Бере...   \n",
              "4  <p style=`text-align:justify;`><span style=`ba...   \n",
              "\n",
              "                                      text_processed  \n",
              "0  помогите начальник льговского рэс не реагирует...  \n",
              "1   p по фасаду дома по адресу ул урицкого проход...  \n",
              "2  агресивные собаки на радуге там стая из подрос...  \n",
              "3   p на пересечении nbsp улиц сосновская и берег...  \n",
              "4   p style text align justify span style backgro...  "
            ],
            "text/html": [
              "\n",
              "  <div id=\"df-aaac0bc2-9f0c-47dd-8475-b6e5364df005\">\n",
              "    <div class=\"colab-df-container\">\n",
              "      <div>\n",
              "<style scoped>\n",
              "    .dataframe tbody tr th:only-of-type {\n",
              "        vertical-align: middle;\n",
              "    }\n",
              "\n",
              "    .dataframe tbody tr th {\n",
              "        vertical-align: top;\n",
              "    }\n",
              "\n",
              "    .dataframe thead th {\n",
              "        text-align: right;\n",
              "    }\n",
              "</style>\n",
              "<table border=\"1\" class=\"dataframe\">\n",
              "  <thead>\n",
              "    <tr style=\"text-align: right;\">\n",
              "      <th></th>\n",
              "      <th>Тематика</th>\n",
              "      <th>Категория</th>\n",
              "      <th>text</th>\n",
              "      <th>text_processed</th>\n",
              "    </tr>\n",
              "  </thead>\n",
              "  <tbody>\n",
              "    <tr>\n",
              "      <th>0</th>\n",
              "      <td>Нарушения, связанные с содержанием электросети...</td>\n",
              "      <td>3</td>\n",
              "      <td>Помогите начальник Льговского рэс не реагирует...</td>\n",
              "      <td>помогите начальник льговского рэс не реагирует...</td>\n",
              "    </tr>\n",
              "    <tr>\n",
              "      <th>1</th>\n",
              "      <td>Аварийные деревья</td>\n",
              "      <td>3</td>\n",
              "      <td>&lt;p&gt;По фасаду дома по адресу ул. Урицкого 22 пр...</td>\n",
              "      <td>p по фасаду дома по адресу ул урицкого проход...</td>\n",
              "    </tr>\n",
              "    <tr>\n",
              "      <th>2</th>\n",
              "      <td>Безнадзорные животные</td>\n",
              "      <td>1</td>\n",
              "      <td>Агресивные собаки. На радуге там стая из подро...</td>\n",
              "      <td>агресивные собаки на радуге там стая из подрос...</td>\n",
              "    </tr>\n",
              "    <tr>\n",
              "      <th>3</th>\n",
              "      <td>Нескошенная сорная растительность в местах общ...</td>\n",
              "      <td>3</td>\n",
              "      <td>&lt;p&gt;На пересечении &amp;nbsp;улиц Сосновская и Бере...</td>\n",
              "      <td>p на пересечении nbsp улиц сосновская и берег...</td>\n",
              "    </tr>\n",
              "    <tr>\n",
              "      <th>4</th>\n",
              "      <td>Аварийные деревья</td>\n",
              "      <td>3</td>\n",
              "      <td>&lt;p style=`text-align:justify;`&gt;&lt;span style=`ba...</td>\n",
              "      <td>p style text align justify span style backgro...</td>\n",
              "    </tr>\n",
              "  </tbody>\n",
              "</table>\n",
              "</div>\n",
              "      <button class=\"colab-df-convert\" onclick=\"convertToInteractive('df-aaac0bc2-9f0c-47dd-8475-b6e5364df005')\"\n",
              "              title=\"Convert this dataframe to an interactive table.\"\n",
              "              style=\"display:none;\">\n",
              "        \n",
              "  <svg xmlns=\"http://www.w3.org/2000/svg\" height=\"24px\"viewBox=\"0 0 24 24\"\n",
              "       width=\"24px\">\n",
              "    <path d=\"M0 0h24v24H0V0z\" fill=\"none\"/>\n",
              "    <path d=\"M18.56 5.44l.94 2.06.94-2.06 2.06-.94-2.06-.94-.94-2.06-.94 2.06-2.06.94zm-11 1L8.5 8.5l.94-2.06 2.06-.94-2.06-.94L8.5 2.5l-.94 2.06-2.06.94zm10 10l.94 2.06.94-2.06 2.06-.94-2.06-.94-.94-2.06-.94 2.06-2.06.94z\"/><path d=\"M17.41 7.96l-1.37-1.37c-.4-.4-.92-.59-1.43-.59-.52 0-1.04.2-1.43.59L10.3 9.45l-7.72 7.72c-.78.78-.78 2.05 0 2.83L4 21.41c.39.39.9.59 1.41.59.51 0 1.02-.2 1.41-.59l7.78-7.78 2.81-2.81c.8-.78.8-2.07 0-2.86zM5.41 20L4 18.59l7.72-7.72 1.47 1.35L5.41 20z\"/>\n",
              "  </svg>\n",
              "      </button>\n",
              "      \n",
              "  <style>\n",
              "    .colab-df-container {\n",
              "      display:flex;\n",
              "      flex-wrap:wrap;\n",
              "      gap: 12px;\n",
              "    }\n",
              "\n",
              "    .colab-df-convert {\n",
              "      background-color: #E8F0FE;\n",
              "      border: none;\n",
              "      border-radius: 50%;\n",
              "      cursor: pointer;\n",
              "      display: none;\n",
              "      fill: #1967D2;\n",
              "      height: 32px;\n",
              "      padding: 0 0 0 0;\n",
              "      width: 32px;\n",
              "    }\n",
              "\n",
              "    .colab-df-convert:hover {\n",
              "      background-color: #E2EBFA;\n",
              "      box-shadow: 0px 1px 2px rgba(60, 64, 67, 0.3), 0px 1px 3px 1px rgba(60, 64, 67, 0.15);\n",
              "      fill: #174EA6;\n",
              "    }\n",
              "\n",
              "    [theme=dark] .colab-df-convert {\n",
              "      background-color: #3B4455;\n",
              "      fill: #D2E3FC;\n",
              "    }\n",
              "\n",
              "    [theme=dark] .colab-df-convert:hover {\n",
              "      background-color: #434B5C;\n",
              "      box-shadow: 0px 1px 3px 1px rgba(0, 0, 0, 0.15);\n",
              "      filter: drop-shadow(0px 1px 2px rgba(0, 0, 0, 0.3));\n",
              "      fill: #FFFFFF;\n",
              "    }\n",
              "  </style>\n",
              "\n",
              "      <script>\n",
              "        const buttonEl =\n",
              "          document.querySelector('#df-aaac0bc2-9f0c-47dd-8475-b6e5364df005 button.colab-df-convert');\n",
              "        buttonEl.style.display =\n",
              "          google.colab.kernel.accessAllowed ? 'block' : 'none';\n",
              "\n",
              "        async function convertToInteractive(key) {\n",
              "          const element = document.querySelector('#df-aaac0bc2-9f0c-47dd-8475-b6e5364df005');\n",
              "          const dataTable =\n",
              "            await google.colab.kernel.invokeFunction('convertToInteractive',\n",
              "                                                     [key], {});\n",
              "          if (!dataTable) return;\n",
              "\n",
              "          const docLinkHtml = 'Like what you see? Visit the ' +\n",
              "            '<a target=\"_blank\" href=https://colab.research.google.com/notebooks/data_table.ipynb>data table notebook</a>'\n",
              "            + ' to learn more about interactive tables.';\n",
              "          element.innerHTML = '';\n",
              "          dataTable['output_type'] = 'display_data';\n",
              "          await google.colab.output.renderOutput(dataTable, element);\n",
              "          const docLink = document.createElement('div');\n",
              "          docLink.innerHTML = docLinkHtml;\n",
              "          element.appendChild(docLink);\n",
              "        }\n",
              "      </script>\n",
              "    </div>\n",
              "  </div>\n",
              "  "
            ]
          },
          "metadata": {},
          "execution_count": 13
        }
      ]
    },
    {
      "cell_type": "markdown",
      "source": [
        "## Стемминг\n",
        "\n",
        "Сте́мминг (англ. stemming — находить происхождение) — это процесс нахождения основы слова для заданного исходного слова. Основа слова не обязательно совпадает с морфологическим корнем слова. Стемминг является частью процесса нормализации текста.\n",
        "\n",
        "Конкретный способ решения задачи поиска основы слов называется алгоритм стемминга, а конкретная реализация — стеммер"
      ],
      "metadata": {
        "id": "xdAEbQ7pbNKr"
      }
    },
    {
      "cell_type": "code",
      "source": [
        "# NLTK - библиотек Python для решения задач обработки естественного языка\n",
        "import nltk\n",
        "\n",
        "from nltk.stem.snowball import SnowballStemmer    # Стеммер Porter2 - новая версия стеммера Портера\n",
        "from nltk.corpus import stopwords                 # Библиотека стоп-слов\n",
        "from nltk import word_tokenize                    # Токенизатор\n",
        "\n",
        "nltk.download('stopwords')                        # Загрузка стоп-слов\n",
        "nltk.download('punkt')                            # Загрузка символов пунктуации\n",
        "stemmer = SnowballStemmer(\"russian\")              # Стеммер для русского языка"
      ],
      "metadata": {
        "colab": {
          "base_uri": "https://localhost:8080/"
        },
        "id": "0AT1nCr8z2MB",
        "outputId": "ba4c7891-fea2-465f-d0bf-890c720524d4"
      },
      "execution_count": 14,
      "outputs": [
        {
          "output_type": "stream",
          "name": "stderr",
          "text": [
            "[nltk_data] Downloading package stopwords to /root/nltk_data...\n",
            "[nltk_data]   Unzipping corpora/stopwords.zip.\n",
            "[nltk_data] Downloading package punkt to /root/nltk_data...\n",
            "[nltk_data]   Unzipping tokenizers/punkt.zip.\n"
          ]
        }
      ]
    },
    {
      "cell_type": "code",
      "source": [
        "russian_stopwords = stopwords.words(\"russian\")    # Список стоп-слов для русского языка\n",
        "# Расширение списка стоп-слов (см. набор данных)\n",
        "russian_stopwords.extend(['…', '«', '»', '...', 'т.д.', 'т', 'д', 'nan'])"
      ],
      "metadata": {
        "id": "YBkLr5nFz26z"
      },
      "execution_count": 15,
      "outputs": []
    },
    {
      "cell_type": "code",
      "source": [
        "# Провердим стемминг и избавляемся от стоп-слов\n",
        "stemmed_text_column = []\n",
        "for text in tqdm(data['text_processed']):\n",
        "    tokens = word_tokenize(text)    \n",
        "    stemmed_tokens = [stemmer.stem(token) for token in tokens if token not in russian_stopwords]\n",
        "    text = \" \".join(stemmed_tokens)\n",
        "    stemmed_text_column.append(text)\n",
        "\n",
        "# Создаем новую колонку в наборе данных\n",
        "data['text_stemmed'] = stemmed_text_column\n",
        "data['text_stemmed'][0]"
      ],
      "metadata": {
        "colab": {
          "base_uri": "https://localhost:8080/",
          "height": 0,
          "referenced_widgets": [
            "afc9e6f3268f4610820408f1ab5df8f7",
            "c317abde0113424aa3c55fcea1be3655",
            "86623b7571da451299d7668e558dd8d4",
            "4f8d2cdafcb94183a9719508f3a9f169",
            "82f9d1848d63443d9f27f76462260086",
            "395ed30f81ad497a9c2e43185e016691",
            "8cc4259e53604056baeb84a333a965e2",
            "beb1b259ba6d47489aed5f6bddd811be",
            "1849ff09bf7f419d90580c5b02b20c4b",
            "0dc9fc578b334a5abe430438aef698eb",
            "43426252b0b743e6957e7fe04ac2526b"
          ]
        },
        "id": "eMPpMSRDDbmI",
        "outputId": "d45d6dfb-910b-4001-82b7-f44622712b6d"
      },
      "execution_count": 16,
      "outputs": [
        {
          "output_type": "display_data",
          "data": {
            "text/plain": [
              "  0%|          | 0/2000 [00:00<?, ?it/s]"
            ],
            "application/vnd.jupyter.widget-view+json": {
              "version_major": 2,
              "version_minor": 0,
              "model_id": "afc9e6f3268f4610820408f1ab5df8f7"
            }
          },
          "metadata": {}
        },
        {
          "output_type": "execute_result",
          "data": {
            "text/plain": [
              "'помог начальник льговск рэс реагир жалоб мал ветер сид свет имен деревн больш угон улиц стар слобод пожалуйст помог пуска вычист фотоотчет сдела администрац льговск район'"
            ],
            "application/vnd.google.colaboratory.intrinsic+json": {
              "type": "string"
            }
          },
          "metadata": {},
          "execution_count": 16
        }
      ]
    },
    {
      "cell_type": "code",
      "source": [
        "data.head()"
      ],
      "metadata": {
        "colab": {
          "base_uri": "https://localhost:8080/",
          "height": 0
        },
        "id": "FU9r6lajkoIR",
        "outputId": "405ff010-dbce-4cb8-9bec-56ba3e5e480c"
      },
      "execution_count": 17,
      "outputs": [
        {
          "output_type": "execute_result",
          "data": {
            "text/plain": [
              "                                            Тематика  Категория  \\\n",
              "0  Нарушения, связанные с содержанием электросети...          3   \n",
              "1                                  Аварийные деревья          3   \n",
              "2                              Безнадзорные животные          1   \n",
              "3  Нескошенная сорная растительность в местах общ...          3   \n",
              "4                                  Аварийные деревья          3   \n",
              "\n",
              "                                                text  \\\n",
              "0  Помогите начальник Льговского рэс не реагирует...   \n",
              "1  <p>По фасаду дома по адресу ул. Урицкого 22 пр...   \n",
              "2  Агресивные собаки. На радуге там стая из подро...   \n",
              "3  <p>На пересечении &nbsp;улиц Сосновская и Бере...   \n",
              "4  <p style=`text-align:justify;`><span style=`ba...   \n",
              "\n",
              "                                      text_processed  \\\n",
              "0  помогите начальник льговского рэс не реагирует...   \n",
              "1   p по фасаду дома по адресу ул урицкого проход...   \n",
              "2  агресивные собаки на радуге там стая из подрос...   \n",
              "3   p на пересечении nbsp улиц сосновская и берег...   \n",
              "4   p style text align justify span style backgro...   \n",
              "\n",
              "                                        text_stemmed  \n",
              "0  помог начальник льговск рэс реагир жалоб мал в...  \n",
              "1  p фасад дом адрес ул урицк проход труб газов м...  \n",
              "2  агресивн собак радуг ста подросш щенк звросл с...  \n",
              "3  p пересечен nbsp улиц сосновск берегов nbsp за...  \n",
              "4  p style text align justify span style backgrou...  "
            ],
            "text/html": [
              "\n",
              "  <div id=\"df-a7dcb868-c9d6-4915-a687-0c96665d9e86\">\n",
              "    <div class=\"colab-df-container\">\n",
              "      <div>\n",
              "<style scoped>\n",
              "    .dataframe tbody tr th:only-of-type {\n",
              "        vertical-align: middle;\n",
              "    }\n",
              "\n",
              "    .dataframe tbody tr th {\n",
              "        vertical-align: top;\n",
              "    }\n",
              "\n",
              "    .dataframe thead th {\n",
              "        text-align: right;\n",
              "    }\n",
              "</style>\n",
              "<table border=\"1\" class=\"dataframe\">\n",
              "  <thead>\n",
              "    <tr style=\"text-align: right;\">\n",
              "      <th></th>\n",
              "      <th>Тематика</th>\n",
              "      <th>Категория</th>\n",
              "      <th>text</th>\n",
              "      <th>text_processed</th>\n",
              "      <th>text_stemmed</th>\n",
              "    </tr>\n",
              "  </thead>\n",
              "  <tbody>\n",
              "    <tr>\n",
              "      <th>0</th>\n",
              "      <td>Нарушения, связанные с содержанием электросети...</td>\n",
              "      <td>3</td>\n",
              "      <td>Помогите начальник Льговского рэс не реагирует...</td>\n",
              "      <td>помогите начальник льговского рэс не реагирует...</td>\n",
              "      <td>помог начальник льговск рэс реагир жалоб мал в...</td>\n",
              "    </tr>\n",
              "    <tr>\n",
              "      <th>1</th>\n",
              "      <td>Аварийные деревья</td>\n",
              "      <td>3</td>\n",
              "      <td>&lt;p&gt;По фасаду дома по адресу ул. Урицкого 22 пр...</td>\n",
              "      <td>p по фасаду дома по адресу ул урицкого проход...</td>\n",
              "      <td>p фасад дом адрес ул урицк проход труб газов м...</td>\n",
              "    </tr>\n",
              "    <tr>\n",
              "      <th>2</th>\n",
              "      <td>Безнадзорные животные</td>\n",
              "      <td>1</td>\n",
              "      <td>Агресивные собаки. На радуге там стая из подро...</td>\n",
              "      <td>агресивные собаки на радуге там стая из подрос...</td>\n",
              "      <td>агресивн собак радуг ста подросш щенк звросл с...</td>\n",
              "    </tr>\n",
              "    <tr>\n",
              "      <th>3</th>\n",
              "      <td>Нескошенная сорная растительность в местах общ...</td>\n",
              "      <td>3</td>\n",
              "      <td>&lt;p&gt;На пересечении &amp;nbsp;улиц Сосновская и Бере...</td>\n",
              "      <td>p на пересечении nbsp улиц сосновская и берег...</td>\n",
              "      <td>p пересечен nbsp улиц сосновск берегов nbsp за...</td>\n",
              "    </tr>\n",
              "    <tr>\n",
              "      <th>4</th>\n",
              "      <td>Аварийные деревья</td>\n",
              "      <td>3</td>\n",
              "      <td>&lt;p style=`text-align:justify;`&gt;&lt;span style=`ba...</td>\n",
              "      <td>p style text align justify span style backgro...</td>\n",
              "      <td>p style text align justify span style backgrou...</td>\n",
              "    </tr>\n",
              "  </tbody>\n",
              "</table>\n",
              "</div>\n",
              "      <button class=\"colab-df-convert\" onclick=\"convertToInteractive('df-a7dcb868-c9d6-4915-a687-0c96665d9e86')\"\n",
              "              title=\"Convert this dataframe to an interactive table.\"\n",
              "              style=\"display:none;\">\n",
              "        \n",
              "  <svg xmlns=\"http://www.w3.org/2000/svg\" height=\"24px\"viewBox=\"0 0 24 24\"\n",
              "       width=\"24px\">\n",
              "    <path d=\"M0 0h24v24H0V0z\" fill=\"none\"/>\n",
              "    <path d=\"M18.56 5.44l.94 2.06.94-2.06 2.06-.94-2.06-.94-.94-2.06-.94 2.06-2.06.94zm-11 1L8.5 8.5l.94-2.06 2.06-.94-2.06-.94L8.5 2.5l-.94 2.06-2.06.94zm10 10l.94 2.06.94-2.06 2.06-.94-2.06-.94-.94-2.06-.94 2.06-2.06.94z\"/><path d=\"M17.41 7.96l-1.37-1.37c-.4-.4-.92-.59-1.43-.59-.52 0-1.04.2-1.43.59L10.3 9.45l-7.72 7.72c-.78.78-.78 2.05 0 2.83L4 21.41c.39.39.9.59 1.41.59.51 0 1.02-.2 1.41-.59l7.78-7.78 2.81-2.81c.8-.78.8-2.07 0-2.86zM5.41 20L4 18.59l7.72-7.72 1.47 1.35L5.41 20z\"/>\n",
              "  </svg>\n",
              "      </button>\n",
              "      \n",
              "  <style>\n",
              "    .colab-df-container {\n",
              "      display:flex;\n",
              "      flex-wrap:wrap;\n",
              "      gap: 12px;\n",
              "    }\n",
              "\n",
              "    .colab-df-convert {\n",
              "      background-color: #E8F0FE;\n",
              "      border: none;\n",
              "      border-radius: 50%;\n",
              "      cursor: pointer;\n",
              "      display: none;\n",
              "      fill: #1967D2;\n",
              "      height: 32px;\n",
              "      padding: 0 0 0 0;\n",
              "      width: 32px;\n",
              "    }\n",
              "\n",
              "    .colab-df-convert:hover {\n",
              "      background-color: #E2EBFA;\n",
              "      box-shadow: 0px 1px 2px rgba(60, 64, 67, 0.3), 0px 1px 3px 1px rgba(60, 64, 67, 0.15);\n",
              "      fill: #174EA6;\n",
              "    }\n",
              "\n",
              "    [theme=dark] .colab-df-convert {\n",
              "      background-color: #3B4455;\n",
              "      fill: #D2E3FC;\n",
              "    }\n",
              "\n",
              "    [theme=dark] .colab-df-convert:hover {\n",
              "      background-color: #434B5C;\n",
              "      box-shadow: 0px 1px 3px 1px rgba(0, 0, 0, 0.15);\n",
              "      filter: drop-shadow(0px 1px 2px rgba(0, 0, 0, 0.3));\n",
              "      fill: #FFFFFF;\n",
              "    }\n",
              "  </style>\n",
              "\n",
              "      <script>\n",
              "        const buttonEl =\n",
              "          document.querySelector('#df-a7dcb868-c9d6-4915-a687-0c96665d9e86 button.colab-df-convert');\n",
              "        buttonEl.style.display =\n",
              "          google.colab.kernel.accessAllowed ? 'block' : 'none';\n",
              "\n",
              "        async function convertToInteractive(key) {\n",
              "          const element = document.querySelector('#df-a7dcb868-c9d6-4915-a687-0c96665d9e86');\n",
              "          const dataTable =\n",
              "            await google.colab.kernel.invokeFunction('convertToInteractive',\n",
              "                                                     [key], {});\n",
              "          if (!dataTable) return;\n",
              "\n",
              "          const docLinkHtml = 'Like what you see? Visit the ' +\n",
              "            '<a target=\"_blank\" href=https://colab.research.google.com/notebooks/data_table.ipynb>data table notebook</a>'\n",
              "            + ' to learn more about interactive tables.';\n",
              "          element.innerHTML = '';\n",
              "          dataTable['output_type'] = 'display_data';\n",
              "          await google.colab.output.renderOutput(dataTable, element);\n",
              "          const docLink = document.createElement('div');\n",
              "          docLink.innerHTML = docLinkHtml;\n",
              "          element.appendChild(docLink);\n",
              "        }\n",
              "      </script>\n",
              "    </div>\n",
              "  </div>\n",
              "  "
            ]
          },
          "metadata": {},
          "execution_count": 17
        }
      ]
    },
    {
      "cell_type": "markdown",
      "source": [
        "## Лемматизация\n",
        "\n",
        "Лемматиза́ция — процесс приведения словоформы к лемме — её нормальной (словарной) форме."
      ],
      "metadata": {
        "id": "xAOg8p3jbNS6"
      }
    },
    {
      "cell_type": "code",
      "source": [
        "!pip install pymorphy2            # pymorphy2 - морфологический анализатор для русского языка\n",
        "!pip install pymorphy2-dicts      # пакет со словарями\n",
        "!pip install DAWG-Python          \n"
      ],
      "metadata": {
        "colab": {
          "base_uri": "https://localhost:8080/"
        },
        "id": "OqYTikL-LyT3",
        "outputId": "018b9167-b214-4452-b694-ef7afdd2e3f7"
      },
      "execution_count": 18,
      "outputs": [
        {
          "output_type": "stream",
          "name": "stdout",
          "text": [
            "Looking in indexes: https://pypi.org/simple, https://us-python.pkg.dev/colab-wheels/public/simple/\n",
            "Collecting pymorphy2\n",
            "  Downloading pymorphy2-0.9.1-py3-none-any.whl (55 kB)\n",
            "\u001b[K     |████████████████████████████████| 55 kB 2.9 MB/s \n",
            "\u001b[?25hCollecting dawg-python>=0.7.1\n",
            "  Downloading DAWG_Python-0.7.2-py2.py3-none-any.whl (11 kB)\n",
            "Requirement already satisfied: docopt>=0.6 in /usr/local/lib/python3.7/dist-packages (from pymorphy2) (0.6.2)\n",
            "Collecting pymorphy2-dicts-ru<3.0,>=2.4\n",
            "  Downloading pymorphy2_dicts_ru-2.4.417127.4579844-py2.py3-none-any.whl (8.2 MB)\n",
            "\u001b[K     |████████████████████████████████| 8.2 MB 16.1 MB/s \n",
            "\u001b[?25hInstalling collected packages: pymorphy2-dicts-ru, dawg-python, pymorphy2\n",
            "Successfully installed dawg-python-0.7.2 pymorphy2-0.9.1 pymorphy2-dicts-ru-2.4.417127.4579844\n",
            "Looking in indexes: https://pypi.org/simple, https://us-python.pkg.dev/colab-wheels/public/simple/\n",
            "Collecting pymorphy2-dicts\n",
            "  Downloading pymorphy2_dicts-2.4.393442.3710985-py2.py3-none-any.whl (7.1 MB)\n",
            "\u001b[K     |████████████████████████████████| 7.1 MB 7.7 MB/s \n",
            "\u001b[?25hInstalling collected packages: pymorphy2-dicts\n",
            "Successfully installed pymorphy2-dicts-2.4.393442.3710985\n",
            "Looking in indexes: https://pypi.org/simple, https://us-python.pkg.dev/colab-wheels/public/simple/\n",
            "Requirement already satisfied: DAWG-Python in /usr/local/lib/python3.7/dist-packages (0.7.2)\n"
          ]
        }
      ]
    },
    {
      "cell_type": "code",
      "source": [
        "import pymorphy2\n",
        "morph = pymorphy2.MorphAnalyzer()"
      ],
      "metadata": {
        "id": "fw1Ix6yKMDzD"
      },
      "execution_count": 19,
      "outputs": []
    },
    {
      "cell_type": "code",
      "source": [
        "# Провердим лемматизацию и избавляемся от стоп-слов\n",
        "lemm_texts_column = []\n",
        "for text in tqdm(data['text_processed']):\n",
        "    tokens = word_tokenize(text)    \n",
        "    lemmed_tokens = [morph.parse(token)[0].normal_form for token in tokens if token not in russian_stopwords]\n",
        "    text = \" \".join(lemmed_tokens)\n",
        "    lemm_texts_column.append(text)\n",
        "    \n",
        "# Создаем новую колонку в наборе данных\n",
        "data['text_lemmed'] = lemm_texts_column\n",
        "\n",
        "data['text_lemmed'][0]"
      ],
      "metadata": {
        "colab": {
          "base_uri": "https://localhost:8080/",
          "height": 0,
          "referenced_widgets": [
            "191a0b457df14a1eb762a17c5c639e23",
            "a4bce4ccc1a041628da2426ea9744dde",
            "29c2f3b6178f4ce6bf29aa80f70b17ac",
            "e2678ae1bdb1424ca6a01e3925c956f2",
            "f8d5da618d02464a8bb0c8afd424da9b",
            "05044186ea424414afe11f2b8fa2e72d",
            "e364e028e4044ca3bdc7428d112c0632",
            "2f3a2c242d2d49c9af7bf1c0f20b0b23",
            "3c6f7239bfce4680b1460686f13ca8e3",
            "787a205eedec4d3bb420a86bf574e39b",
            "f270592c8fe14508bcd6e4905d39fc2f"
          ]
        },
        "id": "G6CNF0y2HH8T",
        "outputId": "69f49d99-2bfa-4144-a9fa-181dbb506e1a"
      },
      "execution_count": 20,
      "outputs": [
        {
          "output_type": "display_data",
          "data": {
            "text/plain": [
              "  0%|          | 0/2000 [00:00<?, ?it/s]"
            ],
            "application/vnd.jupyter.widget-view+json": {
              "version_major": 2,
              "version_minor": 0,
              "model_id": "191a0b457df14a1eb762a17c5c639e23"
            }
          },
          "metadata": {}
        },
        {
          "output_type": "execute_result",
          "data": {
            "text/plain": [
              "'помочь начальник льговский рэс реагировать жалоба малый ветер сидеть свет именно деревня больший угон улица старый слобода пожалуйста помочь пускай вычистить фотоотчёт сделать администрация льговский район'"
            ],
            "application/vnd.google.colaboratory.intrinsic+json": {
              "type": "string"
            }
          },
          "metadata": {},
          "execution_count": 20
        }
      ]
    },
    {
      "cell_type": "code",
      "source": [
        "data.head()"
      ],
      "metadata": {
        "colab": {
          "base_uri": "https://localhost:8080/",
          "height": 0
        },
        "id": "qil8oSjvnf8M",
        "outputId": "50eeacca-f6da-4cd1-955b-a9f08b12be16"
      },
      "execution_count": 21,
      "outputs": [
        {
          "output_type": "execute_result",
          "data": {
            "text/plain": [
              "                                            Тематика  Категория  \\\n",
              "0  Нарушения, связанные с содержанием электросети...          3   \n",
              "1                                  Аварийные деревья          3   \n",
              "2                              Безнадзорные животные          1   \n",
              "3  Нескошенная сорная растительность в местах общ...          3   \n",
              "4                                  Аварийные деревья          3   \n",
              "\n",
              "                                                text  \\\n",
              "0  Помогите начальник Льговского рэс не реагирует...   \n",
              "1  <p>По фасаду дома по адресу ул. Урицкого 22 пр...   \n",
              "2  Агресивные собаки. На радуге там стая из подро...   \n",
              "3  <p>На пересечении &nbsp;улиц Сосновская и Бере...   \n",
              "4  <p style=`text-align:justify;`><span style=`ba...   \n",
              "\n",
              "                                      text_processed  \\\n",
              "0  помогите начальник льговского рэс не реагирует...   \n",
              "1   p по фасаду дома по адресу ул урицкого проход...   \n",
              "2  агресивные собаки на радуге там стая из подрос...   \n",
              "3   p на пересечении nbsp улиц сосновская и берег...   \n",
              "4   p style text align justify span style backgro...   \n",
              "\n",
              "                                        text_stemmed  \\\n",
              "0  помог начальник льговск рэс реагир жалоб мал в...   \n",
              "1  p фасад дом адрес ул урицк проход труб газов м...   \n",
              "2  агресивн собак радуг ста подросш щенк звросл с...   \n",
              "3  p пересечен nbsp улиц сосновск берегов nbsp за...   \n",
              "4  p style text align justify span style backgrou...   \n",
              "\n",
              "                                         text_lemmed  \n",
              "0  помочь начальник льговский рэс реагировать жал...  \n",
              "1  p фасад дом адрес ул урицкий проходить труба г...  \n",
              "2  агресивный собака радуга стая подрасти щенок з...  \n",
              "3  p пересечение nbsp улица сосновский береговой ...  \n",
              "4  p style text align justify span style backgrou...  "
            ],
            "text/html": [
              "\n",
              "  <div id=\"df-a826c011-c1b9-4929-bcdf-a42901256e1a\">\n",
              "    <div class=\"colab-df-container\">\n",
              "      <div>\n",
              "<style scoped>\n",
              "    .dataframe tbody tr th:only-of-type {\n",
              "        vertical-align: middle;\n",
              "    }\n",
              "\n",
              "    .dataframe tbody tr th {\n",
              "        vertical-align: top;\n",
              "    }\n",
              "\n",
              "    .dataframe thead th {\n",
              "        text-align: right;\n",
              "    }\n",
              "</style>\n",
              "<table border=\"1\" class=\"dataframe\">\n",
              "  <thead>\n",
              "    <tr style=\"text-align: right;\">\n",
              "      <th></th>\n",
              "      <th>Тематика</th>\n",
              "      <th>Категория</th>\n",
              "      <th>text</th>\n",
              "      <th>text_processed</th>\n",
              "      <th>text_stemmed</th>\n",
              "      <th>text_lemmed</th>\n",
              "    </tr>\n",
              "  </thead>\n",
              "  <tbody>\n",
              "    <tr>\n",
              "      <th>0</th>\n",
              "      <td>Нарушения, связанные с содержанием электросети...</td>\n",
              "      <td>3</td>\n",
              "      <td>Помогите начальник Льговского рэс не реагирует...</td>\n",
              "      <td>помогите начальник льговского рэс не реагирует...</td>\n",
              "      <td>помог начальник льговск рэс реагир жалоб мал в...</td>\n",
              "      <td>помочь начальник льговский рэс реагировать жал...</td>\n",
              "    </tr>\n",
              "    <tr>\n",
              "      <th>1</th>\n",
              "      <td>Аварийные деревья</td>\n",
              "      <td>3</td>\n",
              "      <td>&lt;p&gt;По фасаду дома по адресу ул. Урицкого 22 пр...</td>\n",
              "      <td>p по фасаду дома по адресу ул урицкого проход...</td>\n",
              "      <td>p фасад дом адрес ул урицк проход труб газов м...</td>\n",
              "      <td>p фасад дом адрес ул урицкий проходить труба г...</td>\n",
              "    </tr>\n",
              "    <tr>\n",
              "      <th>2</th>\n",
              "      <td>Безнадзорные животные</td>\n",
              "      <td>1</td>\n",
              "      <td>Агресивные собаки. На радуге там стая из подро...</td>\n",
              "      <td>агресивные собаки на радуге там стая из подрос...</td>\n",
              "      <td>агресивн собак радуг ста подросш щенк звросл с...</td>\n",
              "      <td>агресивный собака радуга стая подрасти щенок з...</td>\n",
              "    </tr>\n",
              "    <tr>\n",
              "      <th>3</th>\n",
              "      <td>Нескошенная сорная растительность в местах общ...</td>\n",
              "      <td>3</td>\n",
              "      <td>&lt;p&gt;На пересечении &amp;nbsp;улиц Сосновская и Бере...</td>\n",
              "      <td>p на пересечении nbsp улиц сосновская и берег...</td>\n",
              "      <td>p пересечен nbsp улиц сосновск берегов nbsp за...</td>\n",
              "      <td>p пересечение nbsp улица сосновский береговой ...</td>\n",
              "    </tr>\n",
              "    <tr>\n",
              "      <th>4</th>\n",
              "      <td>Аварийные деревья</td>\n",
              "      <td>3</td>\n",
              "      <td>&lt;p style=`text-align:justify;`&gt;&lt;span style=`ba...</td>\n",
              "      <td>p style text align justify span style backgro...</td>\n",
              "      <td>p style text align justify span style backgrou...</td>\n",
              "      <td>p style text align justify span style backgrou...</td>\n",
              "    </tr>\n",
              "  </tbody>\n",
              "</table>\n",
              "</div>\n",
              "      <button class=\"colab-df-convert\" onclick=\"convertToInteractive('df-a826c011-c1b9-4929-bcdf-a42901256e1a')\"\n",
              "              title=\"Convert this dataframe to an interactive table.\"\n",
              "              style=\"display:none;\">\n",
              "        \n",
              "  <svg xmlns=\"http://www.w3.org/2000/svg\" height=\"24px\"viewBox=\"0 0 24 24\"\n",
              "       width=\"24px\">\n",
              "    <path d=\"M0 0h24v24H0V0z\" fill=\"none\"/>\n",
              "    <path d=\"M18.56 5.44l.94 2.06.94-2.06 2.06-.94-2.06-.94-.94-2.06-.94 2.06-2.06.94zm-11 1L8.5 8.5l.94-2.06 2.06-.94-2.06-.94L8.5 2.5l-.94 2.06-2.06.94zm10 10l.94 2.06.94-2.06 2.06-.94-2.06-.94-.94-2.06-.94 2.06-2.06.94z\"/><path d=\"M17.41 7.96l-1.37-1.37c-.4-.4-.92-.59-1.43-.59-.52 0-1.04.2-1.43.59L10.3 9.45l-7.72 7.72c-.78.78-.78 2.05 0 2.83L4 21.41c.39.39.9.59 1.41.59.51 0 1.02-.2 1.41-.59l7.78-7.78 2.81-2.81c.8-.78.8-2.07 0-2.86zM5.41 20L4 18.59l7.72-7.72 1.47 1.35L5.41 20z\"/>\n",
              "  </svg>\n",
              "      </button>\n",
              "      \n",
              "  <style>\n",
              "    .colab-df-container {\n",
              "      display:flex;\n",
              "      flex-wrap:wrap;\n",
              "      gap: 12px;\n",
              "    }\n",
              "\n",
              "    .colab-df-convert {\n",
              "      background-color: #E8F0FE;\n",
              "      border: none;\n",
              "      border-radius: 50%;\n",
              "      cursor: pointer;\n",
              "      display: none;\n",
              "      fill: #1967D2;\n",
              "      height: 32px;\n",
              "      padding: 0 0 0 0;\n",
              "      width: 32px;\n",
              "    }\n",
              "\n",
              "    .colab-df-convert:hover {\n",
              "      background-color: #E2EBFA;\n",
              "      box-shadow: 0px 1px 2px rgba(60, 64, 67, 0.3), 0px 1px 3px 1px rgba(60, 64, 67, 0.15);\n",
              "      fill: #174EA6;\n",
              "    }\n",
              "\n",
              "    [theme=dark] .colab-df-convert {\n",
              "      background-color: #3B4455;\n",
              "      fill: #D2E3FC;\n",
              "    }\n",
              "\n",
              "    [theme=dark] .colab-df-convert:hover {\n",
              "      background-color: #434B5C;\n",
              "      box-shadow: 0px 1px 3px 1px rgba(0, 0, 0, 0.15);\n",
              "      filter: drop-shadow(0px 1px 2px rgba(0, 0, 0, 0.3));\n",
              "      fill: #FFFFFF;\n",
              "    }\n",
              "  </style>\n",
              "\n",
              "      <script>\n",
              "        const buttonEl =\n",
              "          document.querySelector('#df-a826c011-c1b9-4929-bcdf-a42901256e1a button.colab-df-convert');\n",
              "        buttonEl.style.display =\n",
              "          google.colab.kernel.accessAllowed ? 'block' : 'none';\n",
              "\n",
              "        async function convertToInteractive(key) {\n",
              "          const element = document.querySelector('#df-a826c011-c1b9-4929-bcdf-a42901256e1a');\n",
              "          const dataTable =\n",
              "            await google.colab.kernel.invokeFunction('convertToInteractive',\n",
              "                                                     [key], {});\n",
              "          if (!dataTable) return;\n",
              "\n",
              "          const docLinkHtml = 'Like what you see? Visit the ' +\n",
              "            '<a target=\"_blank\" href=https://colab.research.google.com/notebooks/data_table.ipynb>data table notebook</a>'\n",
              "            + ' to learn more about interactive tables.';\n",
              "          element.innerHTML = '';\n",
              "          dataTable['output_type'] = 'display_data';\n",
              "          await google.colab.output.renderOutput(dataTable, element);\n",
              "          const docLink = document.createElement('div');\n",
              "          docLink.innerHTML = docLinkHtml;\n",
              "          element.appendChild(docLink);\n",
              "        }\n",
              "      </script>\n",
              "    </div>\n",
              "  </div>\n",
              "  "
            ]
          },
          "metadata": {},
          "execution_count": 21
        }
      ]
    },
    {
      "cell_type": "markdown",
      "source": [
        "## Токенизация\n",
        "\n",
        "Токенизация - процесс разделения текста на составляющие (слова, предложения, группы слов)."
      ],
      "metadata": {
        "id": "9Ii6Mv5kYLf-"
      }
    },
    {
      "cell_type": "code",
      "source": [
        "# from nltk import word_tokenize\n",
        "\n",
        "word_tokenize(data['text_lemmed'][0])"
      ],
      "metadata": {
        "colab": {
          "base_uri": "https://localhost:8080/"
        },
        "id": "qmr7yDoSQd0R",
        "outputId": "a496bc9f-9a2b-4cc4-87ec-16b822c1574a"
      },
      "execution_count": 22,
      "outputs": [
        {
          "output_type": "execute_result",
          "data": {
            "text/plain": [
              "['помочь',\n",
              " 'начальник',\n",
              " 'льговский',\n",
              " 'рэс',\n",
              " 'реагировать',\n",
              " 'жалоба',\n",
              " 'малый',\n",
              " 'ветер',\n",
              " 'сидеть',\n",
              " 'свет',\n",
              " 'именно',\n",
              " 'деревня',\n",
              " 'больший',\n",
              " 'угон',\n",
              " 'улица',\n",
              " 'старый',\n",
              " 'слобода',\n",
              " 'пожалуйста',\n",
              " 'помочь',\n",
              " 'пускай',\n",
              " 'вычистить',\n",
              " 'фотоотчёт',\n",
              " 'сделать',\n",
              " 'администрация',\n",
              " 'льговский',\n",
              " 'район']"
            ]
          },
          "metadata": {},
          "execution_count": 22
        }
      ]
    },
    {
      "cell_type": "markdown",
      "source": [
        "## Мешок слов\n",
        "\n",
        "Мешок слов (bag-of-words) — упрощенное представление текста, которое используется в обработке естественных языков и информационном поиске. В этой модели текст представляется в виде множества его слов без какого-либо учета грамматики и порядка слов, но с сохранением информации об их количестве.\n"
      ],
      "metadata": {
        "id": "R-hzgu9t0FwM"
      }
    },
    {
      "cell_type": "code",
      "source": [
        "# CountVectorizer - класс конвертации текста в матрицу токенов\n",
        "from sklearn.feature_extraction.text import CountVectorizer"
      ],
      "metadata": {
        "id": "K-GmqI2z0TE7"
      },
      "execution_count": 23,
      "outputs": []
    },
    {
      "cell_type": "code",
      "source": [
        "# Создание матрицы признаков на основе мешка слов\n",
        "count = CountVectorizer()\n",
        "bag_of_words = count.fit_transform(data['text_lemmed'])\n",
        "bag_of_words.toarray()"
      ],
      "metadata": {
        "colab": {
          "base_uri": "https://localhost:8080/"
        },
        "id": "LizFxe4lsUWg",
        "outputId": "26d2febe-96c1-4205-f32f-4f7e22e377ef"
      },
      "execution_count": 24,
      "outputs": [
        {
          "output_type": "execute_result",
          "data": {
            "text/plain": [
              "array([[0, 0, 0, ..., 0, 0, 0],\n",
              "       [0, 0, 0, ..., 0, 0, 0],\n",
              "       [0, 0, 0, ..., 0, 0, 0],\n",
              "       ...,\n",
              "       [0, 0, 0, ..., 0, 0, 0],\n",
              "       [0, 0, 0, ..., 0, 0, 0],\n",
              "       [0, 0, 0, ..., 0, 0, 0]])"
            ]
          },
          "metadata": {},
          "execution_count": 24
        }
      ]
    },
    {
      "cell_type": "code",
      "source": [
        "count.get_feature_names_out()  # Вывод имен признаков"
      ],
      "metadata": {
        "colab": {
          "base_uri": "https://localhost:8080/"
        },
        "id": "yAVLZ0MWsx4R",
        "outputId": "78c8d1ff-1a0b-4894-90a4-a29dac33b964"
      },
      "execution_count": 25,
      "outputs": [
        {
          "output_type": "execute_result",
          "data": {
            "text/plain": [
              "array(['actual', 'address', 'aesfpebagmfblc', ..., 'ёж', 'ёлка', 'ёлочка'],\n",
              "      dtype=object)"
            ]
          },
          "metadata": {},
          "execution_count": 25
        }
      ]
    },
    {
      "cell_type": "code",
      "source": [
        "# Создание матрицы признаков для 2-грамм\n",
        "count_2gram = CountVectorizer(ngram_range=(2,2))\n",
        "bag_of_2grams = count_2gram.fit_transform(data['text_lemmed'])\n",
        "bag_of_2grams.toarray()"
      ],
      "metadata": {
        "colab": {
          "base_uri": "https://localhost:8080/"
        },
        "id": "5w2td6AKtgEM",
        "outputId": "b8fdb98b-d72f-474d-b2dd-881f71bd209d"
      },
      "execution_count": 26,
      "outputs": [
        {
          "output_type": "execute_result",
          "data": {
            "text/plain": [
              "array([[0, 0, 0, ..., 0, 0, 0],\n",
              "       [0, 0, 0, ..., 0, 0, 0],\n",
              "       [0, 0, 0, ..., 0, 0, 0],\n",
              "       ...,\n",
              "       [0, 0, 0, ..., 0, 0, 0],\n",
              "       [0, 0, 0, ..., 0, 0, 0],\n",
              "       [0, 0, 0, ..., 0, 0, 0]])"
            ]
          },
          "metadata": {},
          "execution_count": 26
        }
      ]
    },
    {
      "cell_type": "code",
      "source": [
        "count_2gram.get_feature_names_out()  # Вывод имен признаков"
      ],
      "metadata": {
        "colab": {
          "base_uri": "https://localhost:8080/"
        },
        "id": "-BtKCzT4uA-6",
        "outputId": "788e9414-fc3a-4cc5-d50b-568a0c03aaa4"
      },
      "execution_count": 27,
      "outputs": [
        {
          "output_type": "execute_result",
          "data": {
            "text/plain": [
              "array(['actual amp', 'address span', 'aesfpebagmfblc xn', ...,\n",
              "       'ёлка новый', 'ёлка озеленить', 'ёлочка надеяться'], dtype=object)"
            ]
          },
          "metadata": {},
          "execution_count": 27
        }
      ]
    },
    {
      "cell_type": "markdown",
      "source": [
        "## Взвешивание важности слов - TF-IDF\n",
        "\n",
        "TF-IDF (TF — term frequency, IDF — inverse document frequency) — статистическая мера, используемая для оценки важности слова в контексте документа, являющегося частью коллекции документов или корпуса. Вес некоторого слова (от 0 до 1) пропорционален частоте употребления этого слова в документе и обратно пропорционален частоте употребления слова во всех документах коллекции.\n",
        "\n",
        "Мера TF-IDF часто используется в задачах анализа текстов и информационного поиска, например, как один из критериев релевантности документа поисковому запросу, при расчёте меры близости документов при кластеризации или классификации."
      ],
      "metadata": {
        "id": "rp1B2dvu1cNv"
      }
    },
    {
      "cell_type": "code",
      "source": [
        "# TfidfVectorizer - класс для преобразования текста в частотные векторы слов\n",
        "from sklearn.feature_extraction.text import TfidfVectorizer"
      ],
      "metadata": {
        "id": "xmHnoMDX1g_e"
      },
      "execution_count": 28,
      "outputs": []
    },
    {
      "cell_type": "code",
      "source": [
        "# Создание матрицы признаков\n",
        "tfidf = TfidfVectorizer()\n",
        "feature_matrix = tfidf.fit_transform(data['text_lemmed'])\n",
        "feature_matrix.toarray()"
      ],
      "metadata": {
        "colab": {
          "base_uri": "https://localhost:8080/"
        },
        "id": "Us1Ud4T7wjQ_",
        "outputId": "d85f7ece-08d4-4ea6-b8ae-941167fbf282"
      },
      "execution_count": 29,
      "outputs": [
        {
          "output_type": "execute_result",
          "data": {
            "text/plain": [
              "array([[0., 0., 0., ..., 0., 0., 0.],\n",
              "       [0., 0., 0., ..., 0., 0., 0.],\n",
              "       [0., 0., 0., ..., 0., 0., 0.],\n",
              "       ...,\n",
              "       [0., 0., 0., ..., 0., 0., 0.],\n",
              "       [0., 0., 0., ..., 0., 0., 0.],\n",
              "       [0., 0., 0., ..., 0., 0., 0.]])"
            ]
          },
          "metadata": {},
          "execution_count": 29
        }
      ]
    },
    {
      "cell_type": "markdown",
      "source": [
        "## Финальный датасет"
      ],
      "metadata": {
        "id": "sMSc_YbahDGO"
      }
    },
    {
      "cell_type": "code",
      "source": [
        "# Матрица признаков\n",
        "X = data['text_lemmed']\n",
        "\n",
        "# Вектор значений целевых переменных\n",
        "y = data['Категория']\n",
        "\n",
        "labels = data['Категория'].unique() # Массив уникальных меток\n"
      ],
      "metadata": {
        "id": "wvVclcVohH4e"
      },
      "execution_count": 30,
      "outputs": []
    },
    {
      "cell_type": "code",
      "source": [
        "X"
      ],
      "metadata": {
        "colab": {
          "base_uri": "https://localhost:8080/"
        },
        "id": "vd20hvj5U6VZ",
        "outputId": "f309bc79-d88b-4955-9d7f-d7198666305f"
      },
      "execution_count": 31,
      "outputs": [
        {
          "output_type": "execute_result",
          "data": {
            "text/plain": [
              "0       помочь начальник льговский рэс реагировать жал...\n",
              "1       p фасад дом адрес ул урицкий проходить труба г...\n",
              "2       агресивный собака радуга стая подрасти щенок з...\n",
              "3       p пересечение nbsp улица сосновский береговой ...\n",
              "4       p style text align justify span style backgrou...\n",
              "                              ...                        \n",
              "1995    p вечерний время появиться вонь грибной радуга...\n",
              "1996    p добрый день хотеть сообщить проблема возле н...\n",
              "1997    состоять засохнуть дерево больший берёза один ...\n",
              "1998    пожалуйста роман владимирович скорый время кур...\n",
              "1999    p сдать пцр тест г результат тест портал “ гос...\n",
              "Name: text_lemmed, Length: 2000, dtype: object"
            ]
          },
          "metadata": {},
          "execution_count": 31
        }
      ]
    },
    {
      "cell_type": "code",
      "source": [
        "len(labels)"
      ],
      "metadata": {
        "colab": {
          "base_uri": "https://localhost:8080/"
        },
        "id": "uv1GtWpx-J-z",
        "outputId": "3204ddf0-3464-40f7-aa4a-0c825a398af2"
      },
      "execution_count": 32,
      "outputs": [
        {
          "output_type": "execute_result",
          "data": {
            "text/plain": [
              "17"
            ]
          },
          "metadata": {},
          "execution_count": 32
        }
      ]
    },
    {
      "cell_type": "code",
      "source": [
        "# from sklearn.model_selection import train_test_split\n",
        "# X_train, X_test, y_train, y_test = train_test_split(X, y, test_size=0.25)"
      ],
      "metadata": {
        "id": "tOcXN5oGi-gr"
      },
      "execution_count": 33,
      "outputs": []
    },
    {
      "cell_type": "code",
      "source": [
        "X_train, X_test, y_train, y_test = train_test_split(X, y, random_state= 42, test_size=0.25)"
      ],
      "metadata": {
        "id": "Y_8h3quhNHEb"
      },
      "execution_count": 34,
      "outputs": []
    },
    {
      "cell_type": "code",
      "source": [
        "y_train.unique()"
      ],
      "metadata": {
        "colab": {
          "base_uri": "https://localhost:8080/"
        },
        "id": "5OekPY5M-Zva",
        "outputId": "9666d05c-5246-4b6a-e81f-448829891dc5"
      },
      "execution_count": 35,
      "outputs": [
        {
          "output_type": "execute_result",
          "data": {
            "text/plain": [
              "array([10,  0,  4, 16,  3, 11,  8,  5,  6,  7,  1, 15, 13, 14,  9, 12,  2])"
            ]
          },
          "metadata": {},
          "execution_count": 35
        }
      ]
    },
    {
      "cell_type": "markdown",
      "source": [
        "# Наивный байесовский классификатор (Naive Bayes Classifier)\n",
        "\n",
        "Наивный байесовский классификатор — простой вероятностный классификатор, основанный на применении теоремы Байеса со строгими (наивными) предположениями о независимости. Достоинством наивного байесовского классификатора является малое количество данных, необходимых для обучения, оценки параметров и классификации."
      ],
      "metadata": {
        "id": "-kmF1XixjTI4"
      }
    },
    {
      "cell_type": "code",
      "source": [
        "# Загрузка Naive Bayes Classifier\n",
        "from sklearn.naive_bayes import MultinomialNB\n",
        "from sklearn.pipeline import Pipeline\n",
        "from sklearn.feature_extraction.text import TfidfTransformer\n"
      ],
      "metadata": {
        "id": "2lvAOr1HjVuP"
      },
      "execution_count": 36,
      "outputs": []
    },
    {
      "cell_type": "code",
      "source": [
        "# Автоматизация предварительных преобразований данных перед обучением модели \n",
        "nb = Pipeline([('vect', CountVectorizer(ngram_range=(1, 1))),\n",
        "               ('tfidf', TfidfTransformer()),\n",
        "               ('clf', MultinomialNB()), # Классификатор Naive Bayes для мультиномиальных моделей\n",
        "              ])"
      ],
      "metadata": {
        "id": "IYTu7_R0jaSV"
      },
      "execution_count": 37,
      "outputs": []
    },
    {
      "cell_type": "code",
      "source": [
        "%%time\n",
        "nb.fit(X_train, y_train)   # Обучение модели"
      ],
      "metadata": {
        "colab": {
          "base_uri": "https://localhost:8080/"
        },
        "id": "K87QflcZjdia",
        "outputId": "d3de2ecd-a8c1-4823-867b-1d678b4434d6"
      },
      "execution_count": 38,
      "outputs": [
        {
          "output_type": "stream",
          "name": "stdout",
          "text": [
            "CPU times: user 108 ms, sys: 3 ms, total: 111 ms\n",
            "Wall time: 113 ms\n"
          ]
        },
        {
          "output_type": "execute_result",
          "data": {
            "text/plain": [
              "Pipeline(steps=[('vect', CountVectorizer()), ('tfidf', TfidfTransformer()),\n",
              "                ('clf', MultinomialNB())])"
            ]
          },
          "metadata": {},
          "execution_count": 38
        }
      ]
    },
    {
      "cell_type": "code",
      "source": [
        "%%time\n",
        "from sklearn.metrics import classification_report\n",
        "y_pred = nb.predict(X_test)  # Предсказание на тестовых данных"
      ],
      "metadata": {
        "colab": {
          "base_uri": "https://localhost:8080/"
        },
        "id": "1iPQqhoejsKq",
        "outputId": "523236f4-ceae-415c-ccdf-e6c6a12c2e9c"
      },
      "execution_count": 39,
      "outputs": [
        {
          "output_type": "stream",
          "name": "stdout",
          "text": [
            "CPU times: user 37.9 ms, sys: 951 µs, total: 38.9 ms\n",
            "Wall time: 44.1 ms\n"
          ]
        }
      ]
    },
    {
      "cell_type": "code",
      "source": [
        "# Оценка точности классификации\n",
        "from sklearn.metrics import accuracy_score\n",
        "print('accuracy %s' % accuracy_score(y_pred, y_test))"
      ],
      "metadata": {
        "colab": {
          "base_uri": "https://localhost:8080/"
        },
        "id": "vbLiVrurlWE3",
        "outputId": "7e81611b-408b-42d8-b5eb-0f7a5c3f30c3"
      },
      "execution_count": 40,
      "outputs": [
        {
          "output_type": "stream",
          "name": "stdout",
          "text": [
            "accuracy 0.574\n"
          ]
        }
      ]
    },
    {
      "cell_type": "code",
      "source": [
        "# print(classification_report(y_test, y_pred, target_names=labels))"
      ],
      "metadata": {
        "id": "j7l_upucNY4I"
      },
      "execution_count": 41,
      "outputs": []
    },
    {
      "cell_type": "markdown",
      "source": [
        "### Метрики точности\n",
        "*   accuracy - доля правильных ответов\n",
        "*   precision - точность (доля объектов, названных классификатором положительными и при этом действительно являющимися положительными)  \n",
        "*   recall - полнота (доля объектов положительного класса из всех объектов положительного класса)\n",
        "*   f1-score - среднее гармоническое precision и recall \n",
        "\n",
        "Recall демонстрирует способность алгоритма обнаруживать данный класс вообще, а precision — способность отличать этот класс от других классов.\n",
        "\n",
        "F1-score - достигает максимума при полноте и точности, равными единице, и близка к нулю, если один из аргументов близок к нулю\n",
        "\n"
      ],
      "metadata": {
        "id": "Rj3mNhFw26fm"
      }
    },
    {
      "cell_type": "markdown",
      "source": [
        "# Логистическая регрессия (Logistic Regression)\n",
        "\n",
        "Cтатистическая модель, используемая для прогнозирования вероятности возникновения некоторого события путём его сравнения с логистической кривой"
      ],
      "metadata": {
        "id": "lGuCMxGcpAag"
      }
    },
    {
      "cell_type": "code",
      "source": [
        "# Загрузка логистической регрессии\n",
        "from sklearn.linear_model import LogisticRegression\n",
        "\n",
        "logreg = Pipeline([('vect', CountVectorizer(ngram_range=(1, 1))),\n",
        "                ('tfidf', TfidfTransformer()),\n",
        "                ('clf', LogisticRegression(n_jobs=1, C=1e5)),\n",
        "               ])"
      ],
      "metadata": {
        "id": "7EQvKHSEpBi4"
      },
      "execution_count": 42,
      "outputs": []
    },
    {
      "cell_type": "code",
      "source": [
        "# # Загрузка логистической регрессии\n",
        "# from sklearn.linear_model import LogisticRegression\n",
        "\n",
        "# logreg = Pipeline([\n",
        "#                 ('vect', CountVectorizer(analyzer='char', ngram_range =([2,10]))),\n",
        "#                 ('tfidf', TfidfTransformer()),\n",
        "#                 ('clf', LogisticRegression(n_jobs=3,C=1e5, solver='saga', \n",
        "#                                            multi_class='multinomial',\n",
        "#                                            max_iter=1000,\n",
        "#                                            random_state=42)),\n",
        "# ])"
      ],
      "metadata": {
        "id": "UF43GVBWLgp5"
      },
      "execution_count": 43,
      "outputs": []
    },
    {
      "cell_type": "code",
      "source": [
        "%%time\n",
        "logreg.fit(X_train, y_train) # Обучение модели"
      ],
      "metadata": {
        "colab": {
          "base_uri": "https://localhost:8080/"
        },
        "id": "OUB0a_JepF6U",
        "outputId": "37536e3e-8cef-4d25-d7d6-97917a40b451"
      },
      "execution_count": 44,
      "outputs": [
        {
          "output_type": "stream",
          "name": "stdout",
          "text": [
            "CPU times: user 3.45 s, sys: 2.47 s, total: 5.92 s\n",
            "Wall time: 3.81 s\n"
          ]
        },
        {
          "output_type": "stream",
          "name": "stderr",
          "text": [
            "/usr/local/lib/python3.7/dist-packages/sklearn/linear_model/_logistic.py:818: ConvergenceWarning: lbfgs failed to converge (status=1):\n",
            "STOP: TOTAL NO. of ITERATIONS REACHED LIMIT.\n",
            "\n",
            "Increase the number of iterations (max_iter) or scale the data as shown in:\n",
            "    https://scikit-learn.org/stable/modules/preprocessing.html\n",
            "Please also refer to the documentation for alternative solver options:\n",
            "    https://scikit-learn.org/stable/modules/linear_model.html#logistic-regression\n",
            "  extra_warning_msg=_LOGISTIC_SOLVER_CONVERGENCE_MSG,\n"
          ]
        },
        {
          "output_type": "execute_result",
          "data": {
            "text/plain": [
              "Pipeline(steps=[('vect', CountVectorizer()), ('tfidf', TfidfTransformer()),\n",
              "                ('clf', LogisticRegression(C=100000.0, n_jobs=1))])"
            ]
          },
          "metadata": {},
          "execution_count": 44
        }
      ]
    },
    {
      "cell_type": "code",
      "source": [
        "%%time\n",
        "y_pred = logreg.predict(X_test)   # Предсказание на тестовых данных"
      ],
      "metadata": {
        "colab": {
          "base_uri": "https://localhost:8080/"
        },
        "id": "zTYq-b6lpjfb",
        "outputId": "a664dd08-b7ae-430b-faef-c590c1d68297"
      },
      "execution_count": 45,
      "outputs": [
        {
          "output_type": "stream",
          "name": "stdout",
          "text": [
            "CPU times: user 47.8 ms, sys: 17.1 ms, total: 64.9 ms\n",
            "Wall time: 66 ms\n"
          ]
        }
      ]
    },
    {
      "cell_type": "code",
      "source": [
        "# Оценка точности классификации\n",
        "print('accuracy %s' % accuracy_score(y_pred, y_test))\n",
        "# print(classification_report(y_test, y_pred, target_names=labels))"
      ],
      "metadata": {
        "colab": {
          "base_uri": "https://localhost:8080/"
        },
        "id": "63DSzU_FqGsj",
        "outputId": "d0f74d14-a352-4474-f0fa-8b4dff148e6c"
      },
      "execution_count": 46,
      "outputs": [
        {
          "output_type": "stream",
          "name": "stdout",
          "text": [
            "accuracy 0.838\n"
          ]
        }
      ]
    },
    {
      "cell_type": "code",
      "source": [
        "from sklearn.metrics import classification_report\n",
        "from sklearn.metrics import f1_score\n",
        "# print(classification_report(y_test, y_pred, target_names=labels))\n",
        "print(f\"F1 Score: {f1_score(y_test, y_pred, average='weighted')}\")"
      ],
      "metadata": {
        "colab": {
          "base_uri": "https://localhost:8080/"
        },
        "id": "uB3ryKhnMIJj",
        "outputId": "6364d8e9-95d6-4b8e-ef6a-e68671fa2f03"
      },
      "execution_count": 47,
      "outputs": [
        {
          "output_type": "stream",
          "name": "stdout",
          "text": [
            "F1 Score: 0.8245873473659078\n"
          ]
        }
      ]
    },
    {
      "cell_type": "markdown",
      "source": [
        "# cloud"
      ],
      "metadata": {
        "id": "ez142bBtALPC"
      }
    },
    {
      "cell_type": "code",
      "source": [
        "from wordcloud import WordCloud"
      ],
      "metadata": {
        "id": "KIAyXxOGAYRr"
      },
      "execution_count": 71,
      "outputs": []
    },
    {
      "cell_type": "code",
      "source": [
        "text = ' '.join(data['text_lemmed'].astype(str).str.lower().tolist())\n",
        "wc = WordCloud().generate_from_text(text)\n",
        "\n",
        "def generate_basic_wordcloud(data):\n",
        "    cloud = WordCloud(width=600,\n",
        "                      height=480,\n",
        "                      max_words=150,\n",
        "                      colormap='tab20c',\n",
        "                      stopwords=stopwords.words('english'),\n",
        "                      collocations=True).generate_from_text(data)\n",
        "    plt.figure(figsize=(15,12))\n",
        "    plt.imshow(cloud)\n",
        "    plt.axis('off')\n",
        "    plt.show()"
      ],
      "metadata": {
        "id": "F8InBj63APZS"
      },
      "execution_count": 72,
      "outputs": []
    },
    {
      "cell_type": "code",
      "source": [
        "generate_basic_wordcloud(text)"
      ],
      "metadata": {
        "colab": {
          "base_uri": "https://localhost:8080/",
          "height": 683
        },
        "id": "iExPVWIBAaVD",
        "outputId": "cf2f8350-d7a5-404b-da89-6752c4f678c6"
      },
      "execution_count": 73,
      "outputs": [
        {
          "output_type": "display_data",
          "data": {
            "text/plain": [
              "<Figure size 1080x864 with 1 Axes>"
            ],
            "image/png": "[encoded data removed]"
          },
          "metadata": {}
        }
      ]
    },
    {
      "cell_type": "markdown",
      "source": [
        "# Предсказание"
      ],
      "metadata": {
        "id": "e-X_muSoSYUn"
      }
    },
    {
      "cell_type": "code",
      "source": [
        "test_df = pd.read_csv(\"/content/drive/MyDrive/Курск ИИ/test_dataset_test.csv\")\n",
        "test_df.head(3)"
      ],
      "metadata": {
        "colab": {
          "base_uri": "https://localhost:8080/",
          "height": 240
        },
        "id": "84AG1sZSSdoL",
        "outputId": "cc7b60c8-002d-4546-cf8a-70f9ebb9696f"
      },
      "execution_count": 76,
      "outputs": [
        {
          "output_type": "execute_result",
          "data": {
            "text/plain": [
              "     id                                    Текст Сообщения  \\\n",
              "0   843  <p>Здравствуйте. На улице Мира &nbsp;было заме...   \n",
              "1  1422  <p>Уже вторую неделю не горит уличное освещени...   \n",
              "2  2782  Не работает освещение во дворе дома 11а по Эне...   \n",
              "\n",
              "                          Тематика  \\\n",
              "0  Неработающее наружное освещение   \n",
              "1  Неработающее наружное освещение   \n",
              "2  Неработающее наружное освещение   \n",
              "\n",
              "                                  Ответственное лицо  \n",
              "0                 Администрация Курчатовского района  \n",
              "1  Комитет жилищно-коммунального хозяйства города...  \n",
              "2  Комитет жилищно-коммунального хозяйства города...  "
            ],
            "text/html": [
              "\n",
              "  <div id=\"df-5bdfb9cd-6f68-4985-9d49-4571bcbe5fb6\">\n",
              "    <div class=\"colab-df-container\">\n",
              "      <div>\n",
              "<style scoped>\n",
              "    .dataframe tbody tr th:only-of-type {\n",
              "        vertical-align: middle;\n",
              "    }\n",
              "\n",
              "    .dataframe tbody tr th {\n",
              "        vertical-align: top;\n",
              "    }\n",
              "\n",
              "    .dataframe thead th {\n",
              "        text-align: right;\n",
              "    }\n",
              "</style>\n",
              "<table border=\"1\" class=\"dataframe\">\n",
              "  <thead>\n",
              "    <tr style=\"text-align: right;\">\n",
              "      <th></th>\n",
              "      <th>id</th>\n",
              "      <th>Текст Сообщения</th>\n",
              "      <th>Тематика</th>\n",
              "      <th>Ответственное лицо</th>\n",
              "    </tr>\n",
              "  </thead>\n",
              "  <tbody>\n",
              "    <tr>\n",
              "      <th>0</th>\n",
              "      <td>843</td>\n",
              "      <td>&lt;p&gt;Здравствуйте. На улице Мира &amp;nbsp;было заме...</td>\n",
              "      <td>Неработающее наружное освещение</td>\n",
              "      <td>Администрация Курчатовского района</td>\n",
              "    </tr>\n",
              "    <tr>\n",
              "      <th>1</th>\n",
              "      <td>1422</td>\n",
              "      <td>&lt;p&gt;Уже вторую неделю не горит уличное освещени...</td>\n",
              "      <td>Неработающее наружное освещение</td>\n",
              "      <td>Комитет жилищно-коммунального хозяйства города...</td>\n",
              "    </tr>\n",
              "    <tr>\n",
              "      <th>2</th>\n",
              "      <td>2782</td>\n",
              "      <td>Не работает освещение во дворе дома 11а по Эне...</td>\n",
              "      <td>Неработающее наружное освещение</td>\n",
              "      <td>Комитет жилищно-коммунального хозяйства города...</td>\n",
              "    </tr>\n",
              "  </tbody>\n",
              "</table>\n",
              "</div>\n",
              "      <button class=\"colab-df-convert\" onclick=\"convertToInteractive('df-5bdfb9cd-6f68-4985-9d49-4571bcbe5fb6')\"\n",
              "              title=\"Convert this dataframe to an interactive table.\"\n",
              "              style=\"display:none;\">\n",
              "        \n",
              "  <svg xmlns=\"http://www.w3.org/2000/svg\" height=\"24px\"viewBox=\"0 0 24 24\"\n",
              "       width=\"24px\">\n",
              "    <path d=\"M0 0h24v24H0V0z\" fill=\"none\"/>\n",
              "    <path d=\"M18.56 5.44l.94 2.06.94-2.06 2.06-.94-2.06-.94-.94-2.06-.94 2.06-2.06.94zm-11 1L8.5 8.5l.94-2.06 2.06-.94-2.06-.94L8.5 2.5l-.94 2.06-2.06.94zm10 10l.94 2.06.94-2.06 2.06-.94-2.06-.94-.94-2.06-.94 2.06-2.06.94z\"/><path d=\"M17.41 7.96l-1.37-1.37c-.4-.4-.92-.59-1.43-.59-.52 0-1.04.2-1.43.59L10.3 9.45l-7.72 7.72c-.78.78-.78 2.05 0 2.83L4 21.41c.39.39.9.59 1.41.59.51 0 1.02-.2 1.41-.59l7.78-7.78 2.81-2.81c.8-.78.8-2.07 0-2.86zM5.41 20L4 18.59l7.72-7.72 1.47 1.35L5.41 20z\"/>\n",
              "  </svg>\n",
              "      </button>\n",
              "      \n",
              "  <style>\n",
              "    .colab-df-container {\n",
              "      display:flex;\n",
              "      flex-wrap:wrap;\n",
              "      gap: 12px;\n",
              "    }\n",
              "\n",
              "    .colab-df-convert {\n",
              "      background-color: #E8F0FE;\n",
              "      border: none;\n",
              "      border-radius: 50%;\n",
              "      cursor: pointer;\n",
              "      display: none;\n",
              "      fill: #1967D2;\n",
              "      height: 32px;\n",
              "      padding: 0 0 0 0;\n",
              "      width: 32px;\n",
              "    }\n",
              "\n",
              "    .colab-df-convert:hover {\n",
              "      background-color: #E2EBFA;\n",
              "      box-shadow: 0px 1px 2px rgba(60, 64, 67, 0.3), 0px 1px 3px 1px rgba(60, 64, 67, 0.15);\n",
              "      fill: #174EA6;\n",
              "    }\n",
              "\n",
              "    [theme=dark] .colab-df-convert {\n",
              "      background-color: #3B4455;\n",
              "      fill: #D2E3FC;\n",
              "    }\n",
              "\n",
              "    [theme=dark] .colab-df-convert:hover {\n",
              "      background-color: #434B5C;\n",
              "      box-shadow: 0px 1px 3px 1px rgba(0, 0, 0, 0.15);\n",
              "      filter: drop-shadow(0px 1px 2px rgba(0, 0, 0, 0.3));\n",
              "      fill: #FFFFFF;\n",
              "    }\n",
              "  </style>\n",
              "\n",
              "      <script>\n",
              "        const buttonEl =\n",
              "          document.querySelector('#df-5bdfb9cd-6f68-4985-9d49-4571bcbe5fb6 button.colab-df-convert');\n",
              "        buttonEl.style.display =\n",
              "          google.colab.kernel.accessAllowed ? 'block' : 'none';\n",
              "\n",
              "        async function convertToInteractive(key) {\n",
              "          const element = document.querySelector('#df-5bdfb9cd-6f68-4985-9d49-4571bcbe5fb6');\n",
              "          const dataTable =\n",
              "            await google.colab.kernel.invokeFunction('convertToInteractive',\n",
              "                                                     [key], {});\n",
              "          if (!dataTable) return;\n",
              "\n",
              "          const docLinkHtml = 'Like what you see? Visit the ' +\n",
              "            '<a target=\"_blank\" href=https://colab.research.google.com/notebooks/data_table.ipynb>data table notebook</a>'\n",
              "            + ' to learn more about interactive tables.';\n",
              "          element.innerHTML = '';\n",
              "          dataTable['output_type'] = 'display_data';\n",
              "          await google.colab.output.renderOutput(dataTable, element);\n",
              "          const docLink = document.createElement('div');\n",
              "          docLink.innerHTML = docLinkHtml;\n",
              "          element.appendChild(docLink);\n",
              "        }\n",
              "      </script>\n",
              "    </div>\n",
              "  </div>\n",
              "  "
            ]
          },
          "metadata": {},
          "execution_count": 76
        }
      ]
    },
    {
      "cell_type": "code",
      "source": [
        "Y_test2=test_df[['id']]"
      ],
      "metadata": {
        "id": "lgYZ6s66VzBX"
      },
      "execution_count": 77,
      "outputs": []
    },
    {
      "cell_type": "code",
      "source": [
        "# test_df = test_df.drop(columns=['id', 'Тематика', 'Ответственное лицо'])\n",
        "# test_df.head(3)"
      ],
      "metadata": {
        "id": "Sqk2xZVaSdrA"
      },
      "execution_count": 78,
      "outputs": []
    },
    {
      "cell_type": "code",
      "source": [
        "# Создаем датасет, сливаем текстовые колонки, убираем ненужные колонки\n",
        "test_df = test_df.drop(columns=['id']) # Удаление столбца с ID\n",
        "\n",
        "# Объединение текстовых колонок в одну\n",
        "test_df[\"text\"] = test_df['Текст Сообщения'].astype(str) + \" \" + test_df['Ответственное лицо'].astype(str)\n",
        "\n",
        "# Удаление лишних колонок\n",
        "test_df = test_df.drop(columns=['Текст Сообщения', 'Ответственное лицо', 'Тематика'])\n",
        "test_df.head()"
      ],
      "metadata": {
        "colab": {
          "base_uri": "https://localhost:8080/",
          "height": 206
        },
        "id": "ahMYbl5R4S7X",
        "outputId": "73760443-db1c-41ef-ff81-8b45fa339399"
      },
      "execution_count": 79,
      "outputs": [
        {
          "output_type": "execute_result",
          "data": {
            "text/plain": [
              "                                                text\n",
              "0  <p>Здравствуйте. На улице Мира &nbsp;было заме...\n",
              "1  <p>Уже вторую неделю не горит уличное освещени...\n",
              "2  Не работает освещение во дворе дома 11а по Эне...\n",
              "3  После покоса сорной растительности на газоне м...\n",
              "4  <p>Прошу принять меры к водителю маршрута 263:..."
            ],
            "text/html": [
              "\n",
              "  <div id=\"df-3ef9f554-f00a-4f6b-824e-221fd2cacaa0\">\n",
              "    <div class=\"colab-df-container\">\n",
              "      <div>\n",
              "<style scoped>\n",
              "    .dataframe tbody tr th:only-of-type {\n",
              "        vertical-align: middle;\n",
              "    }\n",
              "\n",
              "    .dataframe tbody tr th {\n",
              "        vertical-align: top;\n",
              "    }\n",
              "\n",
              "    .dataframe thead th {\n",
              "        text-align: right;\n",
              "    }\n",
              "</style>\n",
              "<table border=\"1\" class=\"dataframe\">\n",
              "  <thead>\n",
              "    <tr style=\"text-align: right;\">\n",
              "      <th></th>\n",
              "      <th>text</th>\n",
              "    </tr>\n",
              "  </thead>\n",
              "  <tbody>\n",
              "    <tr>\n",
              "      <th>0</th>\n",
              "      <td>&lt;p&gt;Здравствуйте. На улице Мира &amp;nbsp;было заме...</td>\n",
              "    </tr>\n",
              "    <tr>\n",
              "      <th>1</th>\n",
              "      <td>&lt;p&gt;Уже вторую неделю не горит уличное освещени...</td>\n",
              "    </tr>\n",
              "    <tr>\n",
              "      <th>2</th>\n",
              "      <td>Не работает освещение во дворе дома 11а по Эне...</td>\n",
              "    </tr>\n",
              "    <tr>\n",
              "      <th>3</th>\n",
              "      <td>После покоса сорной растительности на газоне м...</td>\n",
              "    </tr>\n",
              "    <tr>\n",
              "      <th>4</th>\n",
              "      <td>&lt;p&gt;Прошу принять меры к водителю маршрута 263:...</td>\n",
              "    </tr>\n",
              "  </tbody>\n",
              "</table>\n",
              "</div>\n",
              "      <button class=\"colab-df-convert\" onclick=\"convertToInteractive('df-3ef9f554-f00a-4f6b-824e-221fd2cacaa0')\"\n",
              "              title=\"Convert this dataframe to an interactive table.\"\n",
              "              style=\"display:none;\">\n",
              "        \n",
              "  <svg xmlns=\"http://www.w3.org/2000/svg\" height=\"24px\"viewBox=\"0 0 24 24\"\n",
              "       width=\"24px\">\n",
              "    <path d=\"M0 0h24v24H0V0z\" fill=\"none\"/>\n",
              "    <path d=\"M18.56 5.44l.94 2.06.94-2.06 2.06-.94-2.06-.94-.94-2.06-.94 2.06-2.06.94zm-11 1L8.5 8.5l.94-2.06 2.06-.94-2.06-.94L8.5 2.5l-.94 2.06-2.06.94zm10 10l.94 2.06.94-2.06 2.06-.94-2.06-.94-.94-2.06-.94 2.06-2.06.94z\"/><path d=\"M17.41 7.96l-1.37-1.37c-.4-.4-.92-.59-1.43-.59-.52 0-1.04.2-1.43.59L10.3 9.45l-7.72 7.72c-.78.78-.78 2.05 0 2.83L4 21.41c.39.39.9.59 1.41.59.51 0 1.02-.2 1.41-.59l7.78-7.78 2.81-2.81c.8-.78.8-2.07 0-2.86zM5.41 20L4 18.59l7.72-7.72 1.47 1.35L5.41 20z\"/>\n",
              "  </svg>\n",
              "      </button>\n",
              "      \n",
              "  <style>\n",
              "    .colab-df-container {\n",
              "      display:flex;\n",
              "      flex-wrap:wrap;\n",
              "      gap: 12px;\n",
              "    }\n",
              "\n",
              "    .colab-df-convert {\n",
              "      background-color: #E8F0FE;\n",
              "      border: none;\n",
              "      border-radius: 50%;\n",
              "      cursor: pointer;\n",
              "      display: none;\n",
              "      fill: #1967D2;\n",
              "      height: 32px;\n",
              "      padding: 0 0 0 0;\n",
              "      width: 32px;\n",
              "    }\n",
              "\n",
              "    .colab-df-convert:hover {\n",
              "      background-color: #E2EBFA;\n",
              "      box-shadow: 0px 1px 2px rgba(60, 64, 67, 0.3), 0px 1px 3px 1px rgba(60, 64, 67, 0.15);\n",
              "      fill: #174EA6;\n",
              "    }\n",
              "\n",
              "    [theme=dark] .colab-df-convert {\n",
              "      background-color: #3B4455;\n",
              "      fill: #D2E3FC;\n",
              "    }\n",
              "\n",
              "    [theme=dark] .colab-df-convert:hover {\n",
              "      background-color: #434B5C;\n",
              "      box-shadow: 0px 1px 3px 1px rgba(0, 0, 0, 0.15);\n",
              "      filter: drop-shadow(0px 1px 2px rgba(0, 0, 0, 0.3));\n",
              "      fill: #FFFFFF;\n",
              "    }\n",
              "  </style>\n",
              "\n",
              "      <script>\n",
              "        const buttonEl =\n",
              "          document.querySelector('#df-3ef9f554-f00a-4f6b-824e-221fd2cacaa0 button.colab-df-convert');\n",
              "        buttonEl.style.display =\n",
              "          google.colab.kernel.accessAllowed ? 'block' : 'none';\n",
              "\n",
              "        async function convertToInteractive(key) {\n",
              "          const element = document.querySelector('#df-3ef9f554-f00a-4f6b-824e-221fd2cacaa0');\n",
              "          const dataTable =\n",
              "            await google.colab.kernel.invokeFunction('convertToInteractive',\n",
              "                                                     [key], {});\n",
              "          if (!dataTable) return;\n",
              "\n",
              "          const docLinkHtml = 'Like what you see? Visit the ' +\n",
              "            '<a target=\"_blank\" href=https://colab.research.google.com/notebooks/data_table.ipynb>data table notebook</a>'\n",
              "            + ' to learn more about interactive tables.';\n",
              "          element.innerHTML = '';\n",
              "          dataTable['output_type'] = 'display_data';\n",
              "          await google.colab.output.renderOutput(dataTable, element);\n",
              "          const docLink = document.createElement('div');\n",
              "          docLink.innerHTML = docLinkHtml;\n",
              "          element.appendChild(docLink);\n",
              "        }\n",
              "      </script>\n",
              "    </div>\n",
              "  </div>\n",
              "  "
            ]
          },
          "metadata": {},
          "execution_count": 79
        }
      ]
    },
    {
      "cell_type": "code",
      "source": [
        "from string import punctuation  # Модуль для работы со строками\n",
        "\n",
        "# Удаление символов пунктуации\n",
        "def remove_punctuation(my_string):\n",
        "    return \"\".join([ch if ch not in punctuation else ' ' for ch in my_string]) # Замена на пробелы!!!\n",
        "\n",
        "# Удаление чисел\n",
        "def remove_numbers(my_string):\n",
        "    return ''.join([i if not i.isdigit() else ' ' for i in my_string])\n",
        "\n",
        "# Замена множественных пробелов на одинарный пробел\n",
        "import re\n",
        "def remove_multiple_spaces(my_string):\n",
        "\treturn re.sub(r'\\s+', ' ', my_string, flags=re.I)\n",
        "\n",
        "# Обработка строк + дополнительно приведение к нижнему регистру\n",
        "preproccessing = lambda text: (remove_multiple_spaces(remove_numbers(remove_punctuation(text.lower())))) \n",
        "\n",
        "# Создаем колонку в датасете для обработанного текста\n",
        "test_df['text_processed'] = list(map(preproccessing, test_df['text']))\n",
        "test_df.head()"
      ],
      "metadata": {
        "colab": {
          "base_uri": "https://localhost:8080/",
          "height": 206
        },
        "id": "mnIr5IJETIkj",
        "outputId": "0cda3cdd-97cc-470e-fa49-5687f4e5fe14"
      },
      "execution_count": 80,
      "outputs": [
        {
          "output_type": "execute_result",
          "data": {
            "text/plain": [
              "                                                text  \\\n",
              "0  <p>Здравствуйте. На улице Мира &nbsp;было заме...   \n",
              "1  <p>Уже вторую неделю не горит уличное освещени...   \n",
              "2  Не работает освещение во дворе дома 11а по Эне...   \n",
              "3  После покоса сорной растительности на газоне м...   \n",
              "4  <p>Прошу принять меры к водителю маршрута 263:...   \n",
              "\n",
              "                                      text_processed  \n",
              "0   p здравствуйте на улице мира nbsp было замене...  \n",
              "1   p уже вторую неделю не горит уличное освещени...  \n",
              "2  не работает освещение во дворе дома а по энерг...  \n",
              "3  после покоса сорной растительности на газоне м...  \n",
              "4   p прошу принять меры к водителю маршрута пос ...  "
            ],
            "text/html": [
              "\n",
              "  <div id=\"df-e2934e8c-fdcb-4c14-8826-36e8160dae3e\">\n",
              "    <div class=\"colab-df-container\">\n",
              "      <div>\n",
              "<style scoped>\n",
              "    .dataframe tbody tr th:only-of-type {\n",
              "        vertical-align: middle;\n",
              "    }\n",
              "\n",
              "    .dataframe tbody tr th {\n",
              "        vertical-align: top;\n",
              "    }\n",
              "\n",
              "    .dataframe thead th {\n",
              "        text-align: right;\n",
              "    }\n",
              "</style>\n",
              "<table border=\"1\" class=\"dataframe\">\n",
              "  <thead>\n",
              "    <tr style=\"text-align: right;\">\n",
              "      <th></th>\n",
              "      <th>text</th>\n",
              "      <th>text_processed</th>\n",
              "    </tr>\n",
              "  </thead>\n",
              "  <tbody>\n",
              "    <tr>\n",
              "      <th>0</th>\n",
              "      <td>&lt;p&gt;Здравствуйте. На улице Мира &amp;nbsp;было заме...</td>\n",
              "      <td>p здравствуйте на улице мира nbsp было замене...</td>\n",
              "    </tr>\n",
              "    <tr>\n",
              "      <th>1</th>\n",
              "      <td>&lt;p&gt;Уже вторую неделю не горит уличное освещени...</td>\n",
              "      <td>p уже вторую неделю не горит уличное освещени...</td>\n",
              "    </tr>\n",
              "    <tr>\n",
              "      <th>2</th>\n",
              "      <td>Не работает освещение во дворе дома 11а по Эне...</td>\n",
              "      <td>не работает освещение во дворе дома а по энерг...</td>\n",
              "    </tr>\n",
              "    <tr>\n",
              "      <th>3</th>\n",
              "      <td>После покоса сорной растительности на газоне м...</td>\n",
              "      <td>после покоса сорной растительности на газоне м...</td>\n",
              "    </tr>\n",
              "    <tr>\n",
              "      <th>4</th>\n",
              "      <td>&lt;p&gt;Прошу принять меры к водителю маршрута 263:...</td>\n",
              "      <td>p прошу принять меры к водителю маршрута пос ...</td>\n",
              "    </tr>\n",
              "  </tbody>\n",
              "</table>\n",
              "</div>\n",
              "      <button class=\"colab-df-convert\" onclick=\"convertToInteractive('df-e2934e8c-fdcb-4c14-8826-36e8160dae3e')\"\n",
              "              title=\"Convert this dataframe to an interactive table.\"\n",
              "              style=\"display:none;\">\n",
              "        \n",
              "  <svg xmlns=\"http://www.w3.org/2000/svg\" height=\"24px\"viewBox=\"0 0 24 24\"\n",
              "       width=\"24px\">\n",
              "    <path d=\"M0 0h24v24H0V0z\" fill=\"none\"/>\n",
              "    <path d=\"M18.56 5.44l.94 2.06.94-2.06 2.06-.94-2.06-.94-.94-2.06-.94 2.06-2.06.94zm-11 1L8.5 8.5l.94-2.06 2.06-.94-2.06-.94L8.5 2.5l-.94 2.06-2.06.94zm10 10l.94 2.06.94-2.06 2.06-.94-2.06-.94-.94-2.06-.94 2.06-2.06.94z\"/><path d=\"M17.41 7.96l-1.37-1.37c-.4-.4-.92-.59-1.43-.59-.52 0-1.04.2-1.43.59L10.3 9.45l-7.72 7.72c-.78.78-.78 2.05 0 2.83L4 21.41c.39.39.9.59 1.41.59.51 0 1.02-.2 1.41-.59l7.78-7.78 2.81-2.81c.8-.78.8-2.07 0-2.86zM5.41 20L4 18.59l7.72-7.72 1.47 1.35L5.41 20z\"/>\n",
              "  </svg>\n",
              "      </button>\n",
              "      \n",
              "  <style>\n",
              "    .colab-df-container {\n",
              "      display:flex;\n",
              "      flex-wrap:wrap;\n",
              "      gap: 12px;\n",
              "    }\n",
              "\n",
              "    .colab-df-convert {\n",
              "      background-color: #E8F0FE;\n",
              "      border: none;\n",
              "      border-radius: 50%;\n",
              "      cursor: pointer;\n",
              "      display: none;\n",
              "      fill: #1967D2;\n",
              "      height: 32px;\n",
              "      padding: 0 0 0 0;\n",
              "      width: 32px;\n",
              "    }\n",
              "\n",
              "    .colab-df-convert:hover {\n",
              "      background-color: #E2EBFA;\n",
              "      box-shadow: 0px 1px 2px rgba(60, 64, 67, 0.3), 0px 1px 3px 1px rgba(60, 64, 67, 0.15);\n",
              "      fill: #174EA6;\n",
              "    }\n",
              "\n",
              "    [theme=dark] .colab-df-convert {\n",
              "      background-color: #3B4455;\n",
              "      fill: #D2E3FC;\n",
              "    }\n",
              "\n",
              "    [theme=dark] .colab-df-convert:hover {\n",
              "      background-color: #434B5C;\n",
              "      box-shadow: 0px 1px 3px 1px rgba(0, 0, 0, 0.15);\n",
              "      filter: drop-shadow(0px 1px 2px rgba(0, 0, 0, 0.3));\n",
              "      fill: #FFFFFF;\n",
              "    }\n",
              "  </style>\n",
              "\n",
              "      <script>\n",
              "        const buttonEl =\n",
              "          document.querySelector('#df-e2934e8c-fdcb-4c14-8826-36e8160dae3e button.colab-df-convert');\n",
              "        buttonEl.style.display =\n",
              "          google.colab.kernel.accessAllowed ? 'block' : 'none';\n",
              "\n",
              "        async function convertToInteractive(key) {\n",
              "          const element = document.querySelector('#df-e2934e8c-fdcb-4c14-8826-36e8160dae3e');\n",
              "          const dataTable =\n",
              "            await google.colab.kernel.invokeFunction('convertToInteractive',\n",
              "                                                     [key], {});\n",
              "          if (!dataTable) return;\n",
              "\n",
              "          const docLinkHtml = 'Like what you see? Visit the ' +\n",
              "            '<a target=\"_blank\" href=https://colab.research.google.com/notebooks/data_table.ipynb>data table notebook</a>'\n",
              "            + ' to learn more about interactive tables.';\n",
              "          element.innerHTML = '';\n",
              "          dataTable['output_type'] = 'display_data';\n",
              "          await google.colab.output.renderOutput(dataTable, element);\n",
              "          const docLink = document.createElement('div');\n",
              "          docLink.innerHTML = docLinkHtml;\n",
              "          element.appendChild(docLink);\n",
              "        }\n",
              "      </script>\n",
              "    </div>\n",
              "  </div>\n",
              "  "
            ]
          },
          "metadata": {},
          "execution_count": 80
        }
      ]
    },
    {
      "cell_type": "code",
      "source": [
        "# Провердим стемминг и избавляемся от стоп-слов\n",
        "stemmed_text_column = []\n",
        "for text in tqdm(test_df['text_processed']):\n",
        "    tokens = word_tokenize(text)    \n",
        "    stemmed_tokens = [stemmer.stem(token) for token in tokens if token not in russian_stopwords]\n",
        "    text = \" \".join(stemmed_tokens)\n",
        "    stemmed_text_column.append(text)\n",
        "\n",
        "# Создаем новую колонку в наборе данных\n",
        "test_df['text_stemmed'] = stemmed_text_column\n",
        "test_df['text_stemmed'][0]"
      ],
      "metadata": {
        "colab": {
          "base_uri": "https://localhost:8080/",
          "height": 102,
          "referenced_widgets": [
            "34f5fdd11e61412192c06313d8aa661d",
            "78052b0e26cd4c0aa159606591a418d1",
            "38b560ce1df64aca9dfcad52005141d8",
            "913e180586d742d494c01f3817fde228",
            "3f43b717aff64133959bc2723529da75",
            "bd6ca95317314718a4309eaacc3de555",
            "8ca9d977d34745d393b690e8b07d5b19",
            "4c80744642a44be1b75358c4e4b610a4",
            "338990e77b474bcf8c31d1d781d6165e",
            "c0481bd6ed4446a68f005b70d8d286aa",
            "c76c304707ba4de0ae1c42a896a63de3"
          ]
        },
        "outputId": "4122e30c-519d-48c6-bde1-06a0671fac11",
        "id": "tU_TtHTgTcl9"
      },
      "execution_count": 81,
      "outputs": [
        {
          "output_type": "display_data",
          "data": {
            "text/plain": [
              "  0%|          | 0/1000 [00:00<?, ?it/s]"
            ],
            "application/vnd.jupyter.widget-view+json": {
              "version_major": 2,
              "version_minor": 0,
              "model_id": "34f5fdd11e61412192c06313d8aa661d"
            }
          },
          "metadata": {}
        },
        {
          "output_type": "execute_result",
          "data": {
            "text/plain": [
              "'p здравств улиц мир nbsp замен наружн освещен имен замен ламп nbsp энергосберега ламп протяжен нескольк месяц освещен улиц отсутств последн улиц освещ эт зим приблизительн кажд ден люд работа часов смен мног возвраща очен поздн дан проблем улиц поселк nbsp p администрац курчатовск район'"
            ],
            "application/vnd.google.colaboratory.intrinsic+json": {
              "type": "string"
            }
          },
          "metadata": {},
          "execution_count": 81
        }
      ]
    },
    {
      "cell_type": "code",
      "source": [
        "test_df.head()"
      ],
      "metadata": {
        "colab": {
          "base_uri": "https://localhost:8080/",
          "height": 337
        },
        "outputId": "503a1a23-db62-4287-93bb-4dcbaa8c36ca",
        "id": "Fkqymj3WTcl_"
      },
      "execution_count": 82,
      "outputs": [
        {
          "output_type": "execute_result",
          "data": {
            "text/plain": [
              "                                                text  \\\n",
              "0  <p>Здравствуйте. На улице Мира &nbsp;было заме...   \n",
              "1  <p>Уже вторую неделю не горит уличное освещени...   \n",
              "2  Не работает освещение во дворе дома 11а по Эне...   \n",
              "3  После покоса сорной растительности на газоне м...   \n",
              "4  <p>Прошу принять меры к водителю маршрута 263:...   \n",
              "\n",
              "                                      text_processed  \\\n",
              "0   p здравствуйте на улице мира nbsp было замене...   \n",
              "1   p уже вторую неделю не горит уличное освещени...   \n",
              "2  не работает освещение во дворе дома а по энерг...   \n",
              "3  после покоса сорной растительности на газоне м...   \n",
              "4   p прошу принять меры к водителю маршрута пос ...   \n",
              "\n",
              "                                        text_stemmed  \n",
              "0  p здравств улиц мир nbsp замен наружн освещен ...  \n",
              "1  p втор недел гор уличн освещен p p nbsp p коми...  \n",
              "2  работа освещен двор дом энергетик светов опор ...  \n",
              "3  покос сорн растительн газон тротуар проезж час...  \n",
              "4  p прош приня мер водител маршрут пос северн со...  "
            ],
            "text/html": [
              "\n",
              "  <div id=\"df-0d5dd7aa-fc01-441a-ab2f-34f1dde48bac\">\n",
              "    <div class=\"colab-df-container\">\n",
              "      <div>\n",
              "<style scoped>\n",
              "    .dataframe tbody tr th:only-of-type {\n",
              "        vertical-align: middle;\n",
              "    }\n",
              "\n",
              "    .dataframe tbody tr th {\n",
              "        vertical-align: top;\n",
              "    }\n",
              "\n",
              "    .dataframe thead th {\n",
              "        text-align: right;\n",
              "    }\n",
              "</style>\n",
              "<table border=\"1\" class=\"dataframe\">\n",
              "  <thead>\n",
              "    <tr style=\"text-align: right;\">\n",
              "      <th></th>\n",
              "      <th>text</th>\n",
              "      <th>text_processed</th>\n",
              "      <th>text_stemmed</th>\n",
              "    </tr>\n",
              "  </thead>\n",
              "  <tbody>\n",
              "    <tr>\n",
              "      <th>0</th>\n",
              "      <td>&lt;p&gt;Здравствуйте. На улице Мира &amp;nbsp;было заме...</td>\n",
              "      <td>p здравствуйте на улице мира nbsp было замене...</td>\n",
              "      <td>p здравств улиц мир nbsp замен наружн освещен ...</td>\n",
              "    </tr>\n",
              "    <tr>\n",
              "      <th>1</th>\n",
              "      <td>&lt;p&gt;Уже вторую неделю не горит уличное освещени...</td>\n",
              "      <td>p уже вторую неделю не горит уличное освещени...</td>\n",
              "      <td>p втор недел гор уличн освещен p p nbsp p коми...</td>\n",
              "    </tr>\n",
              "    <tr>\n",
              "      <th>2</th>\n",
              "      <td>Не работает освещение во дворе дома 11а по Эне...</td>\n",
              "      <td>не работает освещение во дворе дома а по энерг...</td>\n",
              "      <td>работа освещен двор дом энергетик светов опор ...</td>\n",
              "    </tr>\n",
              "    <tr>\n",
              "      <th>3</th>\n",
              "      <td>После покоса сорной растительности на газоне м...</td>\n",
              "      <td>после покоса сорной растительности на газоне м...</td>\n",
              "      <td>покос сорн растительн газон тротуар проезж час...</td>\n",
              "    </tr>\n",
              "    <tr>\n",
              "      <th>4</th>\n",
              "      <td>&lt;p&gt;Прошу принять меры к водителю маршрута 263:...</td>\n",
              "      <td>p прошу принять меры к водителю маршрута пос ...</td>\n",
              "      <td>p прош приня мер водител маршрут пос северн со...</td>\n",
              "    </tr>\n",
              "  </tbody>\n",
              "</table>\n",
              "</div>\n",
              "      <button class=\"colab-df-convert\" onclick=\"convertToInteractive('df-0d5dd7aa-fc01-441a-ab2f-34f1dde48bac')\"\n",
              "              title=\"Convert this dataframe to an interactive table.\"\n",
              "              style=\"display:none;\">\n",
              "        \n",
              "  <svg xmlns=\"http://www.w3.org/2000/svg\" height=\"24px\"viewBox=\"0 0 24 24\"\n",
              "       width=\"24px\">\n",
              "    <path d=\"M0 0h24v24H0V0z\" fill=\"none\"/>\n",
              "    <path d=\"M18.56 5.44l.94 2.06.94-2.06 2.06-.94-2.06-.94-.94-2.06-.94 2.06-2.06.94zm-11 1L8.5 8.5l.94-2.06 2.06-.94-2.06-.94L8.5 2.5l-.94 2.06-2.06.94zm10 10l.94 2.06.94-2.06 2.06-.94-2.06-.94-.94-2.06-.94 2.06-2.06.94z\"/><path d=\"M17.41 7.96l-1.37-1.37c-.4-.4-.92-.59-1.43-.59-.52 0-1.04.2-1.43.59L10.3 9.45l-7.72 7.72c-.78.78-.78 2.05 0 2.83L4 21.41c.39.39.9.59 1.41.59.51 0 1.02-.2 1.41-.59l7.78-7.78 2.81-2.81c.8-.78.8-2.07 0-2.86zM5.41 20L4 18.59l7.72-7.72 1.47 1.35L5.41 20z\"/>\n",
              "  </svg>\n",
              "      </button>\n",
              "      \n",
              "  <style>\n",
              "    .colab-df-container {\n",
              "      display:flex;\n",
              "      flex-wrap:wrap;\n",
              "      gap: 12px;\n",
              "    }\n",
              "\n",
              "    .colab-df-convert {\n",
              "      background-color: #E8F0FE;\n",
              "      border: none;\n",
              "      border-radius: 50%;\n",
              "      cursor: pointer;\n",
              "      display: none;\n",
              "      fill: #1967D2;\n",
              "      height: 32px;\n",
              "      padding: 0 0 0 0;\n",
              "      width: 32px;\n",
              "    }\n",
              "\n",
              "    .colab-df-convert:hover {\n",
              "      background-color: #E2EBFA;\n",
              "      box-shadow: 0px 1px 2px rgba(60, 64, 67, 0.3), 0px 1px 3px 1px rgba(60, 64, 67, 0.15);\n",
              "      fill: #174EA6;\n",
              "    }\n",
              "\n",
              "    [theme=dark] .colab-df-convert {\n",
              "      background-color: #3B4455;\n",
              "      fill: #D2E3FC;\n",
              "    }\n",
              "\n",
              "    [theme=dark] .colab-df-convert:hover {\n",
              "      background-color: #434B5C;\n",
              "      box-shadow: 0px 1px 3px 1px rgba(0, 0, 0, 0.15);\n",
              "      filter: drop-shadow(0px 1px 2px rgba(0, 0, 0, 0.3));\n",
              "      fill: #FFFFFF;\n",
              "    }\n",
              "  </style>\n",
              "\n",
              "      <script>\n",
              "        const buttonEl =\n",
              "          document.querySelector('#df-0d5dd7aa-fc01-441a-ab2f-34f1dde48bac button.colab-df-convert');\n",
              "        buttonEl.style.display =\n",
              "          google.colab.kernel.accessAllowed ? 'block' : 'none';\n",
              "\n",
              "        async function convertToInteractive(key) {\n",
              "          const element = document.querySelector('#df-0d5dd7aa-fc01-441a-ab2f-34f1dde48bac');\n",
              "          const dataTable =\n",
              "            await google.colab.kernel.invokeFunction('convertToInteractive',\n",
              "                                                     [key], {});\n",
              "          if (!dataTable) return;\n",
              "\n",
              "          const docLinkHtml = 'Like what you see? Visit the ' +\n",
              "            '<a target=\"_blank\" href=https://colab.research.google.com/notebooks/data_table.ipynb>data table notebook</a>'\n",
              "            + ' to learn more about interactive tables.';\n",
              "          element.innerHTML = '';\n",
              "          dataTable['output_type'] = 'display_data';\n",
              "          await google.colab.output.renderOutput(dataTable, element);\n",
              "          const docLink = document.createElement('div');\n",
              "          docLink.innerHTML = docLinkHtml;\n",
              "          element.appendChild(docLink);\n",
              "        }\n",
              "      </script>\n",
              "    </div>\n",
              "  </div>\n",
              "  "
            ]
          },
          "metadata": {},
          "execution_count": 82
        }
      ]
    },
    {
      "cell_type": "markdown",
      "source": [
        "## Лемматизация\n",
        "\n",
        "Лемматиза́ция — процесс приведения словоформы к лемме — её нормальной (словарной) форме."
      ],
      "metadata": {
        "id": "jRjZNZKmTcmB"
      }
    },
    {
      "cell_type": "code",
      "source": [
        "# Провердим лемматизацию и избавляемся от стоп-слов\n",
        "lemm_texts_column = []\n",
        "for text in tqdm(test_df['text_processed']):\n",
        "    tokens = word_tokenize(text)    \n",
        "    lemmed_tokens = [morph.parse(token)[0].normal_form for token in tokens if token not in russian_stopwords]\n",
        "    text = \" \".join(lemmed_tokens)\n",
        "    lemm_texts_column.append(text)\n",
        "    \n",
        "# Создаем новую колонку в наборе данных\n",
        "test_df['text_lemmed'] = lemm_texts_column\n",
        "\n",
        "test_df['text_lemmed'][0]"
      ],
      "metadata": {
        "colab": {
          "base_uri": "https://localhost:8080/",
          "height": 119,
          "referenced_widgets": [
            "a627984e528c46d585a8348bb6212c58",
            "19bbb7eb395a40539546d57877e7101c",
            "15ba5438bebd4995a8f518a2a04d2129",
            "1d951ae0b0a4499483eafd7845869d9c",
            "1737226f9ce8433faa55ea6124bf69fc",
            "6ddcf6bf3e6041d6850456ec9aeacb08",
            "bede3f30be984f12b4ff4f3970a1c369",
            "a529da0325aa4eaf93ea6942f4772a1e",
            "af4f27663d8e454fb5365d61355a3ad9",
            "d25a2a570f494c6a922af34d6ffaa188",
            "4cacb13de35345e895e2f695602326b2"
          ]
        },
        "outputId": "1f5923bf-d195-40f7-a99a-0b372cc50aa7",
        "id": "R9aPhVWpTcmD"
      },
      "execution_count": 83,
      "outputs": [
        {
          "output_type": "display_data",
          "data": {
            "text/plain": [
              "  0%|          | 0/1000 [00:00<?, ?it/s]"
            ],
            "application/vnd.jupyter.widget-view+json": {
              "version_major": 2,
              "version_minor": 0,
              "model_id": "a627984e528c46d585a8348bb6212c58"
            }
          },
          "metadata": {}
        },
        {
          "output_type": "execute_result",
          "data": {
            "text/plain": [
              "'p здравствуйте улица мир nbsp заменить наружное освещение именно заменить лампа nbsp энергосберегающий лампа протяжение несколько месяц освещение улица отсутствовать последний улица осветить это зима приблизительно каждый день человек работать часовой смена многие возвращаться очень поздно дать проблема улица посёлок nbsp p администрация курчатовский район'"
            ],
            "application/vnd.google.colaboratory.intrinsic+json": {
              "type": "string"
            }
          },
          "metadata": {},
          "execution_count": 83
        }
      ]
    },
    {
      "cell_type": "code",
      "source": [
        "test_df.head()"
      ],
      "metadata": {
        "colab": {
          "base_uri": "https://localhost:8080/",
          "height": 354
        },
        "outputId": "17a6fbcc-9151-4406-aacd-554da400f59f",
        "id": "mIe7_uJaTcmE"
      },
      "execution_count": 84,
      "outputs": [
        {
          "output_type": "execute_result",
          "data": {
            "text/plain": [
              "                                                text  \\\n",
              "0  <p>Здравствуйте. На улице Мира &nbsp;было заме...   \n",
              "1  <p>Уже вторую неделю не горит уличное освещени...   \n",
              "2  Не работает освещение во дворе дома 11а по Эне...   \n",
              "3  После покоса сорной растительности на газоне м...   \n",
              "4  <p>Прошу принять меры к водителю маршрута 263:...   \n",
              "\n",
              "                                      text_processed  \\\n",
              "0   p здравствуйте на улице мира nbsp было замене...   \n",
              "1   p уже вторую неделю не горит уличное освещени...   \n",
              "2  не работает освещение во дворе дома а по энерг...   \n",
              "3  после покоса сорной растительности на газоне м...   \n",
              "4   p прошу принять меры к водителю маршрута пос ...   \n",
              "\n",
              "                                        text_stemmed  \\\n",
              "0  p здравств улиц мир nbsp замен наружн освещен ...   \n",
              "1  p втор недел гор уличн освещен p p nbsp p коми...   \n",
              "2  работа освещен двор дом энергетик светов опор ...   \n",
              "3  покос сорн растительн газон тротуар проезж час...   \n",
              "4  p прош приня мер водител маршрут пос северн со...   \n",
              "\n",
              "                                         text_lemmed  \n",
              "0  p здравствуйте улица мир nbsp заменить наружно...  \n",
              "1  p второй неделя гореть уличный освещение p p n...  \n",
              "2  работать освещение двор дом энергетик световой...  \n",
              "3  покос сорный растительность газон тротуар прое...  \n",
              "4  p просить принять мера водитель маршрут пос се...  "
            ],
            "text/html": [
              "\n",
              "  <div id=\"df-517bf8bd-362f-4d7c-8eb6-0068cb25414b\">\n",
              "    <div class=\"colab-df-container\">\n",
              "      <div>\n",
              "<style scoped>\n",
              "    .dataframe tbody tr th:only-of-type {\n",
              "        vertical-align: middle;\n",
              "    }\n",
              "\n",
              "    .dataframe tbody tr th {\n",
              "        vertical-align: top;\n",
              "    }\n",
              "\n",
              "    .dataframe thead th {\n",
              "        text-align: right;\n",
              "    }\n",
              "</style>\n",
              "<table border=\"1\" class=\"dataframe\">\n",
              "  <thead>\n",
              "    <tr style=\"text-align: right;\">\n",
              "      <th></th>\n",
              "      <th>text</th>\n",
              "      <th>text_processed</th>\n",
              "      <th>text_stemmed</th>\n",
              "      <th>text_lemmed</th>\n",
              "    </tr>\n",
              "  </thead>\n",
              "  <tbody>\n",
              "    <tr>\n",
              "      <th>0</th>\n",
              "      <td>&lt;p&gt;Здравствуйте. На улице Мира &amp;nbsp;было заме...</td>\n",
              "      <td>p здравствуйте на улице мира nbsp было замене...</td>\n",
              "      <td>p здравств улиц мир nbsp замен наружн освещен ...</td>\n",
              "      <td>p здравствуйте улица мир nbsp заменить наружно...</td>\n",
              "    </tr>\n",
              "    <tr>\n",
              "      <th>1</th>\n",
              "      <td>&lt;p&gt;Уже вторую неделю не горит уличное освещени...</td>\n",
              "      <td>p уже вторую неделю не горит уличное освещени...</td>\n",
              "      <td>p втор недел гор уличн освещен p p nbsp p коми...</td>\n",
              "      <td>p второй неделя гореть уличный освещение p p n...</td>\n",
              "    </tr>\n",
              "    <tr>\n",
              "      <th>2</th>\n",
              "      <td>Не работает освещение во дворе дома 11а по Эне...</td>\n",
              "      <td>не работает освещение во дворе дома а по энерг...</td>\n",
              "      <td>работа освещен двор дом энергетик светов опор ...</td>\n",
              "      <td>работать освещение двор дом энергетик световой...</td>\n",
              "    </tr>\n",
              "    <tr>\n",
              "      <th>3</th>\n",
              "      <td>После покоса сорной растительности на газоне м...</td>\n",
              "      <td>после покоса сорной растительности на газоне м...</td>\n",
              "      <td>покос сорн растительн газон тротуар проезж час...</td>\n",
              "      <td>покос сорный растительность газон тротуар прое...</td>\n",
              "    </tr>\n",
              "    <tr>\n",
              "      <th>4</th>\n",
              "      <td>&lt;p&gt;Прошу принять меры к водителю маршрута 263:...</td>\n",
              "      <td>p прошу принять меры к водителю маршрута пос ...</td>\n",
              "      <td>p прош приня мер водител маршрут пос северн со...</td>\n",
              "      <td>p просить принять мера водитель маршрут пос се...</td>\n",
              "    </tr>\n",
              "  </tbody>\n",
              "</table>\n",
              "</div>\n",
              "      <button class=\"colab-df-convert\" onclick=\"convertToInteractive('df-517bf8bd-362f-4d7c-8eb6-0068cb25414b')\"\n",
              "              title=\"Convert this dataframe to an interactive table.\"\n",
              "              style=\"display:none;\">\n",
              "        \n",
              "  <svg xmlns=\"http://www.w3.org/2000/svg\" height=\"24px\"viewBox=\"0 0 24 24\"\n",
              "       width=\"24px\">\n",
              "    <path d=\"M0 0h24v24H0V0z\" fill=\"none\"/>\n",
              "    <path d=\"M18.56 5.44l.94 2.06.94-2.06 2.06-.94-2.06-.94-.94-2.06-.94 2.06-2.06.94zm-11 1L8.5 8.5l.94-2.06 2.06-.94-2.06-.94L8.5 2.5l-.94 2.06-2.06.94zm10 10l.94 2.06.94-2.06 2.06-.94-2.06-.94-.94-2.06-.94 2.06-2.06.94z\"/><path d=\"M17.41 7.96l-1.37-1.37c-.4-.4-.92-.59-1.43-.59-.52 0-1.04.2-1.43.59L10.3 9.45l-7.72 7.72c-.78.78-.78 2.05 0 2.83L4 21.41c.39.39.9.59 1.41.59.51 0 1.02-.2 1.41-.59l7.78-7.78 2.81-2.81c.8-.78.8-2.07 0-2.86zM5.41 20L4 18.59l7.72-7.72 1.47 1.35L5.41 20z\"/>\n",
              "  </svg>\n",
              "      </button>\n",
              "      \n",
              "  <style>\n",
              "    .colab-df-container {\n",
              "      display:flex;\n",
              "      flex-wrap:wrap;\n",
              "      gap: 12px;\n",
              "    }\n",
              "\n",
              "    .colab-df-convert {\n",
              "      background-color: #E8F0FE;\n",
              "      border: none;\n",
              "      border-radius: 50%;\n",
              "      cursor: pointer;\n",
              "      display: none;\n",
              "      fill: #1967D2;\n",
              "      height: 32px;\n",
              "      padding: 0 0 0 0;\n",
              "      width: 32px;\n",
              "    }\n",
              "\n",
              "    .colab-df-convert:hover {\n",
              "      background-color: #E2EBFA;\n",
              "      box-shadow: 0px 1px 2px rgba(60, 64, 67, 0.3), 0px 1px 3px 1px rgba(60, 64, 67, 0.15);\n",
              "      fill: #174EA6;\n",
              "    }\n",
              "\n",
              "    [theme=dark] .colab-df-convert {\n",
              "      background-color: #3B4455;\n",
              "      fill: #D2E3FC;\n",
              "    }\n",
              "\n",
              "    [theme=dark] .colab-df-convert:hover {\n",
              "      background-color: #434B5C;\n",
              "      box-shadow: 0px 1px 3px 1px rgba(0, 0, 0, 0.15);\n",
              "      filter: drop-shadow(0px 1px 2px rgba(0, 0, 0, 0.3));\n",
              "      fill: #FFFFFF;\n",
              "    }\n",
              "  </style>\n",
              "\n",
              "      <script>\n",
              "        const buttonEl =\n",
              "          document.querySelector('#df-517bf8bd-362f-4d7c-8eb6-0068cb25414b button.colab-df-convert');\n",
              "        buttonEl.style.display =\n",
              "          google.colab.kernel.accessAllowed ? 'block' : 'none';\n",
              "\n",
              "        async function convertToInteractive(key) {\n",
              "          const element = document.querySelector('#df-517bf8bd-362f-4d7c-8eb6-0068cb25414b');\n",
              "          const dataTable =\n",
              "            await google.colab.kernel.invokeFunction('convertToInteractive',\n",
              "                                                     [key], {});\n",
              "          if (!dataTable) return;\n",
              "\n",
              "          const docLinkHtml = 'Like what you see? Visit the ' +\n",
              "            '<a target=\"_blank\" href=https://colab.research.google.com/notebooks/data_table.ipynb>data table notebook</a>'\n",
              "            + ' to learn more about interactive tables.';\n",
              "          element.innerHTML = '';\n",
              "          dataTable['output_type'] = 'display_data';\n",
              "          await google.colab.output.renderOutput(dataTable, element);\n",
              "          const docLink = document.createElement('div');\n",
              "          docLink.innerHTML = docLinkHtml;\n",
              "          element.appendChild(docLink);\n",
              "        }\n",
              "      </script>\n",
              "    </div>\n",
              "  </div>\n",
              "  "
            ]
          },
          "metadata": {},
          "execution_count": 84
        }
      ]
    },
    {
      "cell_type": "markdown",
      "source": [
        "## Токенизация\n",
        "\n",
        "Токенизация - процесс разделения текста на составляющие (слова, предложения, группы слов)."
      ],
      "metadata": {
        "id": "lfAIgkDGTcmG"
      }
    },
    {
      "cell_type": "code",
      "source": [
        "# from nltk import word_tokenize\n",
        "\n",
        "word_tokenize(test_df['text_lemmed'][0])"
      ],
      "metadata": {
        "colab": {
          "base_uri": "https://localhost:8080/"
        },
        "outputId": "564cfde5-0331-48ac-8525-8dc4d3cc73f0",
        "id": "lcDYKnj3TcmH"
      },
      "execution_count": 85,
      "outputs": [
        {
          "output_type": "execute_result",
          "data": {
            "text/plain": [
              "['p',\n",
              " 'здравствуйте',\n",
              " 'улица',\n",
              " 'мир',\n",
              " 'nbsp',\n",
              " 'заменить',\n",
              " 'наружное',\n",
              " 'освещение',\n",
              " 'именно',\n",
              " 'заменить',\n",
              " 'лампа',\n",
              " 'nbsp',\n",
              " 'энергосберегающий',\n",
              " 'лампа',\n",
              " 'протяжение',\n",
              " 'несколько',\n",
              " 'месяц',\n",
              " 'освещение',\n",
              " 'улица',\n",
              " 'отсутствовать',\n",
              " 'последний',\n",
              " 'улица',\n",
              " 'осветить',\n",
              " 'это',\n",
              " 'зима',\n",
              " 'приблизительно',\n",
              " 'каждый',\n",
              " 'день',\n",
              " 'человек',\n",
              " 'работать',\n",
              " 'часовой',\n",
              " 'смена',\n",
              " 'многие',\n",
              " 'возвращаться',\n",
              " 'очень',\n",
              " 'поздно',\n",
              " 'дать',\n",
              " 'проблема',\n",
              " 'улица',\n",
              " 'посёлок',\n",
              " 'nbsp',\n",
              " 'p',\n",
              " 'администрация',\n",
              " 'курчатовский',\n",
              " 'район']"
            ]
          },
          "metadata": {},
          "execution_count": 85
        }
      ]
    },
    {
      "cell_type": "markdown",
      "source": [
        "## Мешок слов\n",
        "\n",
        "Мешок слов (bag-of-words) — упрощенное представление текста, которое используется в обработке естественных языков и информационном поиске. В этой модели текст представляется в виде множества его слов без какого-либо учета грамматики и порядка слов, но с сохранением информации об их количестве.\n"
      ],
      "metadata": {
        "id": "V9-nRJa3TcmI"
      }
    },
    {
      "cell_type": "code",
      "source": [
        "# Создание матрицы признаков на основе мешка слов\n",
        "count = CountVectorizer()\n",
        "bag_of_words = count.fit_transform(test_df['text_lemmed'])\n",
        "bag_of_words.toarray()"
      ],
      "metadata": {
        "colab": {
          "base_uri": "https://localhost:8080/"
        },
        "outputId": "e61fe821-dec5-4d57-f2a3-8b95b3d8086a",
        "id": "pdFZroESTcmJ"
      },
      "execution_count": 86,
      "outputs": [
        {
          "output_type": "execute_result",
          "data": {
            "text/plain": [
              "array([[0, 0, 0, ..., 0, 0, 0],\n",
              "       [0, 0, 0, ..., 0, 0, 0],\n",
              "       [0, 0, 0, ..., 0, 0, 0],\n",
              "       ...,\n",
              "       [0, 0, 0, ..., 0, 0, 0],\n",
              "       [0, 0, 0, ..., 0, 0, 0],\n",
              "       [0, 0, 0, ..., 0, 0, 0]])"
            ]
          },
          "metadata": {},
          "execution_count": 86
        }
      ]
    },
    {
      "cell_type": "code",
      "source": [
        "count.get_feature_names_out()  # Вывод имен признаков"
      ],
      "metadata": {
        "colab": {
          "base_uri": "https://localhost:8080/"
        },
        "outputId": "91b405ee-b3cb-4e0a-956c-f4ae7726b627",
        "id": "-bK_OgZqTcmK"
      },
      "execution_count": 87,
      "outputs": [
        {
          "output_type": "execute_result",
          "data": {
            "text/plain": [
              "array(['abesedino', 'align', 'amp', ..., 'ёлка', 'ёлочка', 'ёлочный'],\n",
              "      dtype=object)"
            ]
          },
          "metadata": {},
          "execution_count": 87
        }
      ]
    },
    {
      "cell_type": "code",
      "source": [
        "# Создание матрицы признаков для 2-грамм\n",
        "count_2gram = CountVectorizer(ngram_range=(2,2))\n",
        "bag_of_2grams = count_2gram.fit_transform(test_df['text_lemmed'])\n",
        "bag_of_2grams.toarray()"
      ],
      "metadata": {
        "colab": {
          "base_uri": "https://localhost:8080/"
        },
        "outputId": "cd8a54e4-03d7-4663-bc66-4b29c69794de",
        "id": "LIuwB-euTcmK"
      },
      "execution_count": 88,
      "outputs": [
        {
          "output_type": "execute_result",
          "data": {
            "text/plain": [
              "array([[0, 0, 0, ..., 0, 0, 0],\n",
              "       [0, 0, 0, ..., 0, 0, 0],\n",
              "       [0, 0, 0, ..., 0, 0, 0],\n",
              "       ...,\n",
              "       [0, 0, 0, ..., 0, 0, 0],\n",
              "       [0, 0, 0, ..., 0, 0, 0],\n",
              "       [0, 0, 0, ..., 0, 0, 0]])"
            ]
          },
          "metadata": {},
          "execution_count": 88
        }
      ]
    },
    {
      "cell_type": "code",
      "source": [
        "count_2gram.get_feature_names_out()  # Вывод имен признаков"
      ],
      "metadata": {
        "colab": {
          "base_uri": "https://localhost:8080/"
        },
        "outputId": "23f489a2-be1d-4b86-8079-cd7dae269c37",
        "id": "rG0ZYzNiTcmL"
      },
      "execution_count": 89,
      "outputs": [
        {
          "output_type": "execute_result",
          "data": {
            "text/plain": [
              "array(['abesedino mail', 'align center', 'align justify', ...,\n",
              "       'ёлочка nbsp', 'ёлочный игрушка', 'ёлочный шар'], dtype=object)"
            ]
          },
          "metadata": {},
          "execution_count": 89
        }
      ]
    },
    {
      "cell_type": "markdown",
      "source": [
        "## Взвешивание важности слов - TF-IDF\n",
        "\n",
        "TF-IDF (TF — term frequency, IDF — inverse document frequency) — статистическая мера, используемая для оценки важности слова в контексте документа, являющегося частью коллекции документов или корпуса. Вес некоторого слова (от 0 до 1) пропорционален частоте употребления этого слова в документе и обратно пропорционален частоте употребления слова во всех документах коллекции.\n",
        "\n",
        "Мера TF-IDF часто используется в задачах анализа текстов и информационного поиска, например, как один из критериев релевантности документа поисковому запросу, при расчёте меры близости документов при кластеризации или классификации."
      ],
      "metadata": {
        "id": "gtYPsV5qTcmM"
      }
    },
    {
      "cell_type": "code",
      "source": [
        "# Создание матрицы признаков\n",
        "tfidf = TfidfVectorizer()\n",
        "feature_matrix = tfidf.fit_transform(test_df['text_lemmed'])\n",
        "feature_matrix.toarray()"
      ],
      "metadata": {
        "colab": {
          "base_uri": "https://localhost:8080/"
        },
        "outputId": "b711fb7d-0552-42ab-9153-a2b680c65d5c",
        "id": "A5zhUQtbTcmN"
      },
      "execution_count": 90,
      "outputs": [
        {
          "output_type": "execute_result",
          "data": {
            "text/plain": [
              "array([[0., 0., 0., ..., 0., 0., 0.],\n",
              "       [0., 0., 0., ..., 0., 0., 0.],\n",
              "       [0., 0., 0., ..., 0., 0., 0.],\n",
              "       ...,\n",
              "       [0., 0., 0., ..., 0., 0., 0.],\n",
              "       [0., 0., 0., ..., 0., 0., 0.],\n",
              "       [0., 0., 0., ..., 0., 0., 0.]])"
            ]
          },
          "metadata": {},
          "execution_count": 90
        }
      ]
    },
    {
      "cell_type": "markdown",
      "source": [
        "## Финальный датасет"
      ],
      "metadata": {
        "id": "FEUGyybdTcmO"
      }
    },
    {
      "cell_type": "code",
      "source": [
        "test_df"
      ],
      "metadata": {
        "colab": {
          "base_uri": "https://localhost:8080/",
          "height": 659
        },
        "id": "a7NJsP2PDszL",
        "outputId": "66bf71ea-1dae-4884-b7bf-1b93ec5c02be"
      },
      "execution_count": 94,
      "outputs": [
        {
          "output_type": "execute_result",
          "data": {
            "text/plain": [
              "                                                  text  \\\n",
              "0    <p>Здравствуйте. На улице Мира &nbsp;было заме...   \n",
              "1    <p>Уже вторую неделю не горит уличное освещени...   \n",
              "2    Не работает освещение во дворе дома 11а по Эне...   \n",
              "3    После покоса сорной растительности на газоне м...   \n",
              "4    <p>Прошу принять меры к водителю маршрута 263:...   \n",
              "..                                                 ...   \n",
              "995  Добрый день! Я и моя семья жители пос Волокно,...   \n",
              "996  На Лазарева 5 г.Щигры ветка тополя скоро выбье...   \n",
              "997  Перед входом  Комитет образования  Курска  ямы...   \n",
              "998  <p>Доброго времени суток</p><p>У меня на пол г...   \n",
              "999  Добрый день, я многодетная мама. Младшему ребё...   \n",
              "\n",
              "                                        text_processed  \\\n",
              "0     p здравствуйте на улице мира nbsp было замене...   \n",
              "1     p уже вторую неделю не горит уличное освещени...   \n",
              "2    не работает освещение во дворе дома а по энерг...   \n",
              "3    после покоса сорной растительности на газоне м...   \n",
              "4     p прошу принять меры к водителю маршрута пос ...   \n",
              "..                                                 ...   \n",
              "995  добрый день я и моя семья жители пос волокно м...   \n",
              "996  на лазарева г щигры ветка тополя скоро выбьет ...   \n",
              "997  перед входом комитет образования курска ямы на...   \n",
              "998   p доброго времени суток p p у меня на пол год...   \n",
              "999  добрый день я многодетная мама младшему ребёнк...   \n",
              "\n",
              "                                          text_stemmed  \\\n",
              "0    p здравств улиц мир nbsp замен наружн освещен ...   \n",
              "1    p втор недел гор уличн освещен p p nbsp p коми...   \n",
              "2    работа освещен двор дом энергетик светов опор ...   \n",
              "3    покос сорн растительн газон тротуар проезж час...   \n",
              "4    p прош приня мер водител маршрут пос северн со...   \n",
              "..                                                 ...   \n",
              "995  добр ден сем жител пос волокн просыпа засыпа у...   \n",
              "996  лазарев г щигр ветк топол скор выбьет стекл ба...   \n",
              "997  вход комитет образован курск ям дорог комитет ...   \n",
              "998  p добр времен суток p p пол год медотвод вакци...   \n",
              "999  добр ден многодетн мам младш ребенк год жив г ...   \n",
              "\n",
              "                                           text_lemmed  \n",
              "0    p здравствуйте улица мир nbsp заменить наружно...  \n",
              "1    p второй неделя гореть уличный освещение p p n...  \n",
              "2    работать освещение двор дом энергетик световой...  \n",
              "3    покос сорный растительность газон тротуар прое...  \n",
              "4    p просить принять мера водитель маршрут пос се...  \n",
              "..                                                 ...  \n",
              "995  добрый день семья житель пос волокно просыпать...  \n",
              "996  лазарев г щигры ветка тополь скоро выбить стек...  \n",
              "997  вход комитет образование курск ям дорога комит...  \n",
              "998  p добрый время сутки p p пол год медотвод вакц...  \n",
              "999  добрый день многодетный мама младший ребёнок г...  \n",
              "\n",
              "[1000 rows x 4 columns]"
            ],
            "text/html": [
              "\n",
              "  <div id=\"df-8b461a5a-dbd5-4dc6-9061-a1454074f545\">\n",
              "    <div class=\"colab-df-container\">\n",
              "      <div>\n",
              "<style scoped>\n",
              "    .dataframe tbody tr th:only-of-type {\n",
              "        vertical-align: middle;\n",
              "    }\n",
              "\n",
              "    .dataframe tbody tr th {\n",
              "        vertical-align: top;\n",
              "    }\n",
              "\n",
              "    .dataframe thead th {\n",
              "        text-align: right;\n",
              "    }\n",
              "</style>\n",
              "<table border=\"1\" class=\"dataframe\">\n",
              "  <thead>\n",
              "    <tr style=\"text-align: right;\">\n",
              "      <th></th>\n",
              "      <th>text</th>\n",
              "      <th>text_processed</th>\n",
              "      <th>text_stemmed</th>\n",
              "      <th>text_lemmed</th>\n",
              "    </tr>\n",
              "  </thead>\n",
              "  <tbody>\n",
              "    <tr>\n",
              "      <th>0</th>\n",
              "      <td>&lt;p&gt;Здравствуйте. На улице Мира &amp;nbsp;было заме...</td>\n",
              "      <td>p здравствуйте на улице мира nbsp было замене...</td>\n",
              "      <td>p здравств улиц мир nbsp замен наружн освещен ...</td>\n",
              "      <td>p здравствуйте улица мир nbsp заменить наружно...</td>\n",
              "    </tr>\n",
              "    <tr>\n",
              "      <th>1</th>\n",
              "      <td>&lt;p&gt;Уже вторую неделю не горит уличное освещени...</td>\n",
              "      <td>p уже вторую неделю не горит уличное освещени...</td>\n",
              "      <td>p втор недел гор уличн освещен p p nbsp p коми...</td>\n",
              "      <td>p второй неделя гореть уличный освещение p p n...</td>\n",
              "    </tr>\n",
              "    <tr>\n",
              "      <th>2</th>\n",
              "      <td>Не работает освещение во дворе дома 11а по Эне...</td>\n",
              "      <td>не работает освещение во дворе дома а по энерг...</td>\n",
              "      <td>работа освещен двор дом энергетик светов опор ...</td>\n",
              "      <td>работать освещение двор дом энергетик световой...</td>\n",
              "    </tr>\n",
              "    <tr>\n",
              "      <th>3</th>\n",
              "      <td>После покоса сорной растительности на газоне м...</td>\n",
              "      <td>после покоса сорной растительности на газоне м...</td>\n",
              "      <td>покос сорн растительн газон тротуар проезж час...</td>\n",
              "      <td>покос сорный растительность газон тротуар прое...</td>\n",
              "    </tr>\n",
              "    <tr>\n",
              "      <th>4</th>\n",
              "      <td>&lt;p&gt;Прошу принять меры к водителю маршрута 263:...</td>\n",
              "      <td>p прошу принять меры к водителю маршрута пос ...</td>\n",
              "      <td>p прош приня мер водител маршрут пос северн со...</td>\n",
              "      <td>p просить принять мера водитель маршрут пос се...</td>\n",
              "    </tr>\n",
              "    <tr>\n",
              "      <th>...</th>\n",
              "      <td>...</td>\n",
              "      <td>...</td>\n",
              "      <td>...</td>\n",
              "      <td>...</td>\n",
              "    </tr>\n",
              "    <tr>\n",
              "      <th>995</th>\n",
              "      <td>Добрый день! Я и моя семья жители пос Волокно,...</td>\n",
              "      <td>добрый день я и моя семья жители пос волокно м...</td>\n",
              "      <td>добр ден сем жител пос волокн просыпа засыпа у...</td>\n",
              "      <td>добрый день семья житель пос волокно просыпать...</td>\n",
              "    </tr>\n",
              "    <tr>\n",
              "      <th>996</th>\n",
              "      <td>На Лазарева 5 г.Щигры ветка тополя скоро выбье...</td>\n",
              "      <td>на лазарева г щигры ветка тополя скоро выбьет ...</td>\n",
              "      <td>лазарев г щигр ветк топол скор выбьет стекл ба...</td>\n",
              "      <td>лазарев г щигры ветка тополь скоро выбить стек...</td>\n",
              "    </tr>\n",
              "    <tr>\n",
              "      <th>997</th>\n",
              "      <td>Перед входом  Комитет образования  Курска  ямы...</td>\n",
              "      <td>перед входом комитет образования курска ямы на...</td>\n",
              "      <td>вход комитет образован курск ям дорог комитет ...</td>\n",
              "      <td>вход комитет образование курск ям дорога комит...</td>\n",
              "    </tr>\n",
              "    <tr>\n",
              "      <th>998</th>\n",
              "      <td>&lt;p&gt;Доброго времени суток&lt;/p&gt;&lt;p&gt;У меня на пол г...</td>\n",
              "      <td>p доброго времени суток p p у меня на пол год...</td>\n",
              "      <td>p добр времен суток p p пол год медотвод вакци...</td>\n",
              "      <td>p добрый время сутки p p пол год медотвод вакц...</td>\n",
              "    </tr>\n",
              "    <tr>\n",
              "      <th>999</th>\n",
              "      <td>Добрый день, я многодетная мама. Младшему ребё...</td>\n",
              "      <td>добрый день я многодетная мама младшему ребёнк...</td>\n",
              "      <td>добр ден многодетн мам младш ребенк год жив г ...</td>\n",
              "      <td>добрый день многодетный мама младший ребёнок г...</td>\n",
              "    </tr>\n",
              "  </tbody>\n",
              "</table>\n",
              "<p>1000 rows × 4 columns</p>\n",
              "</div>\n",
              "      <button class=\"colab-df-convert\" onclick=\"convertToInteractive('df-8b461a5a-dbd5-4dc6-9061-a1454074f545')\"\n",
              "              title=\"Convert this dataframe to an interactive table.\"\n",
              "              style=\"display:none;\">\n",
              "        \n",
              "  <svg xmlns=\"http://www.w3.org/2000/svg\" height=\"24px\"viewBox=\"0 0 24 24\"\n",
              "       width=\"24px\">\n",
              "    <path d=\"M0 0h24v24H0V0z\" fill=\"none\"/>\n",
              "    <path d=\"M18.56 5.44l.94 2.06.94-2.06 2.06-.94-2.06-.94-.94-2.06-.94 2.06-2.06.94zm-11 1L8.5 8.5l.94-2.06 2.06-.94-2.06-.94L8.5 2.5l-.94 2.06-2.06.94zm10 10l.94 2.06.94-2.06 2.06-.94-2.06-.94-.94-2.06-.94 2.06-2.06.94z\"/><path d=\"M17.41 7.96l-1.37-1.37c-.4-.4-.92-.59-1.43-.59-.52 0-1.04.2-1.43.59L10.3 9.45l-7.72 7.72c-.78.78-.78 2.05 0 2.83L4 21.41c.39.39.9.59 1.41.59.51 0 1.02-.2 1.41-.59l7.78-7.78 2.81-2.81c.8-.78.8-2.07 0-2.86zM5.41 20L4 18.59l7.72-7.72 1.47 1.35L5.41 20z\"/>\n",
              "  </svg>\n",
              "      </button>\n",
              "      \n",
              "  <style>\n",
              "    .colab-df-container {\n",
              "      display:flex;\n",
              "      flex-wrap:wrap;\n",
              "      gap: 12px;\n",
              "    }\n",
              "\n",
              "    .colab-df-convert {\n",
              "      background-color: #E8F0FE;\n",
              "      border: none;\n",
              "      border-radius: 50%;\n",
              "      cursor: pointer;\n",
              "      display: none;\n",
              "      fill: #1967D2;\n",
              "      height: 32px;\n",
              "      padding: 0 0 0 0;\n",
              "      width: 32px;\n",
              "    }\n",
              "\n",
              "    .colab-df-convert:hover {\n",
              "      background-color: #E2EBFA;\n",
              "      box-shadow: 0px 1px 2px rgba(60, 64, 67, 0.3), 0px 1px 3px 1px rgba(60, 64, 67, 0.15);\n",
              "      fill: #174EA6;\n",
              "    }\n",
              "\n",
              "    [theme=dark] .colab-df-convert {\n",
              "      background-color: #3B4455;\n",
              "      fill: #D2E3FC;\n",
              "    }\n",
              "\n",
              "    [theme=dark] .colab-df-convert:hover {\n",
              "      background-color: #434B5C;\n",
              "      box-shadow: 0px 1px 3px 1px rgba(0, 0, 0, 0.15);\n",
              "      filter: drop-shadow(0px 1px 2px rgba(0, 0, 0, 0.3));\n",
              "      fill: #FFFFFF;\n",
              "    }\n",
              "  </style>\n",
              "\n",
              "      <script>\n",
              "        const buttonEl =\n",
              "          document.querySelector('#df-8b461a5a-dbd5-4dc6-9061-a1454074f545 button.colab-df-convert');\n",
              "        buttonEl.style.display =\n",
              "          google.colab.kernel.accessAllowed ? 'block' : 'none';\n",
              "\n",
              "        async function convertToInteractive(key) {\n",
              "          const element = document.querySelector('#df-8b461a5a-dbd5-4dc6-9061-a1454074f545');\n",
              "          const dataTable =\n",
              "            await google.colab.kernel.invokeFunction('convertToInteractive',\n",
              "                                                     [key], {});\n",
              "          if (!dataTable) return;\n",
              "\n",
              "          const docLinkHtml = 'Like what you see? Visit the ' +\n",
              "            '<a target=\"_blank\" href=https://colab.research.google.com/notebooks/data_table.ipynb>data table notebook</a>'\n",
              "            + ' to learn more about interactive tables.';\n",
              "          element.innerHTML = '';\n",
              "          dataTable['output_type'] = 'display_data';\n",
              "          await google.colab.output.renderOutput(dataTable, element);\n",
              "          const docLink = document.createElement('div');\n",
              "          docLink.innerHTML = docLinkHtml;\n",
              "          element.appendChild(docLink);\n",
              "        }\n",
              "      </script>\n",
              "    </div>\n",
              "  </div>\n",
              "  "
            ]
          },
          "metadata": {},
          "execution_count": 94
        }
      ]
    },
    {
      "cell_type": "code",
      "source": [
        "test = test_df.drop(columns=['text', 'text_processed', 'text_stemmed'])"
      ],
      "metadata": {
        "id": "Su-ex4FVDxSk"
      },
      "execution_count": 95,
      "outputs": []
    },
    {
      "cell_type": "code",
      "source": [
        "test.head"
      ],
      "metadata": {
        "colab": {
          "base_uri": "https://localhost:8080/"
        },
        "id": "iB2m3EMmECwD",
        "outputId": "34f946b3-d8bd-497d-f3da-5834572354ae"
      },
      "execution_count": 96,
      "outputs": [
        {
          "output_type": "execute_result",
          "data": {
            "text/plain": [
              "<bound method NDFrame.head of                                            text_lemmed\n",
              "0    p здравствуйте улица мир nbsp заменить наружно...\n",
              "1    p второй неделя гореть уличный освещение p p n...\n",
              "2    работать освещение двор дом энергетик световой...\n",
              "3    покос сорный растительность газон тротуар прое...\n",
              "4    p просить принять мера водитель маршрут пос се...\n",
              "..                                                 ...\n",
              "995  добрый день семья житель пос волокно просыпать...\n",
              "996  лазарев г щигры ветка тополь скоро выбить стек...\n",
              "997  вход комитет образование курск ям дорога комит...\n",
              "998  p добрый время сутки p p пол год медотвод вакц...\n",
              "999  добрый день многодетный мама младший ребёнок г...\n",
              "\n",
              "[1000 rows x 1 columns]>"
            ]
          },
          "metadata": {},
          "execution_count": 96
        }
      ]
    },
    {
      "cell_type": "markdown",
      "source": [
        "# pred"
      ],
      "metadata": {
        "id": "_NQS0DQmVmRg"
      }
    },
    {
      "cell_type": "code",
      "source": [
        "# Матрица признаков\n",
        "test_df = test_df['text_lemmed']"
      ],
      "metadata": {
        "id": "p74rprUkTcmP"
      },
      "execution_count": 97,
      "outputs": []
    },
    {
      "cell_type": "code",
      "source": [
        "test_df"
      ],
      "metadata": {
        "colab": {
          "base_uri": "https://localhost:8080/"
        },
        "id": "fkNK2-MTDaEU",
        "outputId": "b5897320-0718-4ad0-f33f-e48cd9ad7a07"
      },
      "execution_count": 98,
      "outputs": [
        {
          "output_type": "execute_result",
          "data": {
            "text/plain": [
              "0      p здравствуйте улица мир nbsp заменить наружно...\n",
              "1      p второй неделя гореть уличный освещение p p n...\n",
              "2      работать освещение двор дом энергетик световой...\n",
              "3      покос сорный растительность газон тротуар прое...\n",
              "4      p просить принять мера водитель маршрут пос се...\n",
              "                             ...                        \n",
              "995    добрый день семья житель пос волокно просыпать...\n",
              "996    лазарев г щигры ветка тополь скоро выбить стек...\n",
              "997    вход комитет образование курск ям дорога комит...\n",
              "998    p добрый время сутки p p пол год медотвод вакц...\n",
              "999    добрый день многодетный мама младший ребёнок г...\n",
              "Name: text_lemmed, Length: 1000, dtype: object"
            ]
          },
          "metadata": {},
          "execution_count": 98
        }
      ]
    },
    {
      "cell_type": "code",
      "source": [
        "pred = logreg.predict(test_df) "
      ],
      "metadata": {
        "id": "qoB51_wQVb4m"
      },
      "execution_count": 99,
      "outputs": []
    },
    {
      "cell_type": "code",
      "source": [
        "Y_test2['Категория']=pd.DataFrame(pred)"
      ],
      "metadata": {
        "id": "a_9tskvSVOvL"
      },
      "execution_count": 100,
      "outputs": []
    },
    {
      "cell_type": "code",
      "source": [
        "Y_test2.head()"
      ],
      "metadata": {
        "colab": {
          "base_uri": "https://localhost:8080/",
          "height": 206
        },
        "outputId": "5f9550c5-6a06-436f-eb3c-e1569a72efaf",
        "id": "VzxN3dBRVOvL"
      },
      "execution_count": 102,
      "outputs": [
        {
          "output_type": "execute_result",
          "data": {
            "text/plain": [
              "     id  Категория\n",
              "0   843          3\n",
              "1  1422          3\n",
              "2  2782          3\n",
              "3  2704          3\n",
              "4     1          8"
            ],
            "text/html": [
              "\n",
              "  <div id=\"df-cc22f402-6109-4d74-bee7-2beae3fc5f92\">\n",
              "    <div class=\"colab-df-container\">\n",
              "      <div>\n",
              "<style scoped>\n",
              "    .dataframe tbody tr th:only-of-type {\n",
              "        vertical-align: middle;\n",
              "    }\n",
              "\n",
              "    .dataframe tbody tr th {\n",
              "        vertical-align: top;\n",
              "    }\n",
              "\n",
              "    .dataframe thead th {\n",
              "        text-align: right;\n",
              "    }\n",
              "</style>\n",
              "<table border=\"1\" class=\"dataframe\">\n",
              "  <thead>\n",
              "    <tr style=\"text-align: right;\">\n",
              "      <th></th>\n",
              "      <th>id</th>\n",
              "      <th>Категория</th>\n",
              "    </tr>\n",
              "  </thead>\n",
              "  <tbody>\n",
              "    <tr>\n",
              "      <th>0</th>\n",
              "      <td>843</td>\n",
              "      <td>3</td>\n",
              "    </tr>\n",
              "    <tr>\n",
              "      <th>1</th>\n",
              "      <td>1422</td>\n",
              "      <td>3</td>\n",
              "    </tr>\n",
              "    <tr>\n",
              "      <th>2</th>\n",
              "      <td>2782</td>\n",
              "      <td>3</td>\n",
              "    </tr>\n",
              "    <tr>\n",
              "      <th>3</th>\n",
              "      <td>2704</td>\n",
              "      <td>3</td>\n",
              "    </tr>\n",
              "    <tr>\n",
              "      <th>4</th>\n",
              "      <td>1</td>\n",
              "      <td>8</td>\n",
              "    </tr>\n",
              "  </tbody>\n",
              "</table>\n",
              "</div>\n",
              "      <button class=\"colab-df-convert\" onclick=\"convertToInteractive('df-cc22f402-6109-4d74-bee7-2beae3fc5f92')\"\n",
              "              title=\"Convert this dataframe to an interactive table.\"\n",
              "              style=\"display:none;\">\n",
              "        \n",
              "  <svg xmlns=\"http://www.w3.org/2000/svg\" height=\"24px\"viewBox=\"0 0 24 24\"\n",
              "       width=\"24px\">\n",
              "    <path d=\"M0 0h24v24H0V0z\" fill=\"none\"/>\n",
              "    <path d=\"M18.56 5.44l.94 2.06.94-2.06 2.06-.94-2.06-.94-.94-2.06-.94 2.06-2.06.94zm-11 1L8.5 8.5l.94-2.06 2.06-.94-2.06-.94L8.5 2.5l-.94 2.06-2.06.94zm10 10l.94 2.06.94-2.06 2.06-.94-2.06-.94-.94-2.06-.94 2.06-2.06.94z\"/><path d=\"M17.41 7.96l-1.37-1.37c-.4-.4-.92-.59-1.43-.59-.52 0-1.04.2-1.43.59L10.3 9.45l-7.72 7.72c-.78.78-.78 2.05 0 2.83L4 21.41c.39.39.9.59 1.41.59.51 0 1.02-.2 1.41-.59l7.78-7.78 2.81-2.81c.8-.78.8-2.07 0-2.86zM5.41 20L4 18.59l7.72-7.72 1.47 1.35L5.41 20z\"/>\n",
              "  </svg>\n",
              "      </button>\n",
              "      \n",
              "  <style>\n",
              "    .colab-df-container {\n",
              "      display:flex;\n",
              "      flex-wrap:wrap;\n",
              "      gap: 12px;\n",
              "    }\n",
              "\n",
              "    .colab-df-convert {\n",
              "      background-color: #E8F0FE;\n",
              "      border: none;\n",
              "      border-radius: 50%;\n",
              "      cursor: pointer;\n",
              "      display: none;\n",
              "      fill: #1967D2;\n",
              "      height: 32px;\n",
              "      padding: 0 0 0 0;\n",
              "      width: 32px;\n",
              "    }\n",
              "\n",
              "    .colab-df-convert:hover {\n",
              "      background-color: #E2EBFA;\n",
              "      box-shadow: 0px 1px 2px rgba(60, 64, 67, 0.3), 0px 1px 3px 1px rgba(60, 64, 67, 0.15);\n",
              "      fill: #174EA6;\n",
              "    }\n",
              "\n",
              "    [theme=dark] .colab-df-convert {\n",
              "      background-color: #3B4455;\n",
              "      fill: #D2E3FC;\n",
              "    }\n",
              "\n",
              "    [theme=dark] .colab-df-convert:hover {\n",
              "      background-color: #434B5C;\n",
              "      box-shadow: 0px 1px 3px 1px rgba(0, 0, 0, 0.15);\n",
              "      filter: drop-shadow(0px 1px 2px rgba(0, 0, 0, 0.3));\n",
              "      fill: #FFFFFF;\n",
              "    }\n",
              "  </style>\n",
              "\n",
              "      <script>\n",
              "        const buttonEl =\n",
              "          document.querySelector('#df-cc22f402-6109-4d74-bee7-2beae3fc5f92 button.colab-df-convert');\n",
              "        buttonEl.style.display =\n",
              "          google.colab.kernel.accessAllowed ? 'block' : 'none';\n",
              "\n",
              "        async function convertToInteractive(key) {\n",
              "          const element = document.querySelector('#df-cc22f402-6109-4d74-bee7-2beae3fc5f92');\n",
              "          const dataTable =\n",
              "            await google.colab.kernel.invokeFunction('convertToInteractive',\n",
              "                                                     [key], {});\n",
              "          if (!dataTable) return;\n",
              "\n",
              "          const docLinkHtml = 'Like what you see? Visit the ' +\n",
              "            '<a target=\"_blank\" href=https://colab.research.google.com/notebooks/data_table.ipynb>data table notebook</a>'\n",
              "            + ' to learn more about interactive tables.';\n",
              "          element.innerHTML = '';\n",
              "          dataTable['output_type'] = 'display_data';\n",
              "          await google.colab.output.renderOutput(dataTable, element);\n",
              "          const docLink = document.createElement('div');\n",
              "          docLink.innerHTML = docLinkHtml;\n",
              "          element.appendChild(docLink);\n",
              "        }\n",
              "      </script>\n",
              "    </div>\n",
              "  </div>\n",
              "  "
            ]
          },
          "metadata": {},
          "execution_count": 102
        }
      ]
    },
    {
      "cell_type": "code",
      "source": [
        "Y_test2.to_csv(\"submit_k.csv\", index=False)"
      ],
      "metadata": {
        "id": "dxy1FG8WVOvL"
      },
      "execution_count": 103,
      "outputs": []
    },
    {
      "cell_type": "markdown",
      "source": [
        "## **Score = 0.776787**"
      ],
      "metadata": {
        "id": "LjLsfl2eWakW"
      }
    }
  ]
}